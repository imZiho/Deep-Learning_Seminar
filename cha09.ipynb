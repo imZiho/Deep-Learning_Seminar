{
  "nbformat": 4,
  "nbformat_minor": 0,
  "metadata": {
    "colab": {
      "provenance": [],
      "gpuType": "T4",
      "authorship_tag": "ABX9TyOvK2ay7bbeYTA6howwrAs6",
      "include_colab_link": true
    },
    "kernelspec": {
      "name": "python3",
      "display_name": "Python 3"
    },
    "language_info": {
      "name": "python"
    },
    "accelerator": "GPU"
  },
  "cells": [
    {
      "cell_type": "markdown",
      "metadata": {
        "id": "view-in-github",
        "colab_type": "text"
      },
      "source": [
        "<a href=\"https://colab.research.google.com/github/imZiho/Deep-Learning_Seminar/blob/main/cha09.ipynb\" target=\"_parent\"><img src=\"https://colab.research.google.com/assets/colab-badge.svg\" alt=\"Open In Colab\"/></a>"
      ]
    },
    {
      "cell_type": "markdown",
      "source": [
        "# 9장 CNN을 활용한 이미지 인식"
      ],
      "metadata": {
        "id": "6LgF3Lh3Zd0K"
      }
    },
    {
      "cell_type": "code",
      "source": [
        "!sudo apt-get install -y fonts-nanum* | tail -n 1\n",
        "!sudo fc-cache -fv\n",
        "!rm -rf ~/.cache/matplotlib"
      ],
      "metadata": {
        "colab": {
          "base_uri": "https://localhost:8080/"
        },
        "id": "5-CSKnklZfO6",
        "outputId": "1d5ba9ae-6636-46fa-c77b-c63a55e1624f"
      },
      "execution_count": 28,
      "outputs": [
        {
          "output_type": "stream",
          "name": "stdout",
          "text": [
            "0 upgraded, 0 newly installed, 0 to remove and 18 not upgraded.\n",
            "/usr/share/fonts: caching, new cache contents: 0 fonts, 1 dirs\n",
            "/usr/share/fonts/truetype: caching, new cache contents: 0 fonts, 3 dirs\n",
            "/usr/share/fonts/truetype/humor-sans: caching, new cache contents: 1 fonts, 0 dirs\n",
            "/usr/share/fonts/truetype/liberation: caching, new cache contents: 16 fonts, 0 dirs\n",
            "/usr/share/fonts/truetype/nanum: caching, new cache contents: 39 fonts, 0 dirs\n",
            "/usr/local/share/fonts: caching, new cache contents: 0 fonts, 0 dirs\n",
            "/root/.local/share/fonts: skipping, no such directory\n",
            "/root/.fonts: skipping, no such directory\n",
            "/usr/share/fonts/truetype: skipping, looped directory detected\n",
            "/usr/share/fonts/truetype/humor-sans: skipping, looped directory detected\n",
            "/usr/share/fonts/truetype/liberation: skipping, looped directory detected\n",
            "/usr/share/fonts/truetype/nanum: skipping, looped directory detected\n",
            "/var/cache/fontconfig: cleaning cache directory\n",
            "/root/.cache/fontconfig: not cleaning non-existent cache directory\n",
            "/root/.fontconfig: not cleaning non-existent cache directory\n",
            "fc-cache: succeeded\n"
          ]
        }
      ]
    },
    {
      "cell_type": "code",
      "source": [
        "# 필요 라이브러리 설치\n",
        "\n",
        "!pip install torchviz | tail -n 1\n",
        "!pip install torchinfo | tail -n 1"
      ],
      "metadata": {
        "colab": {
          "base_uri": "https://localhost:8080/"
        },
        "id": "xxLXE8eUZi5Q",
        "outputId": "95ac1777-989d-46b7-da84-ed8ef79b5574"
      },
      "execution_count": null,
      "outputs": [
        {
          "output_type": "stream",
          "name": "stdout",
          "text": [
            "Successfully installed torchviz-0.0.2\n",
            "Successfully installed torchinfo-1.8.0\n"
          ]
        }
      ]
    },
    {
      "cell_type": "code",
      "source": [
        "# 라이브러리 임포트\n",
        "\n",
        "%matplotlib inline\n",
        "import numpy as np\n",
        "import matplotlib.pyplot as plt\n",
        "from IPython.display import display\n",
        "\n",
        "# 폰트 관련 용도\n",
        "import matplotlib.font_manager as fm\n",
        "\n",
        "# 나눔 고딕 폰트의 경로 명시\n",
        "path = '/usr/share/fonts/truetype/nanum/NanumGothic.ttf'\n",
        "font_name = fm.FontProperties(fname=path, size=10).get_name()"
      ],
      "metadata": {
        "id": "dmxPre25Zk4h"
      },
      "execution_count": null,
      "outputs": []
    },
    {
      "cell_type": "code",
      "source": [
        "# 파이토치 관련 라이브러리\n",
        "\n",
        "import torch\n",
        "import torch.nn as nn\n",
        "import torch.optim as optim\n",
        "from torchinfo import summary\n",
        "from torchviz import make_dot\n",
        "import torchvision.datasets as datasets\n",
        "import torchvision.transforms as transforms\n",
        "from torch.utils.data import DataLoader"
      ],
      "metadata": {
        "id": "Ak2J0KUdZnOI"
      },
      "execution_count": null,
      "outputs": []
    },
    {
      "cell_type": "code",
      "source": [
        "# warning 표시 끄기\n",
        "import warnings\n",
        "warnings.simplefilter('ignore')\n",
        "\n",
        "# 기본 폰트 설정\n",
        "plt.rcParams['font.family'] = font_name\n",
        "\n",
        "# 기본 폰트 사이즈 변경\n",
        "plt.rcParams['font.size'] = 14\n",
        "\n",
        "# 기본 그래프 사이즈 변경\n",
        "plt.rcParams['figure.figsize'] = (6,6)\n",
        "\n",
        "# 기본 그리드 표시\n",
        "# 필요에 따라 설정할 때는, plt.grid()\n",
        "plt.rcParams['axes.grid'] = True\n",
        "\n",
        "# 마이너스 기호 정상 출력\n",
        "plt.rcParams['axes.unicode_minus'] = False\n",
        "\n",
        "# 넘파이 부동소수점 자릿수 표시\n",
        "np.set_printoptions(suppress=True, precision=4)"
      ],
      "metadata": {
        "id": "0BZ2Vb7IZoGR"
      },
      "execution_count": null,
      "outputs": []
    },
    {
      "cell_type": "markdown",
      "source": [
        "CNN을 특징짓는 것은 합성곱의 처리와 풀링처리이다.\n",
        "\n",
        "합성곱의 처리는 CNN의 핵심 구성 요소 중 하나로, 이 층은 입력 이미지에 대한 작은 필터(커널)를 슬라이딩하면서 이미지의 특징을 감지한다.\n",
        "\n",
        "각 필터는 입력 이미지와 내적 연산을 수행하여 특정 패턴이나 특징을 찾아낸다\n",
        "\n",
        "\n",
        "여러 개의 필터가 사용되며, 각각은 서로 다른 특징을 검출하도록 학습된다."
      ],
      "metadata": {
        "id": "8guIlmqHMJYE"
      }
    },
    {
      "cell_type": "markdown",
      "source": [
        "풀링 층 (Pooling Layer):\n",
        "\n",
        "풀링 층은 공간 차원(너비와 높이)을 줄이는 역할을 한다.\n",
        "\n",
        "주로 최대 풀링(Max Pooling)이 사용되며, 특정 영역에서 가장 큰 값을 선택하여 정보를 압축한다.\n",
        "\n",
        "이를 통해 계산량을 줄이고, 모델이 공간적으로 불변한 특징을 학습할 수 있도록 돕는다."
      ],
      "metadata": {
        "id": "B7cBtW3vWhh1"
      }
    },
    {
      "cell_type": "markdown",
      "source": [
        "### GPU 확인하기"
      ],
      "metadata": {
        "id": "4ZFvijkMZsIR"
      }
    },
    {
      "cell_type": "code",
      "source": [
        "# 디바이스 할당\n",
        "\n",
        "device = torch.device(\"cuda:0\" if torch.cuda.is_available() else \"cpu\")\n",
        "print(device)"
      ],
      "metadata": {
        "id": "AVFcUFaqZqLF",
        "colab": {
          "base_uri": "https://localhost:8080/"
        },
        "outputId": "cc4faeca-e63b-4e4e-f5f5-6bfdfdb7bacd"
      },
      "execution_count": null,
      "outputs": [
        {
          "output_type": "stream",
          "name": "stdout",
          "text": [
            "cuda:0\n"
          ]
        }
      ]
    },
    {
      "cell_type": "markdown",
      "source": [
        "## 9.3 CNN의 처리 개요"
      ],
      "metadata": {
        "id": "MXSyl67OZu0u"
      }
    },
    {
      "cell_type": "code",
      "source": [
        "data_root = './data'\n",
        "\n",
        "# 샘플 손글씨 숫자 데이터 가져오기\n",
        "transform = transforms.Compose([\n",
        "    transforms.ToTensor(),\n",
        "])\n",
        "\n",
        "train_set = datasets.MNIST(\n",
        "    root = data_root,  train = True,\n",
        "    download = True, transform = transform)\n",
        "\n",
        "image, label = train_set[0]\n",
        "image = image.view(1,1,28,28)"
      ],
      "metadata": {
        "id": "l4ullhhSZxaj",
        "colab": {
          "base_uri": "https://localhost:8080/"
        },
        "outputId": "401752fb-0508-4fca-eda2-3c979b9581d0"
      },
      "execution_count": null,
      "outputs": [
        {
          "output_type": "stream",
          "name": "stdout",
          "text": [
            "Downloading http://yann.lecun.com/exdb/mnist/train-images-idx3-ubyte.gz\n",
            "Downloading http://yann.lecun.com/exdb/mnist/train-images-idx3-ubyte.gz to ./data/MNIST/raw/train-images-idx3-ubyte.gz\n"
          ]
        },
        {
          "output_type": "stream",
          "name": "stderr",
          "text": [
            "100%|██████████| 9912422/9912422 [00:00<00:00, 124748590.49it/s]"
          ]
        },
        {
          "output_type": "stream",
          "name": "stdout",
          "text": [
            "Extracting ./data/MNIST/raw/train-images-idx3-ubyte.gz to ./data/MNIST/raw\n"
          ]
        },
        {
          "output_type": "stream",
          "name": "stderr",
          "text": [
            "\n"
          ]
        },
        {
          "output_type": "stream",
          "name": "stdout",
          "text": [
            "\n",
            "Downloading http://yann.lecun.com/exdb/mnist/train-labels-idx1-ubyte.gz\n",
            "Downloading http://yann.lecun.com/exdb/mnist/train-labels-idx1-ubyte.gz to ./data/MNIST/raw/train-labels-idx1-ubyte.gz\n"
          ]
        },
        {
          "output_type": "stream",
          "name": "stderr",
          "text": [
            "100%|██████████| 28881/28881 [00:00<00:00, 62184647.75it/s]\n"
          ]
        },
        {
          "output_type": "stream",
          "name": "stdout",
          "text": [
            "Extracting ./data/MNIST/raw/train-labels-idx1-ubyte.gz to ./data/MNIST/raw\n",
            "\n",
            "Downloading http://yann.lecun.com/exdb/mnist/t10k-images-idx3-ubyte.gz\n",
            "Downloading http://yann.lecun.com/exdb/mnist/t10k-images-idx3-ubyte.gz to ./data/MNIST/raw/t10k-images-idx3-ubyte.gz\n"
          ]
        },
        {
          "output_type": "stream",
          "name": "stderr",
          "text": [
            "100%|██████████| 1648877/1648877 [00:00<00:00, 39790637.87it/s]\n"
          ]
        },
        {
          "output_type": "stream",
          "name": "stdout",
          "text": [
            "Extracting ./data/MNIST/raw/t10k-images-idx3-ubyte.gz to ./data/MNIST/raw\n",
            "\n",
            "Downloading http://yann.lecun.com/exdb/mnist/t10k-labels-idx1-ubyte.gz\n",
            "Downloading http://yann.lecun.com/exdb/mnist/t10k-labels-idx1-ubyte.gz to ./data/MNIST/raw/t10k-labels-idx1-ubyte.gz\n"
          ]
        },
        {
          "output_type": "stream",
          "name": "stderr",
          "text": [
            "100%|██████████| 4542/4542 [00:00<00:00, 5325839.75it/s]\n"
          ]
        },
        {
          "output_type": "stream",
          "name": "stdout",
          "text": [
            "Extracting ./data/MNIST/raw/t10k-labels-idx1-ubyte.gz to ./data/MNIST/raw\n",
            "\n"
          ]
        }
      ]
    },
    {
      "cell_type": "code",
      "source": [
        "# 대각선상에만 가중치를 갖는 특수한 합성곱 함수를 만듦\n",
        "conv1 = nn.Conv2d(1, 1, 3)      #  이 부분은 PyTorch의 nn.Conv2d 모듈을 사용하여 첫 번째 합성곱 층을 정의한다(입력채널,출력채널,필터의 크키)\n",
        "\n",
        "# bias를 0으로\n",
        "nn.init.constant_(conv1.bias, 0.0)\n",
        "\n",
        "# weight를 특수한 값으로\n",
        "w1_np = np.array([[0,0,1],[0,1,0],[1,0,0]])\n",
        "w1 = torch.tensor(w1_np).float()\n",
        "w1 = w1.view(1,1,3,3)   #합성곱 층에서 가중치 텐서의 형태는 (출력 채널 수, 입력 채널 수, 커널 높이, 커널 너비)여야 함. 여기에서는 출력 채널 및 입력 채널이 각각 1이므로 (1, 1, 3, 3) 형태로 변경\n",
        "conv1.weight.data = w1"
      ],
      "metadata": {
        "id": "9Aavu6ztW6G1"
      },
      "execution_count": null,
      "outputs": []
    },
    {
      "cell_type": "markdown",
      "source": [
        " PyTorch를 사용하여 합성곱 신경망(Convolutional Neural Network, CNN)의 첫 번째 합성곱 층을 정의하고 가중치(weight) 및 편향(bias)을 초기화하는 과정을 수행한다.\n",
        "\n",
        "##이 코드의 목적은 합성곱 층의 가중치와 편향을 특정 값으로 초기화하는 것.\n",
        "\n",
        "이렇게 초기화된 합성곱 층은 특정한 패턴을 감지하기 위해 사용될 것이며, 이 패턴은 가중치 w1에 정의된 대로 중앙에 1이 있는 패턴임."
      ],
      "metadata": {
        "id": "ARSPca0ugS6j"
      }
    },
    {
      "cell_type": "code",
      "source": [
        "# 손글씨 숫자에 3번 합성곱 처리를 함\n",
        "image, label = train_set[0]\n",
        "image = image.view(1,1,28,28)\n",
        "w1 = conv1(image)\n",
        "w2 = conv1(w1)\n",
        "w3 = conv1(w2)\n",
        "images = [image, w1, w2, w3]"
      ],
      "metadata": {
        "id": "QmD3DXLjW70w"
      },
      "execution_count": null,
      "outputs": []
    },
    {
      "cell_type": "code",
      "source": [
        "# 결과 화면 출력\n",
        "\n",
        "plt.figure(figsize=(5, 1))\n",
        "for i in range(4):\n",
        "    size = 28 - i*2\n",
        "    ax = plt.subplot(1, 4, i+1)\n",
        "    img = images[i].data.numpy()\n",
        "    plt.imshow(img.reshape(size, size),cmap='gray_r')\n",
        "    ax.get_xaxis().set_visible(False)\n",
        "    ax.get_yaxis().set_visible(False)\n",
        "plt.show()"
      ],
      "metadata": {
        "colab": {
          "base_uri": "https://localhost:8080/",
          "height": 114
        },
        "id": "hTRYMiKiW8ae",
        "outputId": "f3b7b538-f1be-4218-9516-9516fd3653ba"
      },
      "execution_count": null,
      "outputs": [
        {
          "output_type": "display_data",
          "data": {
            "text/plain": [
              "<Figure size 500x100 with 4 Axes>"
            ],
            "image/png": "[encoded data removed]"
          },
          "metadata": {}
        }
      ]
    },
    {
      "cell_type": "markdown",
      "source": [
        "## 9.4 파이토치에서 CNN을 구현하는 방법(여기서부터 책)"
      ],
      "metadata": {
        "id": "BjYM_BTvW_GL"
      }
    },
    {
      "cell_type": "markdown",
      "source": [
        "### nn.Conv2d 와 nn.MaxPool2d"
      ],
      "metadata": {
        "id": "T559E5tvXKmL"
      }
    },
    {
      "cell_type": "markdown",
      "source": [
        "nn.Conv2d는 PyTorch에서 제공하는 합성곱 연산(Convolutional Operation)을 수행하는 모듈이다.\n",
        "\n",
        "nn.MaxPool2d는 PyTorch에서 제공하는 최대 풀링(Max Pooling) 연산을 수행하는 모듈이다"
      ],
      "metadata": {
        "id": "dqQUWhpUrfQg"
      }
    },
    {
      "cell_type": "code",
      "source": [
        "# CNN 모델 전반 부분, 레이어 함수 정의\n",
        "\n",
        "conv1 = nn.Conv2d(3, 32, 3)     # 첫 번째 합성곱 층을 정의. nn.Conv2d 모듈의 사용법으로,(in_channels, out_channels, kernel_size) 여기서는 컬러이미지를 다루기에 3\n",
        "relu = nn.ReLU(inplace=True)    # inplace=True를 설정하면 활성화 함수가 입력 데이터를 직접 수정하고 추가 메모리를 사용하지 않도록 설정하는 것\n",
        "conv2 = nn.Conv2d(32, 32, 3)    # 두 번째 합성곱 층을 정의한다\n",
        "maxpool = nn.MaxPool2d((2,2))   # 최대 풀링(Max Pooling) 층을 정의한다(풀링 함수는 nn.Maxpool2d라는 레이어함수를 사용)"
      ],
      "metadata": {
        "id": "pwB1vIUEXAlV"
      },
      "execution_count": null,
      "outputs": []
    },
    {
      "cell_type": "markdown",
      "source": [
        "이 코드 조각은 일반적으로 CNN 모델의 초기 부분을 정의하며, 입력 이미지에서 특징을 추출하는 역할을 합니다.\n",
        "\n",
        "이후에는 이러한 레이어를 순서대로 쌓아 전체 CNN 아키텍처를 완성하게 됩니다."
      ],
      "metadata": {
        "id": "0kjIz2lQwVVh"
      }
    },
    {
      "cell_type": "code",
      "source": [
        "# conv1 확인\n",
        "print(conv1)\n",
        "\n",
        "# conv1 내부 변수의 shape 확인\n",
        "print(conv1.weight.shape)\n",
        "print(conv1.bias.shape)\n",
        "\n",
        "# conv2 내부 변수의 shape 확인\n",
        "print(conv2.weight.shape)\n",
        "print(conv2.bias.shape)"
      ],
      "metadata": {
        "colab": {
          "base_uri": "https://localhost:8080/"
        },
        "id": "GXWqdkEZXNot",
        "outputId": "c7db795a-65a5-4cab-9746-99143dc805f2"
      },
      "execution_count": null,
      "outputs": [
        {
          "output_type": "stream",
          "name": "stdout",
          "text": [
            "Conv2d(3, 32, kernel_size=(3, 3), stride=(1, 1))\n",
            "torch.Size([32, 3, 3, 3])\n",
            "torch.Size([32])\n",
            "torch.Size([32, 32, 3, 3])\n",
            "torch.Size([32])\n"
          ]
        }
      ]
    },
    {
      "cell_type": "markdown",
      "source": [
        "conv1.weight.shape을 사용하여 가중치 텐서의 shape를 확인할 수 있습니다.\n",
        "\n",
        "이 텐서의 shape는 (출력 채널 수, 입력 채널 수, 커널 높이, 커널 너비)입니다.\n",
        "\n",
        "\n",
        "conv1.bias.shape를 사용하여 편향 텐서의 shape를 확인할 수 있습니다. 편향 텐서의 shape는 (출력 채널 수,)입니다."
      ],
      "metadata": {
        "id": "XZQB9RMQwzj5"
      }
    },
    {
      "cell_type": "code",
      "source": [
        "# conv1의 weight[0]는 0번째 출력 채널의 가중치\n",
        "w = conv1.weight[0]   # conv1 레이어의 첫 번째 출력 채널에 해당하는 가중치 텐서를 가져와 w 변수에 할당한 후\n",
        "\n",
        "# weight[0]의 shape과 값 확인\n",
        "print(w.shape)    # w의 shape(크기)를 출력\n",
        "print(w.data.numpy())   #  w의 값을 NumPy 배열로 변환하여 출력"
      ],
      "metadata": {
        "colab": {
          "base_uri": "https://localhost:8080/"
        },
        "id": "B7A-RVW2XPU5",
        "outputId": "d1f7655a-f68a-452c-bae8-a578f87b6e38"
      },
      "execution_count": null,
      "outputs": [
        {
          "output_type": "stream",
          "name": "stdout",
          "text": [
            "torch.Size([3, 3, 3])\n",
            "[[[-0.0233  0.071   0.1894]\n",
            "  [ 0.0207 -0.1162  0.0113]\n",
            "  [-0.086  -0.1803 -0.1441]]\n",
            "\n",
            " [[ 0.1008  0.1156 -0.1013]\n",
            "  [-0.1597  0.0107 -0.1266]\n",
            "  [ 0.1264  0.1458  0.1656]]\n",
            "\n",
            " [[-0.0129  0.1528 -0.0333]\n",
            "  [-0.0648 -0.0062 -0.1073]\n",
            "  [-0.0462 -0.0676 -0.0764]]]\n"
          ]
        }
      ]
    },
    {
      "cell_type": "code",
      "source": [
        "# 더미로 입력과 같은 사이즈를 갖는 텐서를 생성\n",
        "inputs = torch.randn(100, 3, 32, 32)\n",
        "print(inputs.shape)"
      ],
      "metadata": {
        "colab": {
          "base_uri": "https://localhost:8080/"
        },
        "id": "WCXqEpDyXRAa",
        "outputId": "1e315ab0-e6f9-4d27-ce34-ec32b9332227"
      },
      "execution_count": null,
      "outputs": [
        {
          "output_type": "stream",
          "name": "stdout",
          "text": [
            "torch.Size([100, 3, 32, 32])\n"
          ]
        }
      ]
    },
    {
      "cell_type": "code",
      "source": [
        "# CNN 전반부 처리 시뮬레이션\n",
        "\n",
        "x1 = conv1(inputs)  # x1 = conv1(inputs): inputs를 첫 번째 합성곱 레이어 conv1에 전달하여 특징 맵 x1을 생성\n",
        "x2 = relu(x1)       # ReLU(Rectified Linear Unit) 활성화 함수를 적용하여 활성화된 특징 맵 x2를 생성\n",
        "x3 = conv2(x2)      # x2를 두 번째 합성곱 레이어 conv2에 전달하여 또 다른 특징 맵 x3을 생성\n",
        "x4 = relu(x3)       # x3에 다시 ReLU 활성화 함수를 적용하여 활성화된 특징 맵 x4을 생성\n",
        "x5 = maxpool(x4)    # x4에 최대 풀링(Max Pooling) 연산을 적용하여 최종 특징 맵 x5를 생성"
      ],
      "metadata": {
        "id": "HujIcQQRXTXq"
      },
      "execution_count": null,
      "outputs": []
    },
    {
      "cell_type": "code",
      "source": [
        "# 각 변수의 shape 확인\n",
        "\n",
        "print(inputs.shape)\n",
        "print(x1.shape)\n",
        "print(x2.shape)\n",
        "print(x3.shape)\n",
        "print(x4.shape)\n",
        "print(x5.shape)"
      ],
      "metadata": {
        "colab": {
          "base_uri": "https://localhost:8080/"
        },
        "id": "gSpVhg1yXVTR",
        "outputId": "9e9e8956-0be5-4ca2-b8fb-f955ccbf9254"
      },
      "execution_count": null,
      "outputs": [
        {
          "output_type": "stream",
          "name": "stdout",
          "text": [
            "torch.Size([100, 3, 32, 32])\n",
            "torch.Size([100, 32, 30, 30])\n",
            "torch.Size([100, 32, 30, 30])\n",
            "torch.Size([100, 32, 28, 28])\n",
            "torch.Size([100, 32, 28, 28])\n",
            "torch.Size([100, 32, 14, 14])\n"
          ]
        }
      ]
    },
    {
      "cell_type": "markdown",
      "source": [
        "### nn.Sequential"
      ],
      "metadata": {
        "id": "FKLiUOLGXXdF"
      }
    },
    {
      "cell_type": "code",
      "source": [
        "# 함수 정의\n",
        "features = nn.Sequential(\n",
        "    conv1,\n",
        "    relu,\n",
        "    conv2,\n",
        "    relu,\n",
        "    maxpool\n",
        ")"
      ],
      "metadata": {
        "id": "fb-jciTFXZNv"
      },
      "execution_count": null,
      "outputs": []
    },
    {
      "cell_type": "code",
      "source": [
        "# 동작 테스트\n",
        "outputs = features(inputs)\n",
        "\n",
        "# 결과 확인\n",
        "print(outputs.shape)"
      ],
      "metadata": {
        "colab": {
          "base_uri": "https://localhost:8080/"
        },
        "id": "9_8imFUlXa9l",
        "outputId": "ab1da396-796c-4fed-ed3a-c64f6ba8768e"
      },
      "execution_count": null,
      "outputs": [
        {
          "output_type": "stream",
          "name": "stdout",
          "text": [
            "torch.Size([100, 32, 14, 14])\n"
          ]
        }
      ]
    },
    {
      "cell_type": "markdown",
      "source": [
        "### nn.Flatten"
      ],
      "metadata": {
        "id": "40WEuJj6Xcri"
      }
    },
    {
      "cell_type": "code",
      "source": [
        "# 함수 정의\n",
        "flatten = nn.Flatten()\n",
        "\n",
        "# 동작 테스트\n",
        "outputs2 = flatten(outputs)\n",
        "\n",
        "# 결과 확인\n",
        "print(outputs.shape)\n",
        "print(outputs2.shape)"
      ],
      "metadata": {
        "colab": {
          "base_uri": "https://localhost:8080/"
        },
        "id": "jRjrpEpCXeLo",
        "outputId": "63b17c74-0b54-4857-b5c3-f89a74bb0cc9"
      },
      "execution_count": null,
      "outputs": [
        {
          "output_type": "stream",
          "name": "stdout",
          "text": [
            "torch.Size([100, 32, 14, 14])\n",
            "torch.Size([100, 6272])\n"
          ]
        }
      ]
    },
    {
      "cell_type": "markdown",
      "source": [
        "## 9.5 공통 함수 사용하기"
      ],
      "metadata": {
        "id": "01yoz_i1XpqM"
      }
    },
    {
      "cell_type": "markdown",
      "source": [
        "### eval_loss(손실 계산)"
      ],
      "metadata": {
        "id": "Hd-gaLfKXs_6"
      }
    },
    {
      "cell_type": "code",
      "source": [
        "# 손실 계산용\n",
        "def eval_loss(loader, device, net, criterion):\n",
        "\n",
        "    # 데이터로더에서 처음 한 개 세트를 가져옴\n",
        "    for images, labels in loader:\n",
        "        break\n",
        "\n",
        "    # 디바이스 할당\n",
        "    inputs = images.to(device)\n",
        "    labels = labels.to(device)\n",
        "\n",
        "    # 예측 계산\n",
        "    outputs = net(inputs)\n",
        "\n",
        "    # 손실 계산\n",
        "    loss = criterion(outputs, labels)\n",
        "\n",
        "    return loss"
      ],
      "metadata": {
        "id": "FQ2miWmAXubY"
      },
      "execution_count": null,
      "outputs": []
    },
    {
      "cell_type": "markdown",
      "source": [
        "### fit(학습)"
      ],
      "metadata": {
        "id": "3BSHvaf-Xwie"
      }
    },
    {
      "cell_type": "code",
      "source": [
        "# 학습용 함수\n",
        "def fit(net, optimizer, criterion, num_epochs, train_loader, test_loader, device, history):\n",
        "\n",
        "    # tqdm 라이브러리 임포트\n",
        "    from tqdm.notebook import tqdm\n",
        "\n",
        "    base_epochs = len(history)\n",
        "\n",
        "    for epoch in range(base_epochs, num_epochs+base_epochs):\n",
        "        train_loss = 0\n",
        "        train_acc = 0\n",
        "        val_loss = 0\n",
        "        val_acc = 0\n",
        "\n",
        "        # 훈련 페이즈\n",
        "        net.train()\n",
        "        count = 0\n",
        "\n",
        "        for inputs, labels in tqdm(train_loader):\n",
        "            count += len(labels)\n",
        "            inputs = inputs.to(device)\n",
        "            labels = labels.to(device)\n",
        "\n",
        "            # 경사 초기화\n",
        "            optimizer.zero_grad()\n",
        "\n",
        "            # 예측 계산\n",
        "            outputs = net(inputs)\n",
        "\n",
        "            # 손실 계산\n",
        "            loss = criterion(outputs, labels)\n",
        "            train_loss += loss.item()\n",
        "\n",
        "            # 경사 계산\n",
        "            loss.backward()\n",
        "\n",
        "            # 파라미터 수정\n",
        "            optimizer.step()\n",
        "\n",
        "            # 예측 라벨 산출\n",
        "            predicted = torch.max(outputs, 1)[1]\n",
        "\n",
        "            # 정답 건수 산출\n",
        "            train_acc += (predicted == labels).sum().item()\n",
        "\n",
        "            # 손실과 정확도 계산\n",
        "            avg_train_loss = train_loss / count\n",
        "            avg_train_acc = train_acc / count\n",
        "\n",
        "        # 예측 페이즈\n",
        "        net.eval()\n",
        "        count = 0\n",
        "\n",
        "        for inputs, labels in test_loader:\n",
        "            count += len(labels)\n",
        "            inputs = inputs.to(device)\n",
        "            labels = labels.to(device)\n",
        "\n",
        "            # 예측 계산\n",
        "            outputs = net(inputs)\n",
        "\n",
        "            # 손실 계산\n",
        "            loss = criterion(outputs, labels)\n",
        "            val_loss += loss.item()\n",
        "\n",
        "            # 예측 라벨 산출\n",
        "            predicted = torch.max(outputs, 1)[1]\n",
        "\n",
        "            # 정답 건수 산출\n",
        "            val_acc += (predicted == labels).sum().item()\n",
        "\n",
        "            # 손실과 정확도 계산\n",
        "            avg_val_loss = val_loss / count\n",
        "            avg_val_acc = val_acc / count\n",
        "\n",
        "        print (f'Epoch [{(epoch+1)}/{num_epochs+base_epochs}], loss: {avg_train_loss:.5f} acc: {avg_train_acc:.5f} val_loss: {avg_val_loss:.5f}, val_acc: {avg_val_acc:.5f}')\n",
        "        item = np.array([epoch+1, avg_train_loss, avg_train_acc, avg_val_loss, avg_val_acc])\n",
        "        history = np.vstack((history, item))\n",
        "    return history"
      ],
      "metadata": {
        "id": "MiH0wPp-Xzvm"
      },
      "execution_count": null,
      "outputs": []
    },
    {
      "cell_type": "markdown",
      "source": [
        "### eval_history(학습 로그)"
      ],
      "metadata": {
        "id": "cxDkQYAvXzFk"
      }
    },
    {
      "cell_type": "code",
      "source": [
        "# 학습 로그 해석\n",
        "\n",
        "def evaluate_history(history):\n",
        "    # 손실과 정확도 확인\n",
        "    print(f'초기상태 : 손실 : {history[0,3]:.5f}  정확도 : {history[0,4]:.5f}')\n",
        "    print(f'최종상태 : 손실 : {history[-1,3]:.5f}  정확도 : {history[-1,4]:.5f}' )\n",
        "\n",
        "    num_epochs = len(history)\n",
        "    unit = num_epochs / 10\n",
        "\n",
        "    # 학습 곡선 출력(손실)\n",
        "    plt.figure(figsize=(9,8))\n",
        "    plt.plot(history[:,0], history[:,1], 'b', label='훈련')\n",
        "    plt.plot(history[:,0], history[:,3], 'k', label='검증')\n",
        "    plt.xticks(np.arange(0,num_epochs+1, unit))\n",
        "    plt.xlabel('반복 횟수')\n",
        "    plt.ylabel('손실')\n",
        "    plt.title('학습 곡선(손실)')\n",
        "    plt.legend()\n",
        "    plt.show()\n",
        "\n",
        "    # 학습 곡선 출력(정확도)\n",
        "    plt.figure(figsize=(9,8))\n",
        "    plt.plot(history[:,0], history[:,2], 'b', label='훈련')\n",
        "    plt.plot(history[:,0], history[:,4], 'k', label='검증')\n",
        "    plt.xticks(np.arange(0,num_epochs+1,unit))\n",
        "    plt.xlabel('반복 횟수')\n",
        "    plt.ylabel('정확도')\n",
        "    plt.title('학습 곡선(정확도)')\n",
        "    plt.legend()\n",
        "    plt.show()"
      ],
      "metadata": {
        "id": "7aFrhOdZX2kd"
      },
      "execution_count": null,
      "outputs": []
    },
    {
      "cell_type": "markdown",
      "source": [
        "### show_images_labels(예측 결과 표시)"
      ],
      "metadata": {
        "id": "Tg1X2ry2X-bd"
      }
    },
    {
      "cell_type": "code",
      "source": [
        "# 이미지와 라벨 표시\n",
        "def show_images_labels(loader, classes, net, device):\n",
        "\n",
        "    # 데이터로더에서 처음 1세트를 가져오기\n",
        "    for images, labels in loader:\n",
        "        break\n",
        "    # 표시 수는 50개\n",
        "    n_size = min(len(images), 50)\n",
        "\n",
        "    if net is not None:\n",
        "      # 디바이스 할당\n",
        "      inputs = images.to(device)\n",
        "      labels = labels.to(device)\n",
        "\n",
        "      # 예측 계산\n",
        "      outputs = net(inputs)\n",
        "      predicted = torch.max(outputs,1)[1]\n",
        "      #images = images.to('cpu')\n",
        "\n",
        "    # 처음 n_size개 표시\n",
        "    plt.figure(figsize=(20, 15))\n",
        "    for i in range(n_size):\n",
        "        ax = plt.subplot(5, 10, i + 1)\n",
        "        label_name = classes[labels[i]]\n",
        "        # net이 None이 아닌 경우는 예측 결과도 타이틀에 표시함\n",
        "        if net is not None:\n",
        "          predicted_name = classes[predicted[i]]\n",
        "          # 정답인지 아닌지 색으로 구분함\n",
        "          if label_name == predicted_name:\n",
        "            c = 'k'\n",
        "          else:\n",
        "            c = 'b'\n",
        "          ax.set_title(label_name + ':' + predicted_name, c=c, fontsize=20)\n",
        "        # net이 None인 경우는 정답 라벨만 표시\n",
        "        else:\n",
        "          ax.set_title(label_name, fontsize=20)\n",
        "        # 텐서를 넘파이로 변환\n",
        "        image_np = images[i].numpy().copy()\n",
        "        # 축의 순서 변경 (channel, row, column) -> (row, column, channel)\n",
        "        img = np.transpose(image_np, (1, 2, 0))\n",
        "        # 값의 범위를[-1, 1] -> [0, 1]로 되돌림\n",
        "        img = (img + 1)/2\n",
        "        # 결과 표시\n",
        "        plt.imshow(img)\n",
        "        ax.set_axis_off()\n",
        "    plt.show()\n"
      ],
      "metadata": {
        "id": "g1sQKau_YBOJ"
      },
      "execution_count": null,
      "outputs": []
    },
    {
      "cell_type": "markdown",
      "source": [
        "### torch_seed(난수 초기화)"
      ],
      "metadata": {
        "id": "Lr8cqJqKYCTT"
      }
    },
    {
      "cell_type": "code",
      "source": [
        "# 파이토치 난수 고정\n",
        "\n",
        "def torch_seed(seed=123):\n",
        "    torch.manual_seed(seed)\n",
        "    torch.cuda.manual_seed(seed)\n",
        "    torch.backends.cudnn.deterministic = True\n",
        "    torch.use_deterministic_algorithms = True"
      ],
      "metadata": {
        "id": "YD4SQyE_YHtX"
      },
      "execution_count": 27,
      "outputs": []
    }
  ]
}