{
  "cells": [
    {
      "cell_type": "markdown",
      "metadata": {
        "id": "view-in-github",
        "colab_type": "text"
      },
      "source": [
        "<a href=\"https://colab.research.google.com/github/imZiho/Deep-Learning_Seminar/blob/main/MNIST%EB%A5%BC_%ED%99%9C%EC%9A%A9%ED%95%9C_%EC%88%AB%EC%9E%90_%EC%9D%B8%EC%8B%9D.ipynb\" target=\"_parent\"><img src=\"https://colab.research.google.com/assets/colab-badge.svg\" alt=\"Open In Colab\"/></a>"
      ]
    },
    {
      "cell_type": "markdown",
      "metadata": {
        "id": "P4me2Jza0UEC"
      },
      "source": [
        "# **MNIST 손글씨 숫자 데이터셋**"
      ]
    },
    {
      "cell_type": "code",
      "execution_count": null,
      "metadata": {
        "id": "DV8z41qVO0va"
      },
      "outputs": [],
      "source": [
        "!sudo apt-get install -y fonts-nanum* | tail -n 1\n",
        "!sudo fc-cache -fv\n",
        "!rm -rf ~/.cache/matplotlib"
      ]
    },
    {
      "cell_type": "code",
      "execution_count": null,
      "metadata": {
        "id": "9tFjDQuaO2u-"
      },
      "outputs": [],
      "source": [
        "# 필요 라이브러리 설치\n",
        "\n",
        "!pip install torchviz | tail -n 1\n",
        "!pip install torchinfo | tail -n 1"
      ]
    },
    {
      "cell_type": "code",
      "execution_count": null,
      "metadata": {
        "id": "a2Gq8vo3O4hx"
      },
      "outputs": [],
      "source": [
        "# 라이브러리 임포트\n",
        "\n",
        "%matplotlib inline\n",
        "import numpy as np\n",
        "import matplotlib.pyplot as plt\n",
        "from IPython.display import display\n",
        "\n",
        "# 폰트 관련 용도\n",
        "import matplotlib.font_manager as fm\n",
        "\n",
        "# 나눔 고딕 폰트의 경로 명시\n",
        "path = '/usr/share/fonts/truetype/nanum/NanumGothic.ttf'\n",
        "font_name = fm.FontProperties(fname=path, size=10).get_name()"
      ]
    },
    {
      "cell_type": "code",
      "execution_count": null,
      "metadata": {
        "id": "m73O5dNrO7tD"
      },
      "outputs": [],
      "source": [
        "# 파이토치 관련 라이브러리\n",
        "\n",
        "import torch\n",
        "import torch.nn as nn\n",
        "import torch.optim as optim\n",
        "from torchinfo import summary\n",
        "from torchviz import make_dot"
      ]
    },
    {
      "cell_type": "code",
      "execution_count": null,
      "metadata": {
        "id": "HCvrh1V3O9j8"
      },
      "outputs": [],
      "source": [
        "# 기본 폰트 설정\n",
        "plt.rcParams['font.family'] = font_name\n",
        "\n",
        "# 기본 폰트 사이즈 변경\n",
        "plt.rcParams['font.size'] = 14\n",
        "\n",
        "# 기본 그래프 사이즈 변경\n",
        "plt.rcParams['figure.figsize'] = (6,6)\n",
        "\n",
        "# 기본 그리드 표시\n",
        "# 필요에 따라 설정할 때는, plt.grid()\n",
        "plt.rcParams['axes.grid'] = True\n",
        "\n",
        "# 마이너스 기호 정상 출력\n",
        "plt.rcParams['axes.unicode_minus'] = False\n",
        "\n",
        "# 넘파이 부동소수점 자릿수 표시\n",
        "np.set_printoptions(suppress=True, precision=4)"
      ]
    },
    {
      "cell_type": "markdown",
      "metadata": {
        "id": "95h2qRvRPaO5"
      },
      "source": [
        "## 8.4 활성화 함수와 ReLU 함수"
      ]
    },
    {
      "cell_type": "markdown",
      "metadata": {
        "id": "c9cHVgm_PjbK"
      },
      "source": [
        "여기서는 RELU함수를 활성화 함수로 사용합니다.\n",
        "\n",
        "\n",
        "RELU함수는 현대 딥러닝 분야에서 가장 기초가 되는 함수입니다.\n",
        "\n",
        "\n",
        "\n",
        "RELU함수의 그래프를 출력한 후, 성질을 알아보겠습니다"
      ]
    },
    {
      "cell_type": "code",
      "execution_count": null,
      "metadata": {
        "id": "O9yALrOmPa5r"
      },
      "outputs": [],
      "source": [
        "# ReLU 함수의 그래프\n",
        "\n",
        "relu = nn.ReLU()\n",
        "x_np = np.arange(-2, 2.1, 0.25)\n",
        "x = torch.tensor(x_np).float()\n",
        "y = relu(x)\n",
        "\n",
        "plt.plot(x.data, y.data)\n",
        "plt.title('ReLU 함수')\n",
        "plt.show()        # 결과 확인: 입력값이 음수면 0으로, 양수값이면 그대로 흘려보내는 Y=X의 매우 간단한 함수"
      ]
    },
    {
      "cell_type": "markdown",
      "metadata": {
        "id": "TiAXBLBxUf5u"
      },
      "source": [
        "##GPU사용하기"
      ]
    },
    {
      "cell_type": "markdown",
      "metadata": {
        "id": "tLCUWNZJWTT2"
      },
      "source": [
        "**GPU디바이스 확인**\n",
        "\n",
        "현재 환경이 GPU를 사용할 수 있는 상태인지를 체크하고 결과를 device변수에 저장해서 확인\n"
      ]
    },
    {
      "cell_type": "code",
      "execution_count": null,
      "metadata": {
        "id": "1ERRL1cnUJK2"
      },
      "outputs": [],
      "source": [
        "# 디바이스 할당\n",
        "device = torch.device(\"cuda:0\" if torch.cuda.is_available() else \"cpu\")\n",
        "print(device)           # 결과 확인: cuda:0은 gpu가 사용가능할 때 출력 결과"
      ]
    },
    {
      "cell_type": "markdown",
      "metadata": {
        "id": "10Q3AYJ9YgGN"
      },
      "source": [
        "텐서변수 x,y를 정의한 다음,\n",
        "\n",
        "두 변수 간 연산결과를 z에 대입해서 확인"
      ]
    },
    {
      "cell_type": "code",
      "execution_count": null,
      "metadata": {
        "id": "cJYpKQkMWx7F"
      },
      "outputs": [],
      "source": [
        "# 텐서 변수 x, y\n",
        "x_np = np.arange(-2.0, 2.1, 0.25)\n",
        "y_np = np.arange(-1.0, 3.1, 0.25)\n",
        "x = torch.tensor(x_np).float()\n",
        "y = torch.tensor(y_np).float()\n",
        "\n",
        "# x와 y 사이의 연산\n",
        "z = x * y\n",
        "print(z)"
      ]
    },
    {
      "cell_type": "markdown",
      "metadata": {
        "id": "0uCY5mIHZvmy"
      },
      "source": [
        "\n",
        "\n",
        "**1.  텐서변수는 데이터 전송을 목적으로 to함수를 사용할 수 있으며, cpu상의 데이터를 gpu로, gpu상의 데이터를 cpu로 보낼 수 있다.**\n",
        "\n",
        "\n",
        "**2.   텐서변수는 device라는 속성을 가지며, 이 속성으로 자신이 CPU와 GPU 중 어디에 속하는지 확인할 수 있다**\n",
        "\n"
      ]
    },
    {
      "cell_type": "markdown",
      "metadata": {
        "id": "U-nfi_36a1-K"
      },
      "source": [
        "변수 X를 GPU로 보낸 다음, X와Y의 device속성을 확인해보면"
      ]
    },
    {
      "cell_type": "code",
      "execution_count": null,
      "metadata": {
        "id": "KYwcx9yvbEOa"
      },
      "outputs": [],
      "source": [
        "# 변수 x를 GPU로 보냄\n",
        "x = x.to(device)\n",
        "\n",
        "# 변수 x와 y의 디바이스 속성 확인\n",
        "print('x: ', x.device)\n",
        "print('y: ', y.device)      #결과확인: x와y는 서로 다른 곳에 속해있는 것을 확인가능 (x:GPU/ y:CPU)"
      ]
    },
    {
      "cell_type": "code",
      "execution_count": null,
      "metadata": {
        "id": "VgQNARDSbliJ"
      },
      "outputs": [],
      "source": [
        "# GPU상의 변수와 CPU상의 변수 간 연산 수행 시\n",
        "\n",
        "z = x * y       # 결과확인: 오류발생"
      ]
    },
    {
      "cell_type": "markdown",
      "metadata": {
        "id": "qCbba6HRbnED"
      },
      "source": [
        "**GPU사용규칙 중**\n",
        "\n",
        "**두 변수 중 한쪽이 CPU, 다른 한쪽이 GPU에 올라가 있는 경우, 연산은 에러를 발생시킨다**\n",
        "\n",
        "서로 다른 디바이스에 위치한 데이터 간 연산은 이처럼 런타임 에러를 발생시키는 것을 확인할 수있다.\n"
      ]
    },
    {
      "cell_type": "code",
      "execution_count": null,
      "metadata": {
        "id": "fCUh03Soc8r1"
      },
      "outputs": [],
      "source": [
        "# y도 GPU로 보냄\n",
        "y = y.to(device)\n",
        "\n",
        "# 연산이 가능해짐\n",
        "z = x * y\n",
        "print(z)"
      ]
    },
    {
      "cell_type": "markdown",
      "metadata": {
        "id": "kCmvvsrNfCTw"
      },
      "source": [
        "## 8.8 데이터 준비 1  (Dataset을 활용해 불러오기)"
      ]
    },
    {
      "cell_type": "markdown",
      "metadata": {
        "id": "_Dk--3pcokA2"
      },
      "source": [
        "\n",
        "\n",
        "1.   데이터 입수\n",
        "2.   데이터 전처리\n",
        "3.   미니 배치용 데이터셋 생성\n",
        "\n"
      ]
    },
    {
      "cell_type": "markdown",
      "metadata": {
        "id": "dU4BOhEtrwLA"
      },
      "source": [
        "데이터 가져오기"
      ]
    },
    {
      "cell_type": "code",
      "execution_count": null,
      "metadata": {
        "id": "aMxQm618fDCf"
      },
      "outputs": [],
      "source": [
        "# 라이브러리 임포트\n",
        "import torchvision.datasets as datasets\n",
        "\n",
        "# 다운로드받을 디렉터리명\n",
        "data_root = './data'\n",
        "\n",
        "train_set0 = datasets.MNIST(\n",
        "    # 원본 데이터를 다운로드받을 디렉터리 지정\n",
        "    root = data_root,\n",
        "    # 훈련 데이터인지 또는 검증 데이터인지\n",
        "    train = True,\n",
        "    # 원본 데이터가 없는 경우, 다운로드를 실행하는지 여부\n",
        "    download = True)"
      ]
    },
    {
      "cell_type": "markdown",
      "metadata": {
        "id": "sr5qM179rz8Q"
      },
      "source": [
        "데이터가 어떤 형태로 다운로드됐는지 확인"
      ]
    },
    {
      "cell_type": "code",
      "execution_count": null,
      "metadata": {
        "id": "coxOmMBFp47Q"
      },
      "outputs": [],
      "source": [
        "# 다운로드한 파일 확인\n",
        "\n",
        "!ls -lR ./data/MNIST        #이 결과는 MNIST 데이터셋을 구성하는 이미지와 레이블 데이터 파일의 크기와 압축 여부 등을 보여주고 있습니다."
      ]
    },
    {
      "cell_type": "markdown",
      "metadata": {
        "id": "MWun06BxsOxD"
      },
      "source": [
        "**참고**\n",
        "\n",
        "\n",
        "!ls -lR ./data/MNIST은 리눅스나 유닉스 기반의 명령어로,\n",
        "\n",
        "현재 디렉터리에서 시작하여 ./data/MNIST 디렉터리 아래에 있는 모든 파일과 하위 디렉터리의 내용을 재귀적으로 리스트 형식으로 출력하는 명령입니다.\n",
        "\n",
        "이 명령을 사용하면 딥러닝 모델에서 사용할 데이터가 어떤 구조로 저장되었는지 확인할 수 있습니다."
      ]
    },
    {
      "cell_type": "code",
      "execution_count": null,
      "metadata": {
        "id": "gm2NdiZhp_3e"
      },
      "outputs": [],
      "source": [
        "# 데이터 건수 확인\n",
        "print('데이터 건수: ', len(train_set0))\n",
        "\n",
        "# 첫번째 요소 가져오기\n",
        "image, label = train_set0[0]\n",
        "\n",
        "# 데이터 타입 확인\n",
        "print('입력 데이터 타입 : ', type(image))         # len()함수를 이용하여 확인해보면 훈련용 데이터셋이 총 6만건임을 확인할 수 있다.\n",
        "print('정답 데이터 타입 : ', type(label))"
      ]
    },
    {
      "cell_type": "code",
      "execution_count": null,
      "metadata": {
        "id": "peuTto34qBv-"
      },
      "outputs": [],
      "source": [
        "# 입력 데이터를 이미지로 출력\n",
        "\n",
        "plt.figure(figsize=(1,1))\n",
        "plt.title(f'{label}')\n",
        "plt.imshow(image, cmap='gray_r')\n",
        "plt.axis('off')\n",
        "plt.show()"
      ]
    },
    {
      "cell_type": "markdown",
      "metadata": {
        "id": "3smZImbmuHgo"
      },
      "source": [
        "Matplotlib 라이브러리를 사용하여 이미지를 시각화하는 코드입니다.\n",
        "\n",
        "\n",
        "\n",
        "*   figsize=(1, 1)은 그림의 크기를 가로 1 단위, 세로 1 단위로 설정하는 것을 의미합니다. 그림의 크기를 조절할 때 사용됩니다.\n",
        "\n",
        "\n",
        "*   plt.axis('off'): 축을 표시하지 않도록 설정하는 명령입니다. 이미지에는 좌표축이 필요 없는 경우가 많으므로 시각적으로 깔끔하게 표시하기 위해 사용됩니다.\n",
        "\n",
        "\n",
        "**결과 확인:  크기가 1x1인 그림으로 이미지와 레이블이 표시됩니다**\n",
        "\n"
      ]
    },
    {
      "cell_type": "code",
      "execution_count": null,
      "metadata": {
        "id": "sN8ciz_BqEwy"
      },
      "outputs": [],
      "source": [
        "# 정답 데이터와 함께 처음 20개 데이터를 이미지로 출력\n",
        "\n",
        "plt.figure(figsize=(10, 3))\n",
        "for i in range(20):     # 그림이 20개여서 반복문 20번 실행\n",
        "    ax = plt.subplot(2, 10, i + 1)\n",
        "\n",
        "    # image와 label 취득\n",
        "    image, label = train_set0[i]\n",
        "\n",
        "    # 이미지 출력\n",
        "    plt.imshow(image, cmap='gray_r')\n",
        "    ax.set_title(f'{label}')\n",
        "    ax.get_xaxis().set_visible(False)\n",
        "    ax.get_yaxis().set_visible(False)\n",
        "plt.show()                            # 결과확인: 이미지와 라벨이 잘 출력된것을 확인가능"
      ]
    },
    {
      "cell_type": "markdown",
      "metadata": {
        "id": "OuLFAvcYwOcd"
      },
      "source": [
        "## 8.9 데이터 준비 2  (Transforms를 활용한 데이터 전처리)"
      ]
    },
    {
      "cell_type": "markdown",
      "metadata": {
        "id": "ySF31M4NwRUX"
      },
      "source": [
        "### 스텝 1. ToTensor 사용하기"
      ]
    },
    {
      "cell_type": "markdown",
      "metadata": {
        "id": "AkPlWaGY1YWA"
      },
      "source": [
        "첫번째로 totnesor클래스를 사용한다\n",
        "이는 입력데이터의 형식을 파이토치에서 사용할 수 있게 텐서 형식으로 변환해 주는 클래스이다"
      ]
    },
    {
      "cell_type": "code",
      "execution_count": null,
      "metadata": {
        "id": "PKyu5kLVwRtv"
      },
      "outputs": [],
      "source": [
        "# 라이브러리 임포트\n",
        "import torchvision.transforms as transforms\n",
        "\n",
        "transform1 = transforms.Compose([\n",
        "    # 데이터를 텐서로 변환\n",
        "    transforms.ToTensor(),\n",
        "])\n",
        "\n",
        "train_set1 = datasets.MNIST(\n",
        "    root=data_root,  train=True,  download=True,\n",
        "    transform = transform1)"
      ]
    },
    {
      "cell_type": "code",
      "execution_count": null,
      "metadata": {
        "id": "WaZi2lkB0t1l"
      },
      "outputs": [],
      "source": [
        "# 변환 결과 확인\n",
        "\n",
        "image, label = train_set1[0]\n",
        "print('입력 데이터 타입 : ', type(image))\n",
        "print('입력 데이터 shape : ', image.shape)\n",
        "print('최솟값 : ', image.data.min())\n",
        "print('최댓값 : ', image.data.max())      #결과 확인: shape은 [1,28,28]이며 최솟값은 0 최대값은 1인 데이터라는것을 확인할 수 있다"
      ]
    },
    {
      "cell_type": "markdown",
      "metadata": {
        "id": "jXOP1fCu0qhE"
      },
      "source": [
        "### 스텝 2. Normalize 사용하기"
      ]
    },
    {
      "cell_type": "markdown",
      "metadata": {
        "id": "yYTAqcAC2QIC"
      },
      "source": [
        "normalize 클래스를 사용해서 데이터를 정규화한다."
      ]
    },
    {
      "cell_type": "code",
      "execution_count": null,
      "metadata": {
        "id": "c38jYT_Y0w89"
      },
      "outputs": [],
      "source": [
        "transform2 = transforms.Compose([\n",
        "    # 데이터를 텐서로 변환\n",
        "    transforms.ToTensor(),\n",
        "\n",
        "    # 데이터 정규화\n",
        "    transforms.Normalize(0.5,  0.5),\n",
        "])\n",
        "\n",
        "train_set2 = datasets.MNIST(\n",
        "    root = data_root,  train = True,  download = True,\n",
        "    transform = transform2)"
      ]
    },
    {
      "cell_type": "markdown",
      "metadata": {
        "id": "ZjgySQVe3AAn"
      },
      "source": [
        "**참고**\n",
        "\n",
        "\n",
        "\n",
        "1.   입력 데이터의 평균과 표준 편차를 사용하여 데이터를 정규화합니다.\n",
        "2.   여기서는 입력 데이터의 평균을 0.5, 표준 편차를 0.5로 설정하여 정규화를 수행합니다.\n",
        "\n"
      ]
    },
    {
      "cell_type": "code",
      "execution_count": null,
      "metadata": {
        "id": "4o-BM7H400at"
      },
      "outputs": [],
      "source": [
        "# 변환 결과 확인\n",
        "\n",
        "image, label = train_set2[0]\n",
        "print('shape : ', image.shape)\n",
        "print('최솟값 : ', image.data.min())\n",
        "print('최댓값 : ', image.data.max())        # 결과확인: 원래는 [0,1]이었던 데이터의 범위가 의도한 대로 [-1,1]이 된것을 확인가능"
      ]
    },
    {
      "cell_type": "markdown",
      "metadata": {
        "id": "fKSQRFpb0qoo"
      },
      "source": [
        "### 스텝 3. Lambda 클래스를 사용해 1차원으로 텐서 변환하기\n",
        "\n",
        "마지막으로 전결합형 신경망에 입력하기 위해 입력변수의 shape를 [1,28,28]에서 [784]로 변경한다"
      ]
    },
    {
      "cell_type": "code",
      "execution_count": null,
      "metadata": {
        "id": "3Tuq-Kwz05an"
      },
      "outputs": [],
      "source": [
        "transform3 = transforms.Compose([\n",
        "    # 데이터를 텐서로 변환\n",
        "    transforms.ToTensor(),\n",
        "\n",
        "    # 데이터 정규화\n",
        "    transforms.Normalize(0.5, 0.5),\n",
        "\n",
        "    # 현재 텐서를 1계 텐서로 변환\n",
        "    transforms.Lambda(lambda x: x.view(-1)),        # x.view(-1)은 텐서를 1차원 벡터로 변환합니다.\n",
        "])\n",
        "\n",
        "train_set3 = datasets.MNIST(\n",
        "    root = data_root,  train = True,\n",
        "    download=True, transform = transform3)"
      ]
    },
    {
      "cell_type": "markdown",
      "metadata": {
        "id": "f9QhhkxH3xD9"
      },
      "source": [
        "**참고**\n",
        "\n",
        "전결합성 신경망(Fully Connected Neural Network), 또는 밀집 신경망(Dense Neural Network)은 딥러닝의 기본적인 아키텍처 중 하나입니다.\n",
        "\n",
        " 이 아키텍처는 입력층, 은닉층(들), 그리고 출력층으로 구성됩니다.\n",
        "\n",
        "**전결합성 신경망**\n",
        "\n",
        "전결합성 신경망은 입력 데이터의 차원이 고정되어 있어야 하기 때문에 입력 데이터의 shape을 조정해야 할 수 있습니다.\n",
        "\n",
        " 입력 데이터의 크기(shape)는 네트워크의 아키텍처에 맞게 고정되어야 합니다.\n",
        "\n",
        " 전결합성 신경망은 입력 데이터의 차원이 모든 샘플에서 동일해야 합니다. 즉, 각 샘플의 입력 데이터의 shape이 동일해야 합니다.\n",
        "\n",
        " 전결합성 신경망을 사용할 때는 입력 데이터의 shape을 모델에 맞게 조절하는 과정이 중요합니다."
      ]
    },
    {
      "cell_type": "code",
      "execution_count": null,
      "metadata": {
        "id": "HrzSp5gb08FM"
      },
      "outputs": [],
      "source": [
        "# 변환 결과 확인\n",
        "\n",
        "image, label = train_set3[0]\n",
        "print('shape : ', image.shape)\n",
        "print('최솟값 : ', image.data.min())\n",
        "print('최댓값 : ', image.data.max())"
      ]
    },
    {
      "cell_type": "markdown",
      "metadata": {
        "id": "TgnMK2PR0-ma"
      },
      "source": [
        "### 최종 구현 형태"
      ]
    },
    {
      "cell_type": "markdown",
      "metadata": {
        "id": "Nn-o793v5vpK"
      },
      "source": [
        "마지막으로 전처리 과정을 확인하는 코드입니다.\n",
        "\n",
        "주석으로 각 변환 단계가 어떤 작업을 수행하는지 설명하고 있습니다."
      ]
    },
    {
      "cell_type": "code",
      "execution_count": null,
      "metadata": {
        "id": "aLW03p0g0_Qn"
      },
      "outputs": [],
      "source": [
        "# 데이터 변환용 함수 Transforms\n",
        "# (1) Image를 텐서화\n",
        "# (2) [0, 1] 범위의 값을 [-1, 1] 범위로 조정\n",
        "# (3) 데이터의 shape을 [1, 28, 28] 에서 [784] 로 변환\n",
        "\n",
        "transform = transforms.Compose([\n",
        "    # (1) 데이터를 텐서로 변환\n",
        "    transforms.ToTensor(),\n",
        "\n",
        "    # (2) 데이터 정규화\n",
        "    transforms.Normalize(0.5, 0.5),\n",
        "\n",
        "    # (3) 1계 텐서로 변환\n",
        "    transforms.Lambda(lambda x: x.view(-1)),\n",
        "])"
      ]
    },
    {
      "cell_type": "code",
      "execution_count": null,
      "metadata": {
        "id": "3BfeiPov1C6q"
      },
      "outputs": [],
      "source": [
        "# 데이터 입수를 위한 Dataset 함수\n",
        "\n",
        "# 훈련용 데이터셋 정의\n",
        "train_set = datasets.MNIST(\n",
        "    root = data_root, train = True,\n",
        "    download = True, transform = transform)\n",
        "\n",
        "# 검증용 데이터셋 정의\n",
        "test_set = datasets.MNIST(\n",
        "    root = data_root, train = False,\n",
        "    download = True, transform = transform)"
      ]
    },
    {
      "cell_type": "markdown",
      "metadata": {
        "id": "x5Lwy3PS52-Y"
      },
      "source": [
        "## 8.10 데이터 준비 3  (데이터로더를 활용한 미니 배치 데이터 생성)"
      ]
    },
    {
      "cell_type": "markdown",
      "metadata": {
        "id": "d339Pj7K6rlq"
      },
      "source": [
        "데이터 준비에 관한 마지막 작업으로, 미니 배치 처리의 준비가 남아있다\n"
      ]
    },
    {
      "cell_type": "code",
      "execution_count": null,
      "metadata": {
        "id": "dw2yeQrc55Bc"
      },
      "outputs": [],
      "source": [
        "# 라이브러리 임포트\n",
        "from torch.utils.data import DataLoader\n",
        "\n",
        "# 미니 배치 사이즈 지정\n",
        "batch_size = 500\n",
        "\n",
        "# 훈련용 데이터로더\n",
        "# 훈련용이므로, 셔플을 적용함\n",
        "train_loader = DataLoader(\n",
        "    train_set, batch_size = batch_size,\n",
        "    shuffle = True)\n",
        "\n",
        "# 검증용 데이터로더\n",
        "# 검증시에는 셔플을 필요로하지 않음\n",
        "test_loader = DataLoader(\n",
        "    test_set,  batch_size = batch_size,\n",
        "    shuffle = False)"
      ]
    },
    {
      "cell_type": "code",
      "execution_count": null,
      "metadata": {
        "id": "GsIE57pK57GU"
      },
      "outputs": [],
      "source": [
        "# 몇 개의 그룹으로 데이터를 가져올 수 있는가\n",
        "print(len(train_loader))\n",
        "\n",
        "# 데이터로더로부터 가장 처음 한 세트를 가져옴\n",
        "for images, labels in train_loader:\n",
        "    break\n",
        "\n",
        "print(images.shape)                         #결과확인: 결과로 나온 120은 60000/500의 계산결과가 일치하고있음을 알수있다\n",
        "print(labels.shape)"
      ]
    },
    {
      "cell_type": "markdown",
      "metadata": {
        "id": "aP_S9dnj9u_-"
      },
      "source": [
        "## 8.11 모델 정의"
      ]
    },
    {
      "cell_type": "code",
      "execution_count": null,
      "metadata": {
        "id": "hYx6ffPK9xHY"
      },
      "outputs": [],
      "source": [
        "# 입력 차원수\n",
        "n_input = image.shape[0]\n",
        "\n",
        "# 출력 차원수\n",
        "# 분류 클래스 수는 10\n",
        "n_output = len(set(list(labels.data.numpy())))\n",
        "\n",
        "# 은닉층의 노드 수\n",
        "n_hidden = 128\n",
        "\n",
        "# 결과 확인\n",
        "print(f'n_input: {n_input}  n_hidden: {n_hidden} n_output: {n_output}')"
      ]
    },
    {
      "cell_type": "code",
      "execution_count": null,
      "metadata": {
        "id": "tO1P8Z1191B7"
      },
      "outputs": [],
      "source": [
        "# 모델 정의\n",
        "# 784입력 10출력 1은닉층의 신경망 모델\n",
        "\n",
        "class Net(nn.Module):\n",
        "    def __init__(self, n_input, n_output, n_hidden):\n",
        "        super().__init__()\n",
        "\n",
        "        # 은닉층 정의(은닉층 노드 수 : n_hidden)\n",
        "        self.l1 = nn.Linear(n_input, n_hidden)\n",
        "\n",
        "        # 출력층 정의\n",
        "        self.l2 = nn.Linear(n_hidden, n_output)\n",
        "\n",
        "        # ReLU 함수 정의\n",
        "        self.relu = nn.ReLU(inplace=True)\n",
        "\n",
        "    def forward(self, x):\n",
        "        x1 = self.l1(x)\n",
        "        x2 = self.relu(x1)\n",
        "        x3 = self.l2(x2)\n",
        "        return x3"
      ]
    },
    {
      "cell_type": "code",
      "execution_count": null,
      "metadata": {
        "id": "_-OqyjiE93in"
      },
      "outputs": [],
      "source": [
        "# 난수 고정\n",
        "torch.manual_seed(123)\n",
        "torch.cuda.manual_seed(123)\n",
        "\n",
        "# 모델 인스턴스 생성\n",
        "net = Net(n_input, n_output, n_hidden)\n",
        "\n",
        "# 모델을 GPU로 전송\n",
        "net = net.to(device)"
      ]
    },
    {
      "cell_type": "markdown",
      "metadata": {
        "id": "_657eWeg95QX"
      },
      "source": [
        "### 최적화 알고리즘과 손실 함수"
      ]
    },
    {
      "cell_type": "code",
      "execution_count": null,
      "metadata": {
        "id": "CMs4EdxI950i"
      },
      "outputs": [],
      "source": [
        "# 학습률\n",
        "lr = 0.01\n",
        "\n",
        "# 최적화 알고리즘: 경사 하강법\n",
        "optimizer = torch.optim.SGD(net.parameters(), lr=lr)\n",
        "\n",
        "# 손실 함수： 교차 엔트로피 함수\n",
        "criterion = nn.CrossEntropyLoss()"
      ]
    },
    {
      "cell_type": "code",
      "execution_count": null,
      "metadata": {
        "id": "FW9JOUg69-Ei"
      },
      "outputs": [],
      "source": [
        "# 모델 내부 파라미터 확인\n",
        "# l1.weight, l1.bias, l2.weight, l2.bias를 확인할 수 있음\n",
        "\n",
        "for parameter in net.named_parameters():\n",
        "    print(parameter)"
      ]
    },
    {
      "cell_type": "code",
      "execution_count": null,
      "metadata": {
        "id": "aPlyrtqC-AMo"
      },
      "outputs": [],
      "source": [
        "# 모델 개요 표시 1\n",
        "\n",
        "print(net)"
      ]
    },
    {
      "cell_type": "code",
      "execution_count": null,
      "metadata": {
        "id": "yu8evalE-B7P"
      },
      "outputs": [],
      "source": [
        "# 모델 개요 표시 2\n",
        "\n",
        "summary(net, (784,))"
      ]
    },
    {
      "cell_type": "markdown",
      "metadata": {
        "id": "3_yMBy83-HSi"
      },
      "source": [
        "## 8.12 경사 하강법"
      ]
    },
    {
      "cell_type": "markdown",
      "metadata": {
        "id": "D4jZr-r3-JqS"
      },
      "source": [
        "### 예측 계산"
      ]
    },
    {
      "cell_type": "code",
      "execution_count": null,
      "metadata": {
        "id": "AdiS-G6k-Lwn"
      },
      "outputs": [],
      "source": [
        "# 훈련 데이터셋의 가장 처음 항목을 취득\n",
        "# 데이터로더에서 가장 처음 항목을 취득\n",
        "for images, labels in train_loader:\n",
        "    break"
      ]
    },
    {
      "cell_type": "code",
      "execution_count": null,
      "metadata": {
        "id": "IFonQr9P-ODz"
      },
      "outputs": [],
      "source": [
        "# 데이터로더에서 취득한 데이터를 GPU로 보냄\n",
        "inputs = images.to(device)\n",
        "labels = labels.to(device)"
      ]
    },
    {
      "cell_type": "code",
      "execution_count": null,
      "metadata": {
        "id": "qGed_kAI-SSI"
      },
      "outputs": [],
      "source": [
        "# 예측 계산\n",
        "outputs = net(inputs)\n",
        "\n",
        "# 결과 확인\n",
        "print(outputs)"
      ]
    },
    {
      "cell_type": "markdown",
      "metadata": {
        "id": "0sC2zESs-VUY"
      },
      "source": [
        "### 손실 함수"
      ]
    },
    {
      "cell_type": "markdown",
      "metadata": {
        "id": "F2JX0k-c-X9S"
      },
      "source": [
        "#### 손실 계산과 계산 그래프 시각화"
      ]
    },
    {
      "cell_type": "code",
      "execution_count": null,
      "metadata": {
        "id": "umwpU5U1-Zpj"
      },
      "outputs": [],
      "source": [
        "#  손실 계산\n",
        "loss = criterion(outputs, labels)\n",
        "\n",
        "# 손실값 가져오기\n",
        "print(loss.item())\n",
        "\n",
        "# 손실 계산 그래프 시각화\n",
        "g = make_dot(loss, params=dict(net.named_parameters()))\n",
        "display(g)"
      ]
    },
    {
      "cell_type": "markdown",
      "metadata": {
        "id": "9QJnirJ1-iqD"
      },
      "source": [
        "### 반복 계산"
      ]
    },
    {
      "cell_type": "code",
      "execution_count": null,
      "metadata": {
        "id": "HYQcZsDr_hsm"
      },
      "outputs": [],
      "source": [
        "# 난수 고정\n",
        "torch.manual_seed(123)\n",
        "torch.cuda.manual_seed(123)\n",
        "torch.backends.cudnn.deterministic = True\n",
        "torch.use_deterministic_algorithms = True\n",
        "\n",
        "# 학습률\n",
        "lr = 0.01\n",
        "\n",
        "# 모델 초기화\n",
        "net = Net(n_input, n_output, n_hidden).to(device)\n",
        "\n",
        "# 손실 함수： 교차 엔트로피 함수\n",
        "criterion = nn.CrossEntropyLoss()\n",
        "\n",
        "# 최적화 함수: 경사 하강법\n",
        "optimizer = optim.SGD(net.parameters(), lr=lr)\n",
        "\n",
        "# 반복 횟수\n",
        "num_epochs = 100\n",
        "\n",
        "# 평가 결과 기록\n",
        "history = np.zeros((0,5))"
      ]
    },
    {
      "cell_type": "code",
      "execution_count": null,
      "metadata": {
        "id": "0f5wVYK3_k5Z"
      },
      "outputs": [],
      "source": [
        "# tqdm 라이브러리 임포트\n",
        "from tqdm.notebook import tqdm\n",
        "\n",
        "# 반복 계산 메인 루프\n",
        "for epoch in range(num_epochs):\n",
        "    train_acc, train_loss = 0, 0\n",
        "    val_acc, val_loss = 0, 0\n",
        "    n_train, n_test = 0, 0\n",
        "\n",
        "    # 훈련 페이즈\n",
        "    for inputs, labels in tqdm(train_loader):\n",
        "        n_train += len(labels)\n",
        "\n",
        "        # GPU로 전송\n",
        "        inputs = inputs.to(device)\n",
        "        labels = labels.to(device)\n",
        "\n",
        "        # 경사 초기화\n",
        "        optimizer.zero_grad()\n",
        "\n",
        "        # 예측 계산\n",
        "        outputs = net(inputs)\n",
        "\n",
        "        # 손실 계산\n",
        "        loss = criterion(outputs, labels)\n",
        "\n",
        "        # 경사 계산\n",
        "        loss.backward()\n",
        "\n",
        "        # 파라미터 수정\n",
        "        optimizer.step()\n",
        "\n",
        "        # 예측 라벨 산출\n",
        "        predicted = torch.max(outputs, 1)[1]\n",
        "\n",
        "        # 손실과 정확도 계산\n",
        "        train_loss += loss.item()\n",
        "        train_acc += (predicted == labels).sum().item()\n",
        "\n",
        "    # 예측 페이즈\n",
        "    for inputs_test, labels_test in test_loader:\n",
        "        n_test += len(labels_test)\n",
        "\n",
        "        inputs_test = inputs_test.to(device)\n",
        "        labels_test = labels_test.to(device)\n",
        "\n",
        "\n",
        "        # 예측 계산\n",
        "        outputs_test = net(inputs_test)\n",
        "\n",
        "        # 손실 계산\n",
        "        loss_test = criterion(outputs_test, labels_test)\n",
        "\n",
        "        # 예측 라벨 산출\n",
        "        predicted_test = torch.max(outputs_test, 1)[1]\n",
        "\n",
        "        # 손실과 정확도 계산\n",
        "        val_loss +=  loss_test.item()\n",
        "        val_acc +=  (predicted_test == labels_test).sum().item()\n",
        "\n",
        "    # 평가 결과 산출, 기록\n",
        "    train_acc = train_acc / n_train\n",
        "    val_acc = val_acc / n_test\n",
        "    train_loss = train_loss * batch_size / n_train\n",
        "    val_loss = val_loss * batch_size / n_test\n",
        "    print (f'Epoch [{epoch+1}/{num_epochs}], loss: {train_loss:.5f} acc: {train_acc:.5f} val_loss: {val_loss:.5f}, val_acc: {val_acc:.5f}')\n",
        "    item = np.array([epoch+1 , train_loss, train_acc, val_loss, val_acc])\n",
        "    history = np.vstack((history, item))"
      ]
    },
    {
      "cell_type": "markdown",
      "metadata": {
        "id": "PlxBF30C_o9K"
      },
      "source": [
        "## 8.13 결과 확인"
      ]
    },
    {
      "cell_type": "code",
      "execution_count": null,
      "metadata": {
        "id": "FtHIeLt4_k_n"
      },
      "outputs": [],
      "source": [
        "# 손실과 정확도 확인\n",
        "\n",
        "print(f'초기상태 : 손실 : {history[0,3]:.5f}  정확도 : {history[0,4]:.5f}' )\n",
        "print(f'최종상태 : 손실 : {history[-1,3]:.5f}  정확도 : {history[-1,4]:.5f}' )"
      ]
    },
    {
      "cell_type": "code",
      "execution_count": null,
      "metadata": {
        "id": "hmGeVf1N_tt6"
      },
      "outputs": [],
      "source": [
        "# 학습 곡선 출력(손실)\n",
        "\n",
        "plt.plot(history[:,0], history[:,1], 'b', label='훈련')\n",
        "plt.plot(history[:,0], history[:,3], 'k', label='검증')\n",
        "plt.xlabel('반복 횟수')\n",
        "plt.ylabel('손실')\n",
        "plt.title('학습 곡선(손실)')\n",
        "plt.legend()\n",
        "plt.show()"
      ]
    },
    {
      "cell_type": "code",
      "execution_count": null,
      "metadata": {
        "id": "oN7pG9SB_uVN"
      },
      "outputs": [],
      "source": [
        "# 학습 곡선 출력(정확도)\n",
        "\n",
        "plt.plot(history[:,0], history[:,2], 'b', label='훈련')\n",
        "plt.plot(history[:,0], history[:,4], 'k', label='검증')\n",
        "plt.xlabel('반복 횟수')\n",
        "plt.ylabel('정확도')\n",
        "plt.title('학습 곡선(정확도)')\n",
        "plt.legend()\n",
        "plt.show()"
      ]
    }
  ],
  "metadata": {
    "accelerator": "GPU",
    "colab": {
      "provenance": [],
      "authorship_tag": "ABX9TyMiovasV/c09xxLfS5dfZIa",
      "include_colab_link": true
    },
    "kernelspec": {
      "display_name": "Python 3",
      "name": "python3"
    },
    "language_info": {
      "name": "python"
    }
  },
  "nbformat": 4,
  "nbformat_minor": 0
}