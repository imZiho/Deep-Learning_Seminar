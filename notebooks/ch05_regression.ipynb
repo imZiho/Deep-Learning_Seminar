{
  "nbformat": 4,
  "nbformat_minor": 0,
  "metadata": {
    "colab": {
      "name": "ch05_regression.ipynb",
      "provenance": []
    },
    "kernelspec": {
      "display_name": "Python 3",
      "language": "python",
      "name": "python3"
    },
    "language_info": {
      "codemirror_mode": {
        "name": "ipython",
        "version": 3
      },
      "file_extension": ".py",
      "mimetype": "text/x-python",
      "name": "python",
      "nbconvert_exporter": "python",
      "pygments_lexer": "ipython3",
      "version": "3.8.5"
    }
  },
  "cells": [
    {
      "cell_type": "markdown",
      "metadata": {
        "id": "FXGXzQQSZhqU"
      },
      "source": [
        "# 5장 선형 회귀"
      ]
    },
    {
      "cell_type": "markdown",
      "source": [
        "* \"부록3 매트플롯립 입문\"에서 한글 폰트를 올바르게 출력하기 위한 설치 방법을 설명했다. 설치 방법은 다음과 같다."
      ],
      "metadata": {
        "id": "JzD-licZijc7"
      }
    },
    {
      "cell_type": "code",
      "source": [
        "!sudo apt-get install -y fonts-nanum* | tail -n 1\n",
        "!sudo fc-cache -fv\n",
        "!rm -rf ~/.cache/matplotlib"
      ],
      "metadata": {
        "colab": {
          "base_uri": "https://localhost:8080/"
        },
        "id": "8WKBQdcZUzBT",
        "outputId": "94a1e327-c89e-493a-aa6c-6fe77db7f2da"
      },
      "execution_count": 1,
      "outputs": [
        {
          "output_type": "stream",
          "name": "stdout",
          "text": [
            "debconf: unable to initialize frontend: Dialog\n",
            "debconf: (No usable dialog-like program is installed, so the dialog based frontend cannot be used. at /usr/share/perl5/Debconf/FrontEnd/Dialog.pm line 78, <> line 4.)\n",
            "debconf: falling back to frontend: Readline\n",
            "debconf: unable to initialize frontend: Readline\n",
            "debconf: (This frontend requires a controlling tty.)\n",
            "debconf: falling back to frontend: Teletype\n",
            "dpkg-preconfigure: unable to re-open stdin: \n",
            "Processing triggers for fontconfig (2.13.1-4.2ubuntu5) ...\n",
            "/usr/share/fonts: caching, new cache contents: 0 fonts, 2 dirs\n",
            "/usr/share/fonts/opentype: caching, new cache contents: 0 fonts, 2 dirs\n",
            "/usr/share/fonts/opentype/font-awesome: caching, new cache contents: 1 fonts, 0 dirs\n",
            "/usr/share/fonts/opentype/mathjax: caching, new cache contents: 24 fonts, 0 dirs\n",
            "/usr/share/fonts/truetype: caching, new cache contents: 0 fonts, 5 dirs\n",
            "/usr/share/fonts/truetype/font-awesome: caching, new cache contents: 1 fonts, 0 dirs\n",
            "/usr/share/fonts/truetype/glyphicons: caching, new cache contents: 1 fonts, 0 dirs\n",
            "/usr/share/fonts/truetype/humor-sans: caching, new cache contents: 1 fonts, 0 dirs\n",
            "/usr/share/fonts/truetype/liberation: caching, new cache contents: 16 fonts, 0 dirs\n",
            "/usr/share/fonts/truetype/nanum: caching, new cache contents: 39 fonts, 0 dirs\n",
            "/usr/local/share/fonts: caching, new cache contents: 0 fonts, 0 dirs\n",
            "/root/.local/share/fonts: skipping, no such directory\n",
            "/root/.fonts: skipping, no such directory\n",
            "/usr/share/fonts/opentype: skipping, looped directory detected\n",
            "/usr/share/fonts/truetype: skipping, looped directory detected\n",
            "/usr/share/fonts/opentype/font-awesome: skipping, looped directory detected\n",
            "/usr/share/fonts/opentype/mathjax: skipping, looped directory detected\n",
            "/usr/share/fonts/truetype/font-awesome: skipping, looped directory detected\n",
            "/usr/share/fonts/truetype/glyphicons: skipping, looped directory detected\n",
            "/usr/share/fonts/truetype/humor-sans: skipping, looped directory detected\n",
            "/usr/share/fonts/truetype/liberation: skipping, looped directory detected\n",
            "/usr/share/fonts/truetype/nanum: skipping, looped directory detected\n",
            "/var/cache/fontconfig: cleaning cache directory\n",
            "/root/.cache/fontconfig: not cleaning non-existent cache directory\n",
            "/root/.fontconfig: not cleaning non-existent cache directory\n",
            "fc-cache: succeeded\n"
          ]
        }
      ]
    },
    {
      "cell_type": "code",
      "metadata": {
        "id": "ID01O-IvXpCi",
        "colab": {
          "base_uri": "https://localhost:8080/"
        },
        "outputId": "9bd5681f-fa20-4ade-8df3-d6704dd2e8cd"
      },
      "source": [
        "# 필요 라이브러리 설치\n",
        "\n",
        "!pip install torchviz | tail -n 1\n",
        "!pip install torchinfo | tail -n 1"
      ],
      "execution_count": 2,
      "outputs": [
        {
          "output_type": "stream",
          "name": "stdout",
          "text": [
            "Successfully installed torchviz-0.0.2\n",
            "Successfully installed torchinfo-1.8.0\n"
          ]
        }
      ]
    },
    {
      "cell_type": "markdown",
      "source": [
        "* 모든 설치가 끝나면 한글 폰트를 바르게 출력하기 위해 **[런타임]** -> **[런타임 다시시작]**을 클릭한 다음, 아래 셀부터 코드를 실행해 주십시오."
      ],
      "metadata": {
        "id": "FIZukjY3XLzh"
      }
    },
    {
      "cell_type": "code",
      "metadata": {
        "id": "9BuGuNS4XpCk"
      },
      "source": [
        "# 라이브러리 임포트\n",
        "\n",
        "%matplotlib inline\n",
        "import pandas as pd\n",
        "import numpy as np\n",
        "import matplotlib.pyplot as plt\n",
        "from IPython.display import display\n",
        "\n",
        "# 폰트 관련 용도\n",
        "import matplotlib.font_manager as fm\n",
        "\n",
        "# 나눔 고딕 폰트의 경로 명시\n",
        "path = '/usr/share/fonts/truetype/nanum/NanumGothic.ttf'\n",
        "font_name = fm.FontProperties(fname=path, size=10).get_name()"
      ],
      "execution_count": 3,
      "outputs": []
    },
    {
      "cell_type": "code",
      "metadata": {
        "id": "nFqLX4N-XpCk"
      },
      "source": [
        "import torch\n",
        "import torch.nn as nn\n",
        "import torch.optim as optim\n",
        "from torchviz import make_dot"
      ],
      "execution_count": 4,
      "outputs": []
    },
    {
      "cell_type": "code",
      "metadata": {
        "id": "EWZHxbB1XpCl"
      },
      "source": [
        "# 기본 폰트 설정\n",
        "plt.rcParams['font.family'] = font_name\n",
        "\n",
        "# 기본 폰트 사이즈 변경\n",
        "plt.rcParams['font.size'] = 14\n",
        "\n",
        "# 기본 그래프 사이즈 변경\n",
        "plt.rcParams['figure.figsize'] = (6,6)\n",
        "\n",
        "# 기본 그리드 표시\n",
        "# 필요에 따라 설정할 때는, plt.grid()\n",
        "plt.rcParams['axes.grid'] = True\n",
        "\n",
        "# 마이너스 기호 정상 출력\n",
        "plt.rcParams['axes.unicode_minus'] = False\n",
        "\n",
        "# 넘파이 부동소수점 자릿수 표시\n",
        "np.set_printoptions(suppress=True, precision=4)"
      ],
      "execution_count": 5,
      "outputs": []
    },
    {
      "cell_type": "markdown",
      "metadata": {
        "id": "aL-55tM8XpCl"
      },
      "source": [
        "## 5.3 선형 함수(nn.Linear)"
      ]
    },
    {
      "cell_type": "markdown",
      "metadata": {
        "id": "RyH3OPekXpCl"
      },
      "source": [
        "###  입력 :1 출력 :1인 선형 함수"
      ]
    },
    {
      "cell_type": "code",
      "metadata": {
        "id": "lzycf0HxXpCm",
        "colab": {
          "base_uri": "https://localhost:8080/"
        },
        "outputId": "e0b22cc2-2c38-4253-805a-efcdf587481b"
      },
      "source": [
        "# 난수 시드값 고정\n",
        "torch.manual_seed(123)\n",
        "\n",
        "# 입력 :1 출력 :1 선형 함수의 정의\n",
        "l1 = nn.Linear(1, 1)\n",
        "\n",
        "# 선형 함수 확인\n",
        "print(l1)"
      ],
      "execution_count": 6,
      "outputs": [
        {
          "output_type": "stream",
          "name": "stdout",
          "text": [
            "Linear(in_features=1, out_features=1, bias=True)\n"
          ]
        }
      ]
    },
    {
      "cell_type": "code",
      "metadata": {
        "id": "pSvee2CeXpCm",
        "colab": {
          "base_uri": "https://localhost:8080/"
        },
        "outputId": "6422d1d4-7a37-46af-8f4b-a888a5f98efb"
      },
      "source": [
        "# 파라미터명, 파라미터 값, shape 표시\n",
        "\n",
        "for param in l1.named_parameters():\n",
        "    print('name: ', param[0])\n",
        "    print('tensor: ', param[1])\n",
        "    print('shape: ', param[1].shape)"
      ],
      "execution_count": 7,
      "outputs": [
        {
          "output_type": "stream",
          "name": "stdout",
          "text": [
            "name:  weight\n",
            "tensor:  Parameter containing:\n",
            "tensor([[-0.4078]], requires_grad=True)\n",
            "shape:  torch.Size([1, 1])\n",
            "name:  bias\n",
            "tensor:  Parameter containing:\n",
            "tensor([0.0331], requires_grad=True)\n",
            "shape:  torch.Size([1])\n"
          ]
        }
      ]
    },
    {
      "cell_type": "code",
      "metadata": {
        "id": "LKYmasnBXpCn",
        "colab": {
          "base_uri": "https://localhost:8080/"
        },
        "outputId": "887542c3-ba19-4b13-938e-c3c2f1ce8666"
      },
      "source": [
        "# 초깃값 설정\n",
        "nn.init.constant_(l1.weight, 2.0)\n",
        "nn.init.constant_(l1.bias, 1.0)\n",
        "\n",
        "# 결과 확인\n",
        "print(l1.weight)\n",
        "print(l1.bias)"
      ],
      "execution_count": 8,
      "outputs": [
        {
          "output_type": "stream",
          "name": "stdout",
          "text": [
            "Parameter containing:\n",
            "tensor([[2.]], requires_grad=True)\n",
            "Parameter containing:\n",
            "tensor([1.], requires_grad=True)\n"
          ]
        }
      ]
    },
    {
      "cell_type": "code",
      "metadata": {
        "id": "UZNxp3fYXpCn",
        "colab": {
          "base_uri": "https://localhost:8080/"
        },
        "outputId": "126a98ab-194a-4fd1-d72b-28c02c5ecfe2"
      },
      "source": [
        "# 테스트용 데이터 생성\n",
        "\n",
        "# x_np를 넘파이 배열로 정의\n",
        "x_np = np.arange(-2, 2.1, 1)\n",
        "\n",
        "# 텐서 변수화\n",
        "x = torch.tensor(x_np).float()\n",
        "\n",
        "# (N,1) 사이즈로 변경\n",
        "x = x.view(-1,1)\n",
        "\n",
        "# 결과 확인\n",
        "print(x.shape)\n",
        "print(x)"
      ],
      "execution_count": 9,
      "outputs": [
        {
          "output_type": "stream",
          "name": "stdout",
          "text": [
            "torch.Size([5, 1])\n",
            "tensor([[-2.],\n",
            "        [-1.],\n",
            "        [ 0.],\n",
            "        [ 1.],\n",
            "        [ 2.]])\n"
          ]
        }
      ]
    },
    {
      "cell_type": "code",
      "metadata": {
        "id": "2De8gINFXpCo",
        "colab": {
          "base_uri": "https://localhost:8080/"
        },
        "outputId": "57c9d2a0-97cd-47af-a9fc-d16e0796258a"
      },
      "source": [
        "# 1차 함수 테스트\n",
        "\n",
        "y = l1(x)\n",
        "\n",
        "print(y.shape)\n",
        "print(y.data)"
      ],
      "execution_count": 10,
      "outputs": [
        {
          "output_type": "stream",
          "name": "stdout",
          "text": [
            "torch.Size([5, 1])\n",
            "tensor([[-3.],\n",
            "        [-1.],\n",
            "        [ 1.],\n",
            "        [ 3.],\n",
            "        [ 5.]])\n"
          ]
        }
      ]
    },
    {
      "cell_type": "markdown",
      "metadata": {
        "id": "d0csbLg9XpCo"
      },
      "source": [
        "### 입력 :2 출력 :1인 선형 함수"
      ]
    },
    {
      "cell_type": "code",
      "metadata": {
        "id": "VyebhECaXpCp",
        "colab": {
          "base_uri": "https://localhost:8080/"
        },
        "outputId": "716cc79f-b32e-4541-d0eb-2b18763ba1b8"
      },
      "source": [
        "# 입력 :2, 출력:1 선형 함수 정의\n",
        "l2 = nn.Linear(2, 1)\n",
        "\n",
        "# 초깃값 설정\n",
        "nn.init.constant_(l2.weight, 1.0)\n",
        "nn.init.constant_(l2.bias, 2.0)\n",
        "\n",
        "# 결과 확인\n",
        "print(l2.weight)\n",
        "print(l2.bias)"
      ],
      "execution_count": 11,
      "outputs": [
        {
          "output_type": "stream",
          "name": "stdout",
          "text": [
            "Parameter containing:\n",
            "tensor([[1., 1.]], requires_grad=True)\n",
            "Parameter containing:\n",
            "tensor([2.], requires_grad=True)\n"
          ]
        }
      ]
    },
    {
      "cell_type": "code",
      "metadata": {
        "id": "S1yCAOCcXpCp",
        "colab": {
          "base_uri": "https://localhost:8080/"
        },
        "outputId": "77a52da5-def7-48af-afc3-c46e0594d5fa"
      },
      "source": [
        "# 2차원 넘파이 배열\n",
        "x2_np = np.array([[0, 0], [0, 1], [1, 0], [1,1]])\n",
        "\n",
        "# 텐서 변수화\n",
        "x2 =  torch.tensor(x2_np).float()\n",
        "\n",
        "# 결과 확인\n",
        "print(x2.shape)\n",
        "print(x2)"
      ],
      "execution_count": 12,
      "outputs": [
        {
          "output_type": "stream",
          "name": "stdout",
          "text": [
            "torch.Size([4, 2])\n",
            "tensor([[0., 0.],\n",
            "        [0., 1.],\n",
            "        [1., 0.],\n",
            "        [1., 1.]])\n"
          ]
        }
      ]
    },
    {
      "cell_type": "code",
      "metadata": {
        "id": "bZ3OsIWJXpCp",
        "colab": {
          "base_uri": "https://localhost:8080/"
        },
        "outputId": "5697da7f-7c3c-4738-d3a3-2849da10f988"
      },
      "source": [
        "# 함수 값 계산\n",
        "y2 = l2(x2)\n",
        "\n",
        "# shape 확인\n",
        "print(y2.shape)\n",
        "\n",
        "# 값 확인\n",
        "print(y2.data)"
      ],
      "execution_count": 13,
      "outputs": [
        {
          "output_type": "stream",
          "name": "stdout",
          "text": [
            "torch.Size([4, 1])\n",
            "tensor([[2.],\n",
            "        [3.],\n",
            "        [3.],\n",
            "        [4.]])\n"
          ]
        }
      ]
    },
    {
      "cell_type": "markdown",
      "metadata": {
        "id": "53Ae8ANsXpCq"
      },
      "source": [
        "### 입력 :2 출력:3인 선형 함수"
      ]
    },
    {
      "cell_type": "code",
      "metadata": {
        "id": "o5xGgx2kXpCq",
        "colab": {
          "base_uri": "https://localhost:8080/"
        },
        "outputId": "af7dcfd4-fdcb-415a-d974-91d17037206a"
      },
      "source": [
        "# 입력 :2, 출력 :3 선형 함수 정의\n",
        "\n",
        "l3 = nn.Linear(2, 3)\n",
        "\n",
        "# 초깃값 설정\n",
        "nn.init.constant_(l3.weight[0,:], 1.0)\n",
        "nn.init.constant_(l3.weight[1,:], 2.0)\n",
        "nn.init.constant_(l3.weight[2,:], 3.0)\n",
        "nn.init.constant_(l3.bias, 2.0)\n",
        "\n",
        "# 결과 확인\n",
        "print(l3.weight)\n",
        "print(l3.bias)"
      ],
      "execution_count": 14,
      "outputs": [
        {
          "output_type": "stream",
          "name": "stdout",
          "text": [
            "Parameter containing:\n",
            "tensor([[1., 1.],\n",
            "        [2., 2.],\n",
            "        [3., 3.]], requires_grad=True)\n",
            "Parameter containing:\n",
            "tensor([2., 2., 2.], requires_grad=True)\n"
          ]
        }
      ]
    },
    {
      "cell_type": "code",
      "metadata": {
        "id": "rL6qApqTXpCq",
        "colab": {
          "base_uri": "https://localhost:8080/"
        },
        "outputId": "33036a01-d1f0-42e7-f351-607bd2a9eb54"
      },
      "source": [
        "# 함수 값 계산\n",
        "y3 = l3(x2)\n",
        "\n",
        "# shape 확인\n",
        "print(y3.shape)\n",
        "\n",
        "# 값 확인\n",
        "print(y3.data)"
      ],
      "execution_count": 15,
      "outputs": [
        {
          "output_type": "stream",
          "name": "stdout",
          "text": [
            "torch.Size([4, 3])\n",
            "tensor([[2., 2., 2.],\n",
            "        [3., 4., 5.],\n",
            "        [3., 4., 5.],\n",
            "        [4., 6., 8.]])\n"
          ]
        }
      ]
    },
    {
      "cell_type": "markdown",
      "metadata": {
        "id": "6Qy6LqOfRT0E"
      },
      "source": [
        "## 5.4 커스텀 클래스를 이용한 모델 정의"
      ]
    },
    {
      "cell_type": "code",
      "metadata": {
        "id": "3bcQHUdyXpCt"
      },
      "source": [
        "# 모델 정의\n",
        "\n",
        "class Net(nn.Module):\n",
        "    def __init__(self, n_input, n_output):\n",
        "        #  부모 클래스 nn.Module 초기화\n",
        "        super().__init__()\n",
        "\n",
        "        # 출력층 정의\n",
        "        self.l1 = nn.Linear(n_input, n_output)\n",
        "\n",
        "    # 예측 함수 정의\n",
        "    def forward(self, x):\n",
        "        x1 = self.l1(x) # 선형 회귀\n",
        "        return x1"
      ],
      "execution_count": 16,
      "outputs": []
    },
    {
      "cell_type": "code",
      "metadata": {
        "id": "5FLHS8bvXpCt"
      },
      "source": [
        "# 더미 입력\n",
        "inputs = torch.ones(100,1)\n",
        "\n",
        "# 인스턴스 생성(１ 입력, 1 출력 선형 모델)\n",
        "n_input = 1\n",
        "n_output = 1\n",
        "net = Net(n_input, n_output)\n",
        "\n",
        "# 예측\n",
        "outputs = net(inputs)"
      ],
      "execution_count": 17,
      "outputs": []
    },
    {
      "cell_type": "markdown",
      "metadata": {
        "id": "KFmZjNAlXpCr"
      },
      "source": [
        "\n",
        "## 5.6 데이터 준비\n",
        "UCI 공개 데이터셋 중에서 회귀 문제에 자주 사용되는 '보스턴 데이터셋'을 사용한다.\n",
        "\n",
        "https://www.cs.toronto.edu/~delve/data/boston/bostonDetail.html\n",
        "\n",
        "원본 데이터셋은, 17개 항목의 입력값으로부터 부동산 가격을 예측하기 위함이지만, 가장 단순한 '단일 회귀 모델'(1입력)을 만든다면 이 항목중에서 ``RM``이라는 항목만을 추출한다.\n"
      ]
    },
    {
      "cell_type": "code",
      "metadata": {
        "id": "nArbZhfCaWLF",
        "colab": {
          "base_uri": "https://localhost:8080/"
        },
        "outputId": "01257cc4-c9b3-4cc4-f640-7c92238c0549"
      },
      "source": [
        "# 학습용 데이터셋 준비\n",
        "\n",
        "# '보스턴 데이터셋'은 현재 사이킷런 라이브러리에서 가져올 수 있지만,\n",
        "# 사이킷런에서 앞으로 이 데이터를 사용할 수 없기 때문에 웹 url에서 직접 수집\n",
        "\n",
        "data_url = \"http://lib.stat.cmu.edu/datasets/boston\"\n",
        "raw_df = pd.read_csv(data_url, sep=\"\\s+\",\n",
        "                     skiprows=22, header=None)\n",
        "x_org = np.hstack([raw_df.values[::2, :],\n",
        "                   raw_df.values[1::2, :2]])\n",
        "yt = raw_df.values[1::2, 2]\n",
        "feature_names = np.array(['CRIM', 'ZN', 'INDUS', 'CHAS', 'NOX',\n",
        "                          'RM', 'AGE', 'DIS', 'RAD', 'TAX', 'PTRATIO','B', 'LSTAT'])\n",
        "\n",
        "# 결과 확인\n",
        "print('원본 데이터', x_org.shape, yt.shape)\n",
        "print('항목명: ', feature_names)"
      ],
      "execution_count": 18,
      "outputs": [
        {
          "output_type": "stream",
          "name": "stdout",
          "text": [
            "원본 데이터 (506, 13) (506,)\n",
            "항목명:  ['CRIM' 'ZN' 'INDUS' 'CHAS' 'NOX' 'RM' 'AGE' 'DIS' 'RAD' 'TAX' 'PTRATIO'\n",
            " 'B' 'LSTAT']\n"
          ]
        }
      ]
    },
    {
      "cell_type": "code",
      "metadata": {
        "id": "ro0A3LlSXpCs",
        "colab": {
          "base_uri": "https://localhost:8080/"
        },
        "outputId": "ea67fc3a-a34d-4f63-f516-986de55e387a"
      },
      "source": [
        "# 데이터 추출(RM 항목)\n",
        "x = x_org[:,feature_names == 'RM']\n",
        "print('추출 후', x.shape)\n",
        "print(x[:5,:])\n",
        "\n",
        "# 정답 데이터 y 표시\n",
        "print('정답 데이터')\n",
        "print(yt[:5])"
      ],
      "execution_count": 19,
      "outputs": [
        {
          "output_type": "stream",
          "name": "stdout",
          "text": [
            "추출 후 (506, 1)\n",
            "[[6.575]\n",
            " [6.421]\n",
            " [7.185]\n",
            " [6.998]\n",
            " [7.147]]\n",
            "정답 데이터\n",
            "[24.  21.6 34.7 33.4 36.2]\n"
          ]
        }
      ]
    },
    {
      "cell_type": "code",
      "metadata": {
        "id": "DvwFf3Taa-1O",
        "colab": {
          "base_uri": "https://localhost:8080/",
          "height": 1000
        },
        "outputId": "504a6bb8-f600-48f0-bd2b-a3a845cd9706"
      },
      "source": [
        "# 산포도 출력\n",
        "\n",
        "plt.scatter(x, yt, s=10, c='b')\n",
        "plt.xlabel('방 개수')\n",
        "plt.ylabel('가격')\n",
        "plt.title('방 개수와 가격의 산포도')\n",
        "plt.show()"
      ],
      "execution_count": 20,
      "outputs": [
        {
          "output_type": "stream",
          "name": "stderr",
          "text": [
            "WARNING:matplotlib.font_manager:findfont: Font family 'NanumGothic' not found.\n",
            "WARNING:matplotlib.font_manager:findfont: Font family 'NanumGothic' not found.\n",
            "WARNING:matplotlib.font_manager:findfont: Font family 'NanumGothic' not found.\n",
            "WARNING:matplotlib.font_manager:findfont: Font family 'NanumGothic' not found.\n",
            "WARNING:matplotlib.font_manager:findfont: Font family 'NanumGothic' not found.\n",
            "WARNING:matplotlib.font_manager:findfont: Font family 'NanumGothic' not found.\n",
            "WARNING:matplotlib.font_manager:findfont: Font family 'NanumGothic' not found.\n",
            "/usr/local/lib/python3.10/dist-packages/IPython/core/pylabtools.py:151: UserWarning: Glyph 44032 (\\N{HANGUL SYLLABLE GA}) missing from current font.\n",
            "  fig.canvas.print_figure(bytes_io, **kw)\n",
            "/usr/local/lib/python3.10/dist-packages/IPython/core/pylabtools.py:151: UserWarning: Glyph 44201 (\\N{HANGUL SYLLABLE GYEOG}) missing from current font.\n",
            "  fig.canvas.print_figure(bytes_io, **kw)\n",
            "WARNING:matplotlib.font_manager:findfont: Font family 'NanumGothic' not found.\n",
            "WARNING:matplotlib.font_manager:findfont: Font family 'NanumGothic' not found.\n",
            "/usr/local/lib/python3.10/dist-packages/IPython/core/pylabtools.py:151: UserWarning: Glyph 48169 (\\N{HANGUL SYLLABLE BANG}) missing from current font.\n",
            "  fig.canvas.print_figure(bytes_io, **kw)\n",
            "/usr/local/lib/python3.10/dist-packages/IPython/core/pylabtools.py:151: UserWarning: Glyph 44060 (\\N{HANGUL SYLLABLE GAE}) missing from current font.\n",
            "  fig.canvas.print_figure(bytes_io, **kw)\n",
            "/usr/local/lib/python3.10/dist-packages/IPython/core/pylabtools.py:151: UserWarning: Glyph 49688 (\\N{HANGUL SYLLABLE SU}) missing from current font.\n",
            "  fig.canvas.print_figure(bytes_io, **kw)\n",
            "/usr/local/lib/python3.10/dist-packages/IPython/core/pylabtools.py:151: UserWarning: Glyph 50752 (\\N{HANGUL SYLLABLE WA}) missing from current font.\n",
            "  fig.canvas.print_figure(bytes_io, **kw)\n",
            "/usr/local/lib/python3.10/dist-packages/IPython/core/pylabtools.py:151: UserWarning: Glyph 51032 (\\N{HANGUL SYLLABLE YI}) missing from current font.\n",
            "  fig.canvas.print_figure(bytes_io, **kw)\n",
            "/usr/local/lib/python3.10/dist-packages/IPython/core/pylabtools.py:151: UserWarning: Glyph 49328 (\\N{HANGUL SYLLABLE SAN}) missing from current font.\n",
            "  fig.canvas.print_figure(bytes_io, **kw)\n",
            "/usr/local/lib/python3.10/dist-packages/IPython/core/pylabtools.py:151: UserWarning: Glyph 54252 (\\N{HANGUL SYLLABLE PO}) missing from current font.\n",
            "  fig.canvas.print_figure(bytes_io, **kw)\n",
            "/usr/local/lib/python3.10/dist-packages/IPython/core/pylabtools.py:151: UserWarning: Glyph 46020 (\\N{HANGUL SYLLABLE DO}) missing from current font.\n",
            "  fig.canvas.print_figure(bytes_io, **kw)\n",
            "WARNING:matplotlib.font_manager:findfont: Font family 'NanumGothic' not found.\n",
            "WARNING:matplotlib.font_manager:findfont: Font family 'NanumGothic' not found.\n",
            "WARNING:matplotlib.font_manager:findfont: Font family 'NanumGothic' not found.\n",
            "WARNING:matplotlib.font_manager:findfont: Font family 'NanumGothic' not found.\n",
            "WARNING:matplotlib.font_manager:findfont: Font family 'NanumGothic' not found.\n",
            "WARNING:matplotlib.font_manager:findfont: Font family 'NanumGothic' not found.\n",
            "WARNING:matplotlib.font_manager:findfont: Font family 'NanumGothic' not found.\n",
            "WARNING:matplotlib.font_manager:findfont: Font family 'NanumGothic' not found.\n",
            "WARNING:matplotlib.font_manager:findfont: Font family 'NanumGothic' not found.\n",
            "WARNING:matplotlib.font_manager:findfont: Font family 'NanumGothic' not found.\n",
            "WARNING:matplotlib.font_manager:findfont: Font family 'NanumGothic' not found.\n",
            "WARNING:matplotlib.font_manager:findfont: Font family 'NanumGothic' not found.\n",
            "WARNING:matplotlib.font_manager:findfont: Font family 'NanumGothic' not found.\n",
            "WARNING:matplotlib.font_manager:findfont: Font family 'NanumGothic' not found.\n",
            "WARNING:matplotlib.font_manager:findfont: Font family 'NanumGothic' not found.\n",
            "WARNING:matplotlib.font_manager:findfont: Font family 'NanumGothic' not found.\n",
            "WARNING:matplotlib.font_manager:findfont: Font family 'NanumGothic' not found.\n",
            "WARNING:matplotlib.font_manager:findfont: Font family 'NanumGothic' not found.\n",
            "WARNING:matplotlib.font_manager:findfont: Font family 'NanumGothic' not found.\n",
            "WARNING:matplotlib.font_manager:findfont: Font family 'NanumGothic' not found.\n",
            "WARNING:matplotlib.font_manager:findfont: Font family 'NanumGothic' not found.\n",
            "WARNING:matplotlib.font_manager:findfont: Font family 'NanumGothic' not found.\n",
            "WARNING:matplotlib.font_manager:findfont: Font family 'NanumGothic' not found.\n",
            "WARNING:matplotlib.font_manager:findfont: Font family 'NanumGothic' not found.\n",
            "WARNING:matplotlib.font_manager:findfont: Font family 'NanumGothic' not found.\n",
            "WARNING:matplotlib.font_manager:findfont: Font family 'NanumGothic' not found.\n",
            "WARNING:matplotlib.font_manager:findfont: Font family 'NanumGothic' not found.\n",
            "WARNING:matplotlib.font_manager:findfont: Font family 'NanumGothic' not found.\n",
            "WARNING:matplotlib.font_manager:findfont: Font family 'NanumGothic' not found.\n",
            "WARNING:matplotlib.font_manager:findfont: Font family 'NanumGothic' not found.\n",
            "WARNING:matplotlib.font_manager:findfont: Font family 'NanumGothic' not found.\n",
            "WARNING:matplotlib.font_manager:findfont: Font family 'NanumGothic' not found.\n",
            "WARNING:matplotlib.font_manager:findfont: Font family 'NanumGothic' not found.\n",
            "WARNING:matplotlib.font_manager:findfont: Font family 'NanumGothic' not found.\n",
            "WARNING:matplotlib.font_manager:findfont: Font family 'NanumGothic' not found.\n",
            "WARNING:matplotlib.font_manager:findfont: Font family 'NanumGothic' not found.\n",
            "WARNING:matplotlib.font_manager:findfont: Font family 'NanumGothic' not found.\n"
          ]
        },
        {
          "output_type": "display_data",
          "data": {
            "text/plain": [
              "<Figure size 600x600 with 1 Axes>"
            ],
            "image/png": "[encoded data removed]"
          },
          "metadata": {}
        }
      ]
    },
    {
      "cell_type": "markdown",
      "metadata": {
        "id": "Pv-YMbfwXpCs"
      },
      "source": [
        "## 5.7 모델 정의"
      ]
    },
    {
      "cell_type": "code",
      "metadata": {
        "id": "UG4aJY0YbHO7",
        "colab": {
          "base_uri": "https://localhost:8080/"
        },
        "outputId": "864d9251-552b-4f83-9a2a-7c407c7ce1fa"
      },
      "source": [
        "# 변수 정의\n",
        "\n",
        "# 입력 차원수\n",
        "n_input= x.shape[1]\n",
        "\n",
        "# 출력 차원수\n",
        "n_output = 1\n",
        "\n",
        "print(f'입력 차원수: {n_input}  출력 차원수: {n_output}')"
      ],
      "execution_count": 21,
      "outputs": [
        {
          "output_type": "stream",
          "name": "stdout",
          "text": [
            "입력 차원수: 1  출력 차원수: 1\n"
          ]
        }
      ]
    },
    {
      "cell_type": "code",
      "metadata": {
        "id": "Qa_cV8urbs9s"
      },
      "source": [
        "# 머신러닝 모델(예측 모델)의 클래스 정의\n",
        "\n",
        "class Net(nn.Module):\n",
        "    def __init__(self, n_input, n_output):\n",
        "        #  부모 클래스 nn.Module 초기화\n",
        "        super().__init__()\n",
        "\n",
        "        # 출력층 정의\n",
        "        self.l1 = nn.Linear(n_input, n_output)\n",
        "\n",
        "        # 초깃값을 모두 1로 설정\n",
        "        # \"딥러닝을 위한 수학\"과 조건을 맞추기 위함\n",
        "        nn.init.constant_(self.l1.weight, 1.0)\n",
        "        nn.init.constant_(self.l1.bias, 1.0)\n",
        "\n",
        "    # 예측 함수 정의\n",
        "    def forward(self, x):\n",
        "        x1 = self.l1(x) # 선형 회귀\n",
        "        return x1"
      ],
      "execution_count": 22,
      "outputs": []
    },
    {
      "cell_type": "code",
      "metadata": {
        "id": "wQ4TtPGQkWql"
      },
      "source": [
        "# 인스턴스 생성\n",
        "# １입력 1출력 선형 모델\n",
        "\n",
        "net = Net(n_input, n_output)"
      ],
      "execution_count": 23,
      "outputs": []
    },
    {
      "cell_type": "code",
      "metadata": {
        "id": "bFf1N0HsXpCu",
        "colab": {
          "base_uri": "https://localhost:8080/"
        },
        "outputId": "cfb42628-0ab6-4411-a9e7-deeac0f0d6c7"
      },
      "source": [
        "# 모델 안의 파라미터를 확인\n",
        "# 모델 안의 변수를 가져오기 위해 named_parameters 함수를 사용함\n",
        "# 첫번째 요소는 변수명, 두번째 요소가 변숫값\n",
        "#\n",
        "# predict.weight와 predict.bias 파라미터가 존재함\n",
        "# 초깃값은 두 파라미터 모두 1.0\n",
        "\n",
        "for parameter in net.named_parameters():\n",
        "    print(f'변수명: {parameter[0]}')\n",
        "    print(f'변숫값: {parameter[1].data}')"
      ],
      "execution_count": 24,
      "outputs": [
        {
          "output_type": "stream",
          "name": "stdout",
          "text": [
            "변수명: l1.weight\n",
            "변숫값: tensor([[1.]])\n",
            "변수명: l1.bias\n",
            "변숫값: tensor([1.])\n"
          ]
        }
      ]
    },
    {
      "cell_type": "code",
      "metadata": {
        "id": "RjHjfAf7XpCu",
        "colab": {
          "base_uri": "https://localhost:8080/"
        },
        "outputId": "d5449e0e-f6d6-4a79-a1c8-ecfb8cd9a9d7"
      },
      "source": [
        "# 파라미터 리스트를 가져오기 위해 parameters 함수를 사용\n",
        "\n",
        "for parameter in net.parameters():\n",
        "    print(parameter)"
      ],
      "execution_count": 25,
      "outputs": [
        {
          "output_type": "stream",
          "name": "stdout",
          "text": [
            "Parameter containing:\n",
            "tensor([[1.]], requires_grad=True)\n",
            "Parameter containing:\n",
            "tensor([1.], requires_grad=True)\n"
          ]
        }
      ]
    },
    {
      "cell_type": "markdown",
      "metadata": {
        "id": "LTqxnIJaXpCv"
      },
      "source": [
        "### 모델 확인"
      ]
    },
    {
      "cell_type": "code",
      "metadata": {
        "id": "_zaPgb2td6vV",
        "colab": {
          "base_uri": "https://localhost:8080/"
        },
        "outputId": "c97acb31-aa5b-49b1-8faf-edfafb291a6a"
      },
      "source": [
        "# 모델의 개요 표시 1\n",
        "\n",
        "print(net)"
      ],
      "execution_count": 26,
      "outputs": [
        {
          "output_type": "stream",
          "name": "stdout",
          "text": [
            "Net(\n",
            "  (l1): Linear(in_features=1, out_features=1, bias=True)\n",
            ")\n"
          ]
        }
      ]
    },
    {
      "cell_type": "code",
      "metadata": {
        "id": "uWXVbu0leJgB",
        "colab": {
          "base_uri": "https://localhost:8080/"
        },
        "outputId": "744fc1dc-406b-48b2-95f2-701c235fba4c"
      },
      "source": [
        "# 모델의 개요 표시 1\n",
        "\n",
        "from torchinfo import summary\n",
        "summary(net, (1,))"
      ],
      "execution_count": 27,
      "outputs": [
        {
          "output_type": "execute_result",
          "data": {
            "text/plain": [
              "==========================================================================================\n",
              "Layer (type:depth-idx)                   Output Shape              Param #\n",
              "==========================================================================================\n",
              "Net                                      [1]                       --\n",
              "├─Linear: 1-1                            [1]                       2\n",
              "==========================================================================================\n",
              "Total params: 2\n",
              "Trainable params: 2\n",
              "Non-trainable params: 0\n",
              "Total mult-adds (M): 0.00\n",
              "==========================================================================================\n",
              "Input size (MB): 0.00\n",
              "Forward/backward pass size (MB): 0.00\n",
              "Params size (MB): 0.00\n",
              "Estimated Total Size (MB): 0.00\n",
              "=========================================================================================="
            ]
          },
          "metadata": {},
          "execution_count": 27
        }
      ]
    },
    {
      "cell_type": "markdown",
      "metadata": {
        "id": "aSx3Ha0cXpCv"
      },
      "source": [
        "### 손실 함수와 최적화 함수"
      ]
    },
    {
      "cell_type": "code",
      "metadata": {
        "id": "_-8Dq5hWfeoB"
      },
      "source": [
        "# 손실 함수： 평균 제곱 오차\n",
        "criterion = nn.MSELoss()\n",
        "\n",
        "# 학습률\n",
        "lr = 0.01\n",
        "\n",
        "# 최적화 함수: 경사 하강법\n",
        "optimizer = optim.SGD(net.parameters(), lr=lr)"
      ],
      "execution_count": 28,
      "outputs": []
    },
    {
      "cell_type": "markdown",
      "metadata": {
        "id": "7FXFabMEXpCw"
      },
      "source": [
        "## 5.8 경사 하강법"
      ]
    },
    {
      "cell_type": "code",
      "metadata": {
        "id": "-hiUPe-uXpCw",
        "colab": {
          "base_uri": "https://localhost:8080/"
        },
        "outputId": "ab03d8d2-f91a-46fd-d2e5-59b255287364"
      },
      "source": [
        "# 입력값 x와 정답 yt의 텐서 변수화\n",
        "\n",
        "inputs = torch.tensor(x).float()\n",
        "labels = torch.tensor(yt).float()\n",
        "\n",
        "# 차원 수 확인\n",
        "\n",
        "print(inputs.shape)\n",
        "print(labels.shape)"
      ],
      "execution_count": 29,
      "outputs": [
        {
          "output_type": "stream",
          "name": "stdout",
          "text": [
            "torch.Size([506, 1])\n",
            "torch.Size([506])\n"
          ]
        }
      ]
    },
    {
      "cell_type": "code",
      "metadata": {
        "id": "0iRTGvM4XpCw",
        "colab": {
          "base_uri": "https://localhost:8080/"
        },
        "outputId": "cc470f51-96e1-4eef-a3dd-f2f4f828839a"
      },
      "source": [
        "# 손실 계산을 위해 labels를 (N,1) 차원의 행렬로 변환\n",
        "\n",
        "labels1 = labels.view((-1, 1))\n",
        "\n",
        "# 차원 수 확인\n",
        "print(labels1.shape)"
      ],
      "execution_count": 30,
      "outputs": [
        {
          "output_type": "stream",
          "name": "stdout",
          "text": [
            "torch.Size([506, 1])\n"
          ]
        }
      ]
    },
    {
      "cell_type": "code",
      "metadata": {
        "id": "foVlKfQ5XpCw"
      },
      "source": [
        "# 예측 계산\n",
        "\n",
        "outputs = net(inputs)"
      ],
      "execution_count": 31,
      "outputs": []
    },
    {
      "cell_type": "code",
      "metadata": {
        "id": "frF6g1MhXpCx",
        "colab": {
          "base_uri": "https://localhost:8080/"
        },
        "outputId": "7a94f4b7-8526-46f1-caed-0e0eeef3c34a"
      },
      "source": [
        "\n",
        "# 손실 계산\n",
        "loss = criterion(outputs, labels1)\n",
        "\n",
        "# 손실 값 가져오기\n",
        "print(f'{loss.item():.5f}')"
      ],
      "execution_count": 32,
      "outputs": [
        {
          "output_type": "stream",
          "name": "stdout",
          "text": [
            "308.44986\n"
          ]
        }
      ]
    },
    {
      "cell_type": "code",
      "metadata": {
        "id": "bHjWn0NfXpCx",
        "colab": {
          "base_uri": "https://localhost:8080/",
          "height": 468
        },
        "outputId": "ca8d8269-12aa-477d-b840-6213bab88e14"
      },
      "source": [
        "# 손실을 그래프로 나타내기\n",
        "\n",
        "g = make_dot(loss, params=dict(net.named_parameters()))\n",
        "display(g)"
      ],
      "execution_count": 33,
      "outputs": [
        {
          "output_type": "display_data",
          "data": {
            "image/svg+xml": "<?xml version=\"1.0\" encoding=\"UTF-8\" standalone=\"no\"?>\n<!DOCTYPE svg PUBLIC \"-//W3C//DTD SVG 1.1//EN\"\n \"http://www.w3.org/Graphics/SVG/1.1/DTD/svg11.dtd\">\n<!-- Generated by graphviz version 2.43.0 (0)\n -->\n<!-- Title: %3 Pages: 1 -->\n<svg width=\"216pt\" height=\"336pt\"\n viewBox=\"0.00 0.00 216.00 336.00\" xmlns=\"http://www.w3.org/2000/svg\" xmlns:xlink=\"http://www.w3.org/1999/xlink\">\n<g id=\"graph0\" class=\"graph\" transform=\"scale(1 1) rotate(0) translate(4 332)\">\n<title>%3</title>\n<polygon fill=\"white\" stroke=\"transparent\" points=\"-4,4 -4,-332 212,-332 212,4 -4,4\"/>\n<!-- 134848953364896 -->\n<g id=\"node1\" class=\"node\">\n<title>134848953364896</title>\n<polygon fill=\"#caff70\" stroke=\"black\" points=\"130.5,-31 76.5,-31 76.5,0 130.5,0 130.5,-31\"/>\n<text text-anchor=\"middle\" x=\"103.5\" y=\"-7\" font-family=\"monospace\" font-size=\"10.00\"> ()</text>\n</g>\n<!-- 134848953230400 -->\n<g id=\"node2\" class=\"node\">\n<title>134848953230400</title>\n<polygon fill=\"lightgrey\" stroke=\"black\" points=\"160,-86 47,-86 47,-67 160,-67 160,-86\"/>\n<text text-anchor=\"middle\" x=\"103.5\" y=\"-74\" font-family=\"monospace\" font-size=\"10.00\">MseLossBackward0</text>\n</g>\n<!-- 134848953230400&#45;&gt;134848953364896 -->\n<g id=\"edge7\" class=\"edge\">\n<title>134848953230400&#45;&gt;134848953364896</title>\n<path fill=\"none\" stroke=\"black\" d=\"M103.5,-66.79C103.5,-60.07 103.5,-50.4 103.5,-41.34\"/>\n<polygon fill=\"black\" stroke=\"black\" points=\"107,-41.19 103.5,-31.19 100,-41.19 107,-41.19\"/>\n</g>\n<!-- 134848953230832 -->\n<g id=\"node3\" class=\"node\">\n<title>134848953230832</title>\n<polygon fill=\"lightgrey\" stroke=\"black\" points=\"154,-141 53,-141 53,-122 154,-122 154,-141\"/>\n<text text-anchor=\"middle\" x=\"103.5\" y=\"-129\" font-family=\"monospace\" font-size=\"10.00\">AddmmBackward0</text>\n</g>\n<!-- 134848953230832&#45;&gt;134848953230400 -->\n<g id=\"edge1\" class=\"edge\">\n<title>134848953230832&#45;&gt;134848953230400</title>\n<path fill=\"none\" stroke=\"black\" d=\"M103.5,-121.75C103.5,-114.8 103.5,-104.85 103.5,-96.13\"/>\n<polygon fill=\"black\" stroke=\"black\" points=\"107,-96.09 103.5,-86.09 100,-96.09 107,-96.09\"/>\n</g>\n<!-- 134848953229440 -->\n<g id=\"node4\" class=\"node\">\n<title>134848953229440</title>\n<polygon fill=\"lightgrey\" stroke=\"black\" points=\"101,-196 0,-196 0,-177 101,-177 101,-196\"/>\n<text text-anchor=\"middle\" x=\"50.5\" y=\"-184\" font-family=\"monospace\" font-size=\"10.00\">AccumulateGrad</text>\n</g>\n<!-- 134848953229440&#45;&gt;134848953230832 -->\n<g id=\"edge2\" class=\"edge\">\n<title>134848953229440&#45;&gt;134848953230832</title>\n<path fill=\"none\" stroke=\"black\" d=\"M59.25,-176.75C66.97,-169.03 78.4,-157.6 87.72,-148.28\"/>\n<polygon fill=\"black\" stroke=\"black\" points=\"90.31,-150.64 94.91,-141.09 85.36,-145.69 90.31,-150.64\"/>\n</g>\n<!-- 134848988390128 -->\n<g id=\"node5\" class=\"node\">\n<title>134848988390128</title>\n<polygon fill=\"lightblue\" stroke=\"black\" points=\"80,-262 21,-262 21,-232 80,-232 80,-262\"/>\n<text text-anchor=\"middle\" x=\"50.5\" y=\"-250\" font-family=\"monospace\" font-size=\"10.00\">l1.bias</text>\n<text text-anchor=\"middle\" x=\"50.5\" y=\"-239\" font-family=\"monospace\" font-size=\"10.00\"> (1)</text>\n</g>\n<!-- 134848988390128&#45;&gt;134848953229440 -->\n<g id=\"edge3\" class=\"edge\">\n<title>134848988390128&#45;&gt;134848953229440</title>\n<path fill=\"none\" stroke=\"black\" d=\"M50.5,-231.84C50.5,-224.21 50.5,-214.7 50.5,-206.45\"/>\n<polygon fill=\"black\" stroke=\"black\" points=\"54,-206.27 50.5,-196.27 47,-206.27 54,-206.27\"/>\n</g>\n<!-- 134848953230880 -->\n<g id=\"node6\" class=\"node\">\n<title>134848953230880</title>\n<polygon fill=\"lightgrey\" stroke=\"black\" points=\"196,-196 119,-196 119,-177 196,-177 196,-196\"/>\n<text text-anchor=\"middle\" x=\"157.5\" y=\"-184\" font-family=\"monospace\" font-size=\"10.00\">TBackward0</text>\n</g>\n<!-- 134848953230880&#45;&gt;134848953230832 -->\n<g id=\"edge4\" class=\"edge\">\n<title>134848953230880&#45;&gt;134848953230832</title>\n<path fill=\"none\" stroke=\"black\" d=\"M148.58,-176.75C140.72,-169.03 129.07,-157.6 119.58,-148.28\"/>\n<polygon fill=\"black\" stroke=\"black\" points=\"121.84,-145.6 112.25,-141.09 116.94,-150.59 121.84,-145.6\"/>\n</g>\n<!-- 134848953229344 -->\n<g id=\"node7\" class=\"node\">\n<title>134848953229344</title>\n<polygon fill=\"lightgrey\" stroke=\"black\" points=\"208,-256.5 107,-256.5 107,-237.5 208,-237.5 208,-256.5\"/>\n<text text-anchor=\"middle\" x=\"157.5\" y=\"-244.5\" font-family=\"monospace\" font-size=\"10.00\">AccumulateGrad</text>\n</g>\n<!-- 134848953229344&#45;&gt;134848953230880 -->\n<g id=\"edge5\" class=\"edge\">\n<title>134848953229344&#45;&gt;134848953230880</title>\n<path fill=\"none\" stroke=\"black\" d=\"M157.5,-237.37C157.5,-229.25 157.5,-216.81 157.5,-206.39\"/>\n<polygon fill=\"black\" stroke=\"black\" points=\"161,-206.17 157.5,-196.17 154,-206.17 161,-206.17\"/>\n</g>\n<!-- 134849002857360 -->\n<g id=\"node8\" class=\"node\">\n<title>134849002857360</title>\n<polygon fill=\"lightblue\" stroke=\"black\" points=\"193,-328 122,-328 122,-298 193,-298 193,-328\"/>\n<text text-anchor=\"middle\" x=\"157.5\" y=\"-316\" font-family=\"monospace\" font-size=\"10.00\">l1.weight</text>\n<text text-anchor=\"middle\" x=\"157.5\" y=\"-305\" font-family=\"monospace\" font-size=\"10.00\"> (1, 1)</text>\n</g>\n<!-- 134849002857360&#45;&gt;134848953229344 -->\n<g id=\"edge6\" class=\"edge\">\n<title>134849002857360&#45;&gt;134848953229344</title>\n<path fill=\"none\" stroke=\"black\" d=\"M157.5,-297.8C157.5,-288.7 157.5,-276.79 157.5,-266.9\"/>\n<polygon fill=\"black\" stroke=\"black\" points=\"161,-266.84 157.5,-256.84 154,-266.84 161,-266.84\"/>\n</g>\n</g>\n</svg>\n",
            "text/plain": [
              "<graphviz.graphs.Digraph at 0x7aa4f7f4a4a0>"
            ]
          },
          "metadata": {}
        }
      ]
    },
    {
      "cell_type": "code",
      "metadata": {
        "id": "j6IUY2obXpCx",
        "colab": {
          "base_uri": "https://localhost:8080/"
        },
        "outputId": "b5fef71e-b206-4f60-b588-1dac33134f7b"
      },
      "source": [
        "# 예측 계산\n",
        "outputs = net(inputs)\n",
        "\n",
        "# 손실 계산\n",
        "loss = criterion(outputs, labels1)\n",
        "\n",
        "# 경사 계산\n",
        "loss.backward()\n",
        "\n",
        "# 경사 계산 결과를 취득 가능하도록 함\n",
        "print(net.l1.weight.grad)\n",
        "print(net.l1.bias.grad)"
      ],
      "execution_count": 34,
      "outputs": [
        {
          "output_type": "stream",
          "name": "stdout",
          "text": [
            "tensor([[-199.6421]])\n",
            "tensor([-30.4963])\n"
          ]
        }
      ]
    },
    {
      "cell_type": "code",
      "metadata": {
        "id": "SMwYMMXAXpCy",
        "colab": {
          "base_uri": "https://localhost:8080/"
        },
        "outputId": "b465a188-37ef-4f93-f306-6516634b4f5c"
      },
      "source": [
        "# 파라미터 수정\n",
        "optimizer.step()\n",
        "\n",
        "# 파라미터 확인\n",
        "print(net.l1.weight)\n",
        "print(net.l1.bias)"
      ],
      "execution_count": 35,
      "outputs": [
        {
          "output_type": "stream",
          "name": "stdout",
          "text": [
            "Parameter containing:\n",
            "tensor([[2.9964]], requires_grad=True)\n",
            "Parameter containing:\n",
            "tensor([1.3050], requires_grad=True)\n"
          ]
        }
      ]
    },
    {
      "cell_type": "code",
      "metadata": {
        "id": "4SMBbG19XpCy",
        "colab": {
          "base_uri": "https://localhost:8080/"
        },
        "outputId": "8313b20d-774d-413a-ae31-733418be0aa4"
      },
      "source": [
        "# 경삿값 초기화\n",
        "optimizer.zero_grad()\n",
        "\n",
        "# 경삿값을 모두 0으로 함\n",
        "print(net.l1.weight.grad)\n",
        "print(net.l1.bias.grad)"
      ],
      "execution_count": 36,
      "outputs": [
        {
          "output_type": "stream",
          "name": "stdout",
          "text": [
            "None\n",
            "None\n"
          ]
        }
      ]
    },
    {
      "cell_type": "markdown",
      "metadata": {
        "id": "qGe0W7syXpCy"
      },
      "source": [
        "### 반복 계산"
      ]
    },
    {
      "cell_type": "code",
      "metadata": {
        "id": "s6sIrMqiXpCy"
      },
      "source": [
        "# 학습률\n",
        "lr = 0.01\n",
        "\n",
        "# 인스턴스 생성(파라미터 값 초기화)\n",
        "net = Net(n_input, n_output)\n",
        "\n",
        "# 손실 함수：평균 제곱 오차\n",
        "criterion = nn.MSELoss()\n",
        "\n",
        "# 최적화 함수 : 경사 하강법\n",
        "optimizer = optim.SGD(net.parameters(), lr=lr)\n",
        "\n",
        "# 반복 횟수\n",
        "num_epochs = 50000\n",
        "\n",
        "# 평가 결과 기록(손실 값만 기록)\n",
        "history = np.zeros((0,2))"
      ],
      "execution_count": 37,
      "outputs": []
    },
    {
      "cell_type": "code",
      "metadata": {
        "id": "7Db7l67DeT9-",
        "scrolled": false,
        "colab": {
          "base_uri": "https://localhost:8080/"
        },
        "outputId": "a5635561-ebc7-432a-f79b-21d3fc2ed3b1"
      },
      "source": [
        "# 반복 계산 메인 루프\n",
        "\n",
        "for epoch in range(num_epochs):\n",
        "\n",
        "    # 경삿값 초기화\n",
        "    optimizer.zero_grad()\n",
        "\n",
        "    # 예측 계산\n",
        "    outputs = net(inputs)\n",
        "\n",
        "    # 손실 계산\n",
        "    # \"딥러닝을 위한 수학\"에 나온 결과와 맞추기 위해 2로 나눈 값을 손실로 정의\n",
        "    loss = criterion(outputs, labels1) / 2.0\n",
        "\n",
        "    # 경사 계산\n",
        "    loss.backward()\n",
        "\n",
        "    # 파라미터 수정\n",
        "    optimizer.step()\n",
        "\n",
        "    # 100회 마다 도중 경과를 기록\n",
        "    if ( epoch % 100 == 0):\n",
        "        history = np.vstack((history, np.array([epoch, loss.item()])))\n",
        "        print(f'Epoch {epoch} loss: {loss.item():.5f}')"
      ],
      "execution_count": 38,
      "outputs": [
        {
          "output_type": "stream",
          "name": "stdout",
          "text": [
            "Epoch 0 loss: 154.22493\n",
            "Epoch 100 loss: 29.61752\n",
            "Epoch 200 loss: 29.43177\n",
            "Epoch 300 loss: 29.25043\n",
            "Epoch 400 loss: 29.07340\n",
            "Epoch 500 loss: 28.90057\n",
            "Epoch 600 loss: 28.73186\n",
            "Epoch 700 loss: 28.56715\n",
            "Epoch 800 loss: 28.40636\n",
            "Epoch 900 loss: 28.24939\n",
            "Epoch 1000 loss: 28.09615\n",
            "Epoch 1100 loss: 27.94655\n",
            "Epoch 1200 loss: 27.80050\n",
            "Epoch 1300 loss: 27.65792\n",
            "Epoch 1400 loss: 27.51873\n",
            "Epoch 1500 loss: 27.38285\n",
            "Epoch 1600 loss: 27.25020\n",
            "Epoch 1700 loss: 27.12070\n",
            "Epoch 1800 loss: 26.99428\n",
            "Epoch 1900 loss: 26.87086\n",
            "Epoch 2000 loss: 26.75037\n",
            "Epoch 2100 loss: 26.63275\n",
            "Epoch 2200 loss: 26.51792\n",
            "Epoch 2300 loss: 26.40582\n",
            "Epoch 2400 loss: 26.29639\n",
            "Epoch 2500 loss: 26.18955\n",
            "Epoch 2600 loss: 26.08525\n",
            "Epoch 2700 loss: 25.98343\n",
            "Epoch 2800 loss: 25.88404\n",
            "Epoch 2900 loss: 25.78700\n",
            "Epoch 3000 loss: 25.69226\n",
            "Epoch 3100 loss: 25.59978\n",
            "Epoch 3200 loss: 25.50950\n",
            "Epoch 3300 loss: 25.42136\n",
            "Epoch 3400 loss: 25.33532\n",
            "Epoch 3500 loss: 25.25132\n",
            "Epoch 3600 loss: 25.16932\n",
            "Epoch 3700 loss: 25.08927\n",
            "Epoch 3800 loss: 25.01111\n",
            "Epoch 3900 loss: 24.93482\n",
            "Epoch 4000 loss: 24.86034\n",
            "Epoch 4100 loss: 24.78762\n",
            "Epoch 4200 loss: 24.71664\n",
            "Epoch 4300 loss: 24.64734\n",
            "Epoch 4400 loss: 24.57969\n",
            "Epoch 4500 loss: 24.51365\n",
            "Epoch 4600 loss: 24.44917\n",
            "Epoch 4700 loss: 24.38623\n",
            "Epoch 4800 loss: 24.32478\n",
            "Epoch 4900 loss: 24.26480\n",
            "Epoch 5000 loss: 24.20624\n",
            "Epoch 5100 loss: 24.14907\n",
            "Epoch 5200 loss: 24.09326\n",
            "Epoch 5300 loss: 24.03877\n",
            "Epoch 5400 loss: 23.98558\n",
            "Epoch 5500 loss: 23.93365\n",
            "Epoch 5600 loss: 23.88296\n",
            "Epoch 5700 loss: 23.83347\n",
            "Epoch 5800 loss: 23.78516\n",
            "Epoch 5900 loss: 23.73800\n",
            "Epoch 6000 loss: 23.69196\n",
            "Epoch 6100 loss: 23.64701\n",
            "Epoch 6200 loss: 23.60312\n",
            "Epoch 6300 loss: 23.56029\n",
            "Epoch 6400 loss: 23.51847\n",
            "Epoch 6500 loss: 23.47764\n",
            "Epoch 6600 loss: 23.43778\n",
            "Epoch 6700 loss: 23.39887\n",
            "Epoch 6800 loss: 23.36088\n",
            "Epoch 6900 loss: 23.32380\n",
            "Epoch 7000 loss: 23.28760\n",
            "Epoch 7100 loss: 23.25226\n",
            "Epoch 7200 loss: 23.21776\n",
            "Epoch 7300 loss: 23.18408\n",
            "Epoch 7400 loss: 23.15120\n",
            "Epoch 7500 loss: 23.11910\n",
            "Epoch 7600 loss: 23.08776\n",
            "Epoch 7700 loss: 23.05717\n",
            "Epoch 7800 loss: 23.02730\n",
            "Epoch 7900 loss: 22.99814\n",
            "Epoch 8000 loss: 22.96968\n",
            "Epoch 8100 loss: 22.94190\n",
            "Epoch 8200 loss: 22.91477\n",
            "Epoch 8300 loss: 22.88828\n",
            "Epoch 8400 loss: 22.86243\n",
            "Epoch 8500 loss: 22.83719\n",
            "Epoch 8600 loss: 22.81255\n",
            "Epoch 8700 loss: 22.78850\n",
            "Epoch 8800 loss: 22.76502\n",
            "Epoch 8900 loss: 22.74209\n",
            "Epoch 9000 loss: 22.71972\n",
            "Epoch 9100 loss: 22.69787\n",
            "Epoch 9200 loss: 22.67654\n",
            "Epoch 9300 loss: 22.65572\n",
            "Epoch 9400 loss: 22.63539\n",
            "Epoch 9500 loss: 22.61555\n",
            "Epoch 9600 loss: 22.59618\n",
            "Epoch 9700 loss: 22.57727\n",
            "Epoch 9800 loss: 22.55880\n",
            "Epoch 9900 loss: 22.54078\n",
            "Epoch 10000 loss: 22.52318\n",
            "Epoch 10100 loss: 22.50601\n",
            "Epoch 10200 loss: 22.48924\n",
            "Epoch 10300 loss: 22.47287\n",
            "Epoch 10400 loss: 22.45688\n",
            "Epoch 10500 loss: 22.44128\n",
            "Epoch 10600 loss: 22.42605\n",
            "Epoch 10700 loss: 22.41118\n",
            "Epoch 10800 loss: 22.39667\n",
            "Epoch 10900 loss: 22.38249\n",
            "Epoch 11000 loss: 22.36866\n",
            "Epoch 11100 loss: 22.35515\n",
            "Epoch 11200 loss: 22.34197\n",
            "Epoch 11300 loss: 22.32910\n",
            "Epoch 11400 loss: 22.31653\n",
            "Epoch 11500 loss: 22.30426\n",
            "Epoch 11600 loss: 22.29229\n",
            "Epoch 11700 loss: 22.28060\n",
            "Epoch 11800 loss: 22.26919\n",
            "Epoch 11900 loss: 22.25804\n",
            "Epoch 12000 loss: 22.24717\n",
            "Epoch 12100 loss: 22.23655\n",
            "Epoch 12200 loss: 22.22618\n",
            "Epoch 12300 loss: 22.21606\n",
            "Epoch 12400 loss: 22.20618\n",
            "Epoch 12500 loss: 22.19654\n",
            "Epoch 12600 loss: 22.18712\n",
            "Epoch 12700 loss: 22.17793\n",
            "Epoch 12800 loss: 22.16896\n",
            "Epoch 12900 loss: 22.16020\n",
            "Epoch 13000 loss: 22.15165\n",
            "Epoch 13100 loss: 22.14330\n",
            "Epoch 13200 loss: 22.13514\n",
            "Epoch 13300 loss: 22.12719\n",
            "Epoch 13400 loss: 22.11942\n",
            "Epoch 13500 loss: 22.11184\n",
            "Epoch 13600 loss: 22.10443\n",
            "Epoch 13700 loss: 22.09720\n",
            "Epoch 13800 loss: 22.09015\n",
            "Epoch 13900 loss: 22.08326\n",
            "Epoch 14000 loss: 22.07654\n",
            "Epoch 14100 loss: 22.06997\n",
            "Epoch 14200 loss: 22.06357\n",
            "Epoch 14300 loss: 22.05731\n",
            "Epoch 14400 loss: 22.05120\n",
            "Epoch 14500 loss: 22.04524\n",
            "Epoch 14600 loss: 22.03942\n",
            "Epoch 14700 loss: 22.03374\n",
            "Epoch 14800 loss: 22.02819\n",
            "Epoch 14900 loss: 22.02277\n",
            "Epoch 15000 loss: 22.01749\n",
            "Epoch 15100 loss: 22.01233\n",
            "Epoch 15200 loss: 22.00729\n",
            "Epoch 15300 loss: 22.00237\n",
            "Epoch 15400 loss: 21.99757\n",
            "Epoch 15500 loss: 21.99288\n",
            "Epoch 15600 loss: 21.98830\n",
            "Epoch 15700 loss: 21.98384\n",
            "Epoch 15800 loss: 21.97948\n",
            "Epoch 15900 loss: 21.97521\n",
            "Epoch 16000 loss: 21.97106\n",
            "Epoch 16100 loss: 21.96700\n",
            "Epoch 16200 loss: 21.96304\n",
            "Epoch 16300 loss: 21.95917\n",
            "Epoch 16400 loss: 21.95539\n",
            "Epoch 16500 loss: 21.95171\n",
            "Epoch 16600 loss: 21.94811\n",
            "Epoch 16700 loss: 21.94460\n",
            "Epoch 16800 loss: 21.94117\n",
            "Epoch 16900 loss: 21.93782\n",
            "Epoch 17000 loss: 21.93456\n",
            "Epoch 17100 loss: 21.93136\n",
            "Epoch 17200 loss: 21.92825\n",
            "Epoch 17300 loss: 21.92521\n",
            "Epoch 17400 loss: 21.92224\n",
            "Epoch 17500 loss: 21.91934\n",
            "Epoch 17600 loss: 21.91651\n",
            "Epoch 17700 loss: 21.91375\n",
            "Epoch 17800 loss: 21.91106\n",
            "Epoch 17900 loss: 21.90842\n",
            "Epoch 18000 loss: 21.90585\n",
            "Epoch 18100 loss: 21.90334\n",
            "Epoch 18200 loss: 21.90090\n",
            "Epoch 18300 loss: 21.89850\n",
            "Epoch 18400 loss: 21.89617\n",
            "Epoch 18500 loss: 21.89389\n",
            "Epoch 18600 loss: 21.89167\n",
            "Epoch 18700 loss: 21.88950\n",
            "Epoch 18800 loss: 21.88738\n",
            "Epoch 18900 loss: 21.88531\n",
            "Epoch 19000 loss: 21.88329\n",
            "Epoch 19100 loss: 21.88132\n",
            "Epoch 19200 loss: 21.87939\n",
            "Epoch 19300 loss: 21.87751\n",
            "Epoch 19400 loss: 21.87567\n",
            "Epoch 19500 loss: 21.87388\n",
            "Epoch 19600 loss: 21.87213\n",
            "Epoch 19700 loss: 21.87043\n",
            "Epoch 19800 loss: 21.86876\n",
            "Epoch 19900 loss: 21.86713\n",
            "Epoch 20000 loss: 21.86554\n",
            "Epoch 20100 loss: 21.86399\n",
            "Epoch 20200 loss: 21.86248\n",
            "Epoch 20300 loss: 21.86100\n",
            "Epoch 20400 loss: 21.85956\n",
            "Epoch 20500 loss: 21.85815\n",
            "Epoch 20600 loss: 21.85677\n",
            "Epoch 20700 loss: 21.85543\n",
            "Epoch 20800 loss: 21.85412\n",
            "Epoch 20900 loss: 21.85284\n",
            "Epoch 21000 loss: 21.85159\n",
            "Epoch 21100 loss: 21.85038\n",
            "Epoch 21200 loss: 21.84918\n",
            "Epoch 21300 loss: 21.84802\n",
            "Epoch 21400 loss: 21.84689\n",
            "Epoch 21500 loss: 21.84578\n",
            "Epoch 21600 loss: 21.84470\n",
            "Epoch 21700 loss: 21.84364\n",
            "Epoch 21800 loss: 21.84261\n",
            "Epoch 21900 loss: 21.84160\n",
            "Epoch 22000 loss: 21.84063\n",
            "Epoch 22100 loss: 21.83967\n",
            "Epoch 22200 loss: 21.83873\n",
            "Epoch 22300 loss: 21.83782\n",
            "Epoch 22400 loss: 21.83693\n",
            "Epoch 22500 loss: 21.83605\n",
            "Epoch 22600 loss: 21.83520\n",
            "Epoch 22700 loss: 21.83437\n",
            "Epoch 22800 loss: 21.83356\n",
            "Epoch 22900 loss: 21.83278\n",
            "Epoch 23000 loss: 21.83200\n",
            "Epoch 23100 loss: 21.83125\n",
            "Epoch 23200 loss: 21.83051\n",
            "Epoch 23300 loss: 21.82980\n",
            "Epoch 23400 loss: 21.82909\n",
            "Epoch 23500 loss: 21.82841\n",
            "Epoch 23600 loss: 21.82774\n",
            "Epoch 23700 loss: 21.82709\n",
            "Epoch 23800 loss: 21.82645\n",
            "Epoch 23900 loss: 21.82583\n",
            "Epoch 24000 loss: 21.82522\n",
            "Epoch 24100 loss: 21.82463\n",
            "Epoch 24200 loss: 21.82405\n",
            "Epoch 24300 loss: 21.82348\n",
            "Epoch 24400 loss: 21.82293\n",
            "Epoch 24500 loss: 21.82239\n",
            "Epoch 24600 loss: 21.82187\n",
            "Epoch 24700 loss: 21.82136\n",
            "Epoch 24800 loss: 21.82085\n",
            "Epoch 24900 loss: 21.82037\n",
            "Epoch 25000 loss: 21.81989\n",
            "Epoch 25100 loss: 21.81942\n",
            "Epoch 25200 loss: 21.81897\n",
            "Epoch 25300 loss: 21.81853\n",
            "Epoch 25400 loss: 21.81809\n",
            "Epoch 25500 loss: 21.81767\n",
            "Epoch 25600 loss: 21.81726\n",
            "Epoch 25700 loss: 21.81685\n",
            "Epoch 25800 loss: 21.81646\n",
            "Epoch 25900 loss: 21.81607\n",
            "Epoch 26000 loss: 21.81570\n",
            "Epoch 26100 loss: 21.81533\n",
            "Epoch 26200 loss: 21.81497\n",
            "Epoch 26300 loss: 21.81462\n",
            "Epoch 26400 loss: 21.81428\n",
            "Epoch 26500 loss: 21.81395\n",
            "Epoch 26600 loss: 21.81363\n",
            "Epoch 26700 loss: 21.81331\n",
            "Epoch 26800 loss: 21.81300\n",
            "Epoch 26900 loss: 21.81269\n",
            "Epoch 27000 loss: 21.81240\n",
            "Epoch 27100 loss: 21.81211\n",
            "Epoch 27200 loss: 21.81183\n",
            "Epoch 27300 loss: 21.81156\n",
            "Epoch 27400 loss: 21.81129\n",
            "Epoch 27500 loss: 21.81103\n",
            "Epoch 27600 loss: 21.81077\n",
            "Epoch 27700 loss: 21.81052\n",
            "Epoch 27800 loss: 21.81028\n",
            "Epoch 27900 loss: 21.81004\n",
            "Epoch 28000 loss: 21.80981\n",
            "Epoch 28100 loss: 21.80959\n",
            "Epoch 28200 loss: 21.80936\n",
            "Epoch 28300 loss: 21.80915\n",
            "Epoch 28400 loss: 21.80894\n",
            "Epoch 28500 loss: 21.80873\n",
            "Epoch 28600 loss: 21.80853\n",
            "Epoch 28700 loss: 21.80833\n",
            "Epoch 28800 loss: 21.80814\n",
            "Epoch 28900 loss: 21.80795\n",
            "Epoch 29000 loss: 21.80777\n",
            "Epoch 29100 loss: 21.80759\n",
            "Epoch 29200 loss: 21.80742\n",
            "Epoch 29300 loss: 21.80725\n",
            "Epoch 29400 loss: 21.80709\n",
            "Epoch 29500 loss: 21.80693\n",
            "Epoch 29600 loss: 21.80676\n",
            "Epoch 29700 loss: 21.80661\n",
            "Epoch 29800 loss: 21.80646\n",
            "Epoch 29900 loss: 21.80631\n",
            "Epoch 30000 loss: 21.80617\n",
            "Epoch 30100 loss: 21.80603\n",
            "Epoch 30200 loss: 21.80589\n",
            "Epoch 30300 loss: 21.80576\n",
            "Epoch 30400 loss: 21.80563\n",
            "Epoch 30500 loss: 21.80551\n",
            "Epoch 30600 loss: 21.80538\n",
            "Epoch 30700 loss: 21.80526\n",
            "Epoch 30800 loss: 21.80514\n",
            "Epoch 30900 loss: 21.80503\n",
            "Epoch 31000 loss: 21.80491\n",
            "Epoch 31100 loss: 21.80480\n",
            "Epoch 31200 loss: 21.80469\n",
            "Epoch 31300 loss: 21.80459\n",
            "Epoch 31400 loss: 21.80449\n",
            "Epoch 31500 loss: 21.80439\n",
            "Epoch 31600 loss: 21.80429\n",
            "Epoch 31700 loss: 21.80419\n",
            "Epoch 31800 loss: 21.80410\n",
            "Epoch 31900 loss: 21.80401\n",
            "Epoch 32000 loss: 21.80392\n",
            "Epoch 32100 loss: 21.80384\n",
            "Epoch 32200 loss: 21.80375\n",
            "Epoch 32300 loss: 21.80367\n",
            "Epoch 32400 loss: 21.80359\n",
            "Epoch 32500 loss: 21.80351\n",
            "Epoch 32600 loss: 21.80343\n",
            "Epoch 32700 loss: 21.80336\n",
            "Epoch 32800 loss: 21.80328\n",
            "Epoch 32900 loss: 21.80321\n",
            "Epoch 33000 loss: 21.80314\n",
            "Epoch 33100 loss: 21.80307\n",
            "Epoch 33200 loss: 21.80301\n",
            "Epoch 33300 loss: 21.80294\n",
            "Epoch 33400 loss: 21.80288\n",
            "Epoch 33500 loss: 21.80281\n",
            "Epoch 33600 loss: 21.80276\n",
            "Epoch 33700 loss: 21.80270\n",
            "Epoch 33800 loss: 21.80264\n",
            "Epoch 33900 loss: 21.80258\n",
            "Epoch 34000 loss: 21.80253\n",
            "Epoch 34100 loss: 21.80247\n",
            "Epoch 34200 loss: 21.80242\n",
            "Epoch 34300 loss: 21.80237\n",
            "Epoch 34400 loss: 21.80232\n",
            "Epoch 34500 loss: 21.80227\n",
            "Epoch 34600 loss: 21.80223\n",
            "Epoch 34700 loss: 21.80218\n",
            "Epoch 34800 loss: 21.80213\n",
            "Epoch 34900 loss: 21.80209\n",
            "Epoch 35000 loss: 21.80205\n",
            "Epoch 35100 loss: 21.80201\n",
            "Epoch 35200 loss: 21.80197\n",
            "Epoch 35300 loss: 21.80192\n",
            "Epoch 35400 loss: 21.80189\n",
            "Epoch 35500 loss: 21.80185\n",
            "Epoch 35600 loss: 21.80181\n",
            "Epoch 35700 loss: 21.80177\n",
            "Epoch 35800 loss: 21.80174\n",
            "Epoch 35900 loss: 21.80170\n",
            "Epoch 36000 loss: 21.80167\n",
            "Epoch 36100 loss: 21.80164\n",
            "Epoch 36200 loss: 21.80161\n",
            "Epoch 36300 loss: 21.80157\n",
            "Epoch 36400 loss: 21.80154\n",
            "Epoch 36500 loss: 21.80151\n",
            "Epoch 36600 loss: 21.80148\n",
            "Epoch 36700 loss: 21.80145\n",
            "Epoch 36800 loss: 21.80143\n",
            "Epoch 36900 loss: 21.80140\n",
            "Epoch 37000 loss: 21.80137\n",
            "Epoch 37100 loss: 21.80135\n",
            "Epoch 37200 loss: 21.80132\n",
            "Epoch 37300 loss: 21.80129\n",
            "Epoch 37400 loss: 21.80127\n",
            "Epoch 37500 loss: 21.80125\n",
            "Epoch 37600 loss: 21.80122\n",
            "Epoch 37700 loss: 21.80120\n",
            "Epoch 37800 loss: 21.80118\n",
            "Epoch 37900 loss: 21.80116\n",
            "Epoch 38000 loss: 21.80114\n",
            "Epoch 38100 loss: 21.80112\n",
            "Epoch 38200 loss: 21.80110\n",
            "Epoch 38300 loss: 21.80108\n",
            "Epoch 38400 loss: 21.80106\n",
            "Epoch 38500 loss: 21.80104\n",
            "Epoch 38600 loss: 21.80102\n",
            "Epoch 38700 loss: 21.80100\n",
            "Epoch 38800 loss: 21.80099\n",
            "Epoch 38900 loss: 21.80097\n",
            "Epoch 39000 loss: 21.80095\n",
            "Epoch 39100 loss: 21.80094\n",
            "Epoch 39200 loss: 21.80092\n",
            "Epoch 39300 loss: 21.80091\n",
            "Epoch 39400 loss: 21.80089\n",
            "Epoch 39500 loss: 21.80088\n",
            "Epoch 39600 loss: 21.80087\n",
            "Epoch 39700 loss: 21.80085\n",
            "Epoch 39800 loss: 21.80083\n",
            "Epoch 39900 loss: 21.80082\n",
            "Epoch 40000 loss: 21.80081\n",
            "Epoch 40100 loss: 21.80080\n",
            "Epoch 40200 loss: 21.80079\n",
            "Epoch 40300 loss: 21.80077\n",
            "Epoch 40400 loss: 21.80076\n",
            "Epoch 40500 loss: 21.80075\n",
            "Epoch 40600 loss: 21.80074\n",
            "Epoch 40700 loss: 21.80072\n",
            "Epoch 40800 loss: 21.80072\n",
            "Epoch 40900 loss: 21.80070\n",
            "Epoch 41000 loss: 21.80070\n",
            "Epoch 41100 loss: 21.80068\n",
            "Epoch 41200 loss: 21.80068\n",
            "Epoch 41300 loss: 21.80067\n",
            "Epoch 41400 loss: 21.80065\n",
            "Epoch 41500 loss: 21.80065\n",
            "Epoch 41600 loss: 21.80064\n",
            "Epoch 41700 loss: 21.80063\n",
            "Epoch 41800 loss: 21.80062\n",
            "Epoch 41900 loss: 21.80061\n",
            "Epoch 42000 loss: 21.80061\n",
            "Epoch 42100 loss: 21.80060\n",
            "Epoch 42200 loss: 21.80059\n",
            "Epoch 42300 loss: 21.80058\n",
            "Epoch 42400 loss: 21.80058\n",
            "Epoch 42500 loss: 21.80057\n",
            "Epoch 42600 loss: 21.80056\n",
            "Epoch 42700 loss: 21.80055\n",
            "Epoch 42800 loss: 21.80055\n",
            "Epoch 42900 loss: 21.80054\n",
            "Epoch 43000 loss: 21.80054\n",
            "Epoch 43100 loss: 21.80053\n",
            "Epoch 43200 loss: 21.80052\n",
            "Epoch 43300 loss: 21.80052\n",
            "Epoch 43400 loss: 21.80051\n",
            "Epoch 43500 loss: 21.80051\n",
            "Epoch 43600 loss: 21.80050\n",
            "Epoch 43700 loss: 21.80050\n",
            "Epoch 43800 loss: 21.80049\n",
            "Epoch 43900 loss: 21.80048\n",
            "Epoch 44000 loss: 21.80048\n",
            "Epoch 44100 loss: 21.80048\n",
            "Epoch 44200 loss: 21.80047\n",
            "Epoch 44300 loss: 21.80046\n",
            "Epoch 44400 loss: 21.80046\n",
            "Epoch 44500 loss: 21.80046\n",
            "Epoch 44600 loss: 21.80045\n",
            "Epoch 44700 loss: 21.80045\n",
            "Epoch 44800 loss: 21.80045\n",
            "Epoch 44900 loss: 21.80044\n",
            "Epoch 45000 loss: 21.80044\n",
            "Epoch 45100 loss: 21.80043\n",
            "Epoch 45200 loss: 21.80043\n",
            "Epoch 45300 loss: 21.80043\n",
            "Epoch 45400 loss: 21.80042\n",
            "Epoch 45500 loss: 21.80042\n",
            "Epoch 45600 loss: 21.80042\n",
            "Epoch 45700 loss: 21.80041\n",
            "Epoch 45800 loss: 21.80041\n",
            "Epoch 45900 loss: 21.80041\n",
            "Epoch 46000 loss: 21.80040\n",
            "Epoch 46100 loss: 21.80040\n",
            "Epoch 46200 loss: 21.80040\n",
            "Epoch 46300 loss: 21.80039\n",
            "Epoch 46400 loss: 21.80039\n",
            "Epoch 46500 loss: 21.80039\n",
            "Epoch 46600 loss: 21.80039\n",
            "Epoch 46700 loss: 21.80038\n",
            "Epoch 46800 loss: 21.80038\n",
            "Epoch 46900 loss: 21.80038\n",
            "Epoch 47000 loss: 21.80038\n",
            "Epoch 47100 loss: 21.80037\n",
            "Epoch 47200 loss: 21.80037\n",
            "Epoch 47300 loss: 21.80037\n",
            "Epoch 47400 loss: 21.80037\n",
            "Epoch 47500 loss: 21.80036\n",
            "Epoch 47600 loss: 21.80036\n",
            "Epoch 47700 loss: 21.80036\n",
            "Epoch 47800 loss: 21.80036\n",
            "Epoch 47900 loss: 21.80035\n",
            "Epoch 48000 loss: 21.80035\n",
            "Epoch 48100 loss: 21.80035\n",
            "Epoch 48200 loss: 21.80035\n",
            "Epoch 48300 loss: 21.80035\n",
            "Epoch 48400 loss: 21.80035\n",
            "Epoch 48500 loss: 21.80034\n",
            "Epoch 48600 loss: 21.80034\n",
            "Epoch 48700 loss: 21.80034\n",
            "Epoch 48800 loss: 21.80034\n",
            "Epoch 48900 loss: 21.80034\n",
            "Epoch 49000 loss: 21.80034\n",
            "Epoch 49100 loss: 21.80034\n",
            "Epoch 49200 loss: 21.80033\n",
            "Epoch 49300 loss: 21.80033\n",
            "Epoch 49400 loss: 21.80033\n",
            "Epoch 49500 loss: 21.80033\n",
            "Epoch 49600 loss: 21.80033\n",
            "Epoch 49700 loss: 21.80033\n",
            "Epoch 49800 loss: 21.80033\n",
            "Epoch 49900 loss: 21.80033\n"
          ]
        }
      ]
    },
    {
      "cell_type": "markdown",
      "metadata": {
        "id": "UNDxax-lXpC2"
      },
      "source": [
        "## 5.9 결과 확인"
      ]
    },
    {
      "cell_type": "code",
      "metadata": {
        "id": "kWRH7ExmjB8B",
        "colab": {
          "base_uri": "https://localhost:8080/"
        },
        "outputId": "cdc55aa9-9bb8-411c-bb9f-676b4e504f52"
      },
      "source": [
        "# 초기 손실값과 최종 손실값\n",
        "\n",
        "print(f'초기 손실값: {history[0,1]:.5f}')\n",
        "print(f'최종 손실값: {history[-1,1]:.5f}')"
      ],
      "execution_count": 39,
      "outputs": [
        {
          "output_type": "stream",
          "name": "stdout",
          "text": [
            "초기 손실값: 154.22493\n",
            "최종 손실값: 21.80033\n"
          ]
        }
      ]
    },
    {
      "cell_type": "code",
      "metadata": {
        "id": "LUh7GLCSfQNJ",
        "colab": {
          "base_uri": "https://localhost:8080/",
          "height": 1000
        },
        "outputId": "a2484b8f-c3cb-459c-b29c-35b8b2f9152f"
      },
      "source": [
        "# 학습 곡선 출력(손실)\n",
        "# 가장 처음 요소는 제외\n",
        "\n",
        "plt.plot(history[1:,0], history[1:,1], 'b')\n",
        "plt.xlabel('반복 횟수')\n",
        "plt.ylabel('손실')\n",
        "plt.title('학습 곡선(손실)')\n",
        "plt.show()"
      ],
      "execution_count": 40,
      "outputs": [
        {
          "output_type": "stream",
          "name": "stderr",
          "text": [
            "WARNING:matplotlib.font_manager:findfont: Font family 'NanumGothic' not found.\n",
            "WARNING:matplotlib.font_manager:findfont: Font family 'NanumGothic' not found.\n",
            "WARNING:matplotlib.font_manager:findfont: Font family 'NanumGothic' not found.\n",
            "WARNING:matplotlib.font_manager:findfont: Font family 'NanumGothic' not found.\n",
            "WARNING:matplotlib.font_manager:findfont: Font family 'NanumGothic' not found.\n",
            "WARNING:matplotlib.font_manager:findfont: Font family 'NanumGothic' not found.\n",
            "WARNING:matplotlib.font_manager:findfont: Font family 'NanumGothic' not found.\n",
            "WARNING:matplotlib.font_manager:findfont: Font family 'NanumGothic' not found.\n",
            "WARNING:matplotlib.font_manager:findfont: Font family 'NanumGothic' not found.\n",
            "WARNING:matplotlib.font_manager:findfont: Font family 'NanumGothic' not found.\n",
            "WARNING:matplotlib.font_manager:findfont: Font family 'NanumGothic' not found.\n",
            "/usr/local/lib/python3.10/dist-packages/IPython/core/pylabtools.py:151: UserWarning: Glyph 49552 (\\N{HANGUL SYLLABLE SON}) missing from current font.\n",
            "  fig.canvas.print_figure(bytes_io, **kw)\n",
            "/usr/local/lib/python3.10/dist-packages/IPython/core/pylabtools.py:151: UserWarning: Glyph 49892 (\\N{HANGUL SYLLABLE SIL}) missing from current font.\n",
            "  fig.canvas.print_figure(bytes_io, **kw)\n",
            "WARNING:matplotlib.font_manager:findfont: Font family 'NanumGothic' not found.\n",
            "WARNING:matplotlib.font_manager:findfont: Font family 'NanumGothic' not found.\n",
            "/usr/local/lib/python3.10/dist-packages/IPython/core/pylabtools.py:151: UserWarning: Glyph 54617 (\\N{HANGUL SYLLABLE HAG}) missing from current font.\n",
            "  fig.canvas.print_figure(bytes_io, **kw)\n",
            "/usr/local/lib/python3.10/dist-packages/IPython/core/pylabtools.py:151: UserWarning: Glyph 49845 (\\N{HANGUL SYLLABLE SEUB}) missing from current font.\n",
            "  fig.canvas.print_figure(bytes_io, **kw)\n",
            "/usr/local/lib/python3.10/dist-packages/IPython/core/pylabtools.py:151: UserWarning: Glyph 44257 (\\N{HANGUL SYLLABLE GOG}) missing from current font.\n",
            "  fig.canvas.print_figure(bytes_io, **kw)\n",
            "/usr/local/lib/python3.10/dist-packages/IPython/core/pylabtools.py:151: UserWarning: Glyph 49440 (\\N{HANGUL SYLLABLE SEON}) missing from current font.\n",
            "  fig.canvas.print_figure(bytes_io, **kw)\n",
            "WARNING:matplotlib.font_manager:findfont: Font family 'NanumGothic' not found.\n",
            "WARNING:matplotlib.font_manager:findfont: Font family 'NanumGothic' not found.\n",
            "WARNING:matplotlib.font_manager:findfont: Font family 'NanumGothic' not found.\n",
            "WARNING:matplotlib.font_manager:findfont: Font family 'NanumGothic' not found.\n",
            "WARNING:matplotlib.font_manager:findfont: Font family 'NanumGothic' not found.\n",
            "WARNING:matplotlib.font_manager:findfont: Font family 'NanumGothic' not found.\n",
            "WARNING:matplotlib.font_manager:findfont: Font family 'NanumGothic' not found.\n",
            "/usr/local/lib/python3.10/dist-packages/IPython/core/pylabtools.py:151: UserWarning: Glyph 48152 (\\N{HANGUL SYLLABLE BAN}) missing from current font.\n",
            "  fig.canvas.print_figure(bytes_io, **kw)\n",
            "/usr/local/lib/python3.10/dist-packages/IPython/core/pylabtools.py:151: UserWarning: Glyph 48373 (\\N{HANGUL SYLLABLE BOG}) missing from current font.\n",
            "  fig.canvas.print_figure(bytes_io, **kw)\n",
            "/usr/local/lib/python3.10/dist-packages/IPython/core/pylabtools.py:151: UserWarning: Glyph 54943 (\\N{HANGUL SYLLABLE HOES}) missing from current font.\n",
            "  fig.canvas.print_figure(bytes_io, **kw)\n",
            "/usr/local/lib/python3.10/dist-packages/IPython/core/pylabtools.py:151: UserWarning: Glyph 49688 (\\N{HANGUL SYLLABLE SU}) missing from current font.\n",
            "  fig.canvas.print_figure(bytes_io, **kw)\n",
            "WARNING:matplotlib.font_manager:findfont: Font family 'NanumGothic' not found.\n",
            "WARNING:matplotlib.font_manager:findfont: Font family 'NanumGothic' not found.\n",
            "WARNING:matplotlib.font_manager:findfont: Font family 'NanumGothic' not found.\n",
            "WARNING:matplotlib.font_manager:findfont: Font family 'NanumGothic' not found.\n",
            "WARNING:matplotlib.font_manager:findfont: Font family 'NanumGothic' not found.\n",
            "WARNING:matplotlib.font_manager:findfont: Font family 'NanumGothic' not found.\n",
            "WARNING:matplotlib.font_manager:findfont: Font family 'NanumGothic' not found.\n",
            "WARNING:matplotlib.font_manager:findfont: Font family 'NanumGothic' not found.\n",
            "WARNING:matplotlib.font_manager:findfont: Font family 'NanumGothic' not found.\n",
            "WARNING:matplotlib.font_manager:findfont: Font family 'NanumGothic' not found.\n",
            "WARNING:matplotlib.font_manager:findfont: Font family 'NanumGothic' not found.\n",
            "WARNING:matplotlib.font_manager:findfont: Font family 'NanumGothic' not found.\n",
            "WARNING:matplotlib.font_manager:findfont: Font family 'NanumGothic' not found.\n",
            "WARNING:matplotlib.font_manager:findfont: Font family 'NanumGothic' not found.\n",
            "WARNING:matplotlib.font_manager:findfont: Font family 'NanumGothic' not found.\n",
            "WARNING:matplotlib.font_manager:findfont: Font family 'NanumGothic' not found.\n",
            "WARNING:matplotlib.font_manager:findfont: Font family 'NanumGothic' not found.\n",
            "WARNING:matplotlib.font_manager:findfont: Font family 'NanumGothic' not found.\n",
            "WARNING:matplotlib.font_manager:findfont: Font family 'NanumGothic' not found.\n",
            "WARNING:matplotlib.font_manager:findfont: Font family 'NanumGothic' not found.\n",
            "WARNING:matplotlib.font_manager:findfont: Font family 'NanumGothic' not found.\n",
            "WARNING:matplotlib.font_manager:findfont: Font family 'NanumGothic' not found.\n",
            "WARNING:matplotlib.font_manager:findfont: Font family 'NanumGothic' not found.\n",
            "WARNING:matplotlib.font_manager:findfont: Font family 'NanumGothic' not found.\n",
            "WARNING:matplotlib.font_manager:findfont: Font family 'NanumGothic' not found.\n",
            "WARNING:matplotlib.font_manager:findfont: Font family 'NanumGothic' not found.\n",
            "WARNING:matplotlib.font_manager:findfont: Font family 'NanumGothic' not found.\n",
            "WARNING:matplotlib.font_manager:findfont: Font family 'NanumGothic' not found.\n",
            "WARNING:matplotlib.font_manager:findfont: Font family 'NanumGothic' not found.\n",
            "WARNING:matplotlib.font_manager:findfont: Font family 'NanumGothic' not found.\n",
            "WARNING:matplotlib.font_manager:findfont: Font family 'NanumGothic' not found.\n",
            "WARNING:matplotlib.font_manager:findfont: Font family 'NanumGothic' not found.\n",
            "WARNING:matplotlib.font_manager:findfont: Font family 'NanumGothic' not found.\n",
            "WARNING:matplotlib.font_manager:findfont: Font family 'NanumGothic' not found.\n",
            "WARNING:matplotlib.font_manager:findfont: Font family 'NanumGothic' not found.\n",
            "WARNING:matplotlib.font_manager:findfont: Font family 'NanumGothic' not found.\n",
            "WARNING:matplotlib.font_manager:findfont: Font family 'NanumGothic' not found.\n",
            "WARNING:matplotlib.font_manager:findfont: Font family 'NanumGothic' not found.\n"
          ]
        },
        {
          "output_type": "display_data",
          "data": {
            "text/plain": [
              "<Figure size 600x600 with 1 Axes>"
            ],
            "image/png": "[encoded data removed]"
          },
          "metadata": {}
        }
      ]
    },
    {
      "cell_type": "code",
      "metadata": {
        "id": "SboqNthnmTKf",
        "colab": {
          "base_uri": "https://localhost:8080/"
        },
        "outputId": "fbb8252c-cbef-41ef-a7eb-18dcc177514f"
      },
      "source": [
        "# 회귀 직선 산출\n",
        "\n",
        "# x의 최솟값, 최댓값\n",
        "xse = np.array((x.min(), x.max())).reshape(-1,1)\n",
        "Xse = torch.tensor(xse).float()\n",
        "\n",
        "with torch.no_grad():\n",
        "  Yse = net(Xse)\n",
        "\n",
        "print(Yse.numpy())"
      ],
      "execution_count": 41,
      "outputs": [
        {
          "output_type": "stream",
          "name": "stdout",
          "text": [
            "[[-2.2189]\n",
            " [45.2121]]\n"
          ]
        }
      ]
    },
    {
      "cell_type": "code",
      "metadata": {
        "id": "JNynfK4pngwe",
        "colab": {
          "base_uri": "https://localhost:8080/",
          "height": 1000
        },
        "outputId": "44ceac50-d970-4d52-95ef-8c4f65f61c9a"
      },
      "source": [
        "# 산포도와 회귀 직선 출력\n",
        "\n",
        "plt.scatter(x, yt, s=10, c='b')\n",
        "plt.xlabel('방 개수')\n",
        "plt.ylabel('가격')\n",
        "plt.plot(Xse.data, Yse.data, c='k')\n",
        "plt.title('산포도와 회귀 직선')\n",
        "plt.show()"
      ],
      "execution_count": 42,
      "outputs": [
        {
          "output_type": "stream",
          "name": "stderr",
          "text": [
            "WARNING:matplotlib.font_manager:findfont: Font family 'NanumGothic' not found.\n",
            "WARNING:matplotlib.font_manager:findfont: Font family 'NanumGothic' not found.\n",
            "WARNING:matplotlib.font_manager:findfont: Font family 'NanumGothic' not found.\n",
            "WARNING:matplotlib.font_manager:findfont: Font family 'NanumGothic' not found.\n",
            "WARNING:matplotlib.font_manager:findfont: Font family 'NanumGothic' not found.\n",
            "WARNING:matplotlib.font_manager:findfont: Font family 'NanumGothic' not found.\n",
            "WARNING:matplotlib.font_manager:findfont: Font family 'NanumGothic' not found.\n",
            "WARNING:matplotlib.font_manager:findfont: Font family 'NanumGothic' not found.\n",
            "/usr/local/lib/python3.10/dist-packages/IPython/core/pylabtools.py:151: UserWarning: Glyph 44032 (\\N{HANGUL SYLLABLE GA}) missing from current font.\n",
            "  fig.canvas.print_figure(bytes_io, **kw)\n",
            "/usr/local/lib/python3.10/dist-packages/IPython/core/pylabtools.py:151: UserWarning: Glyph 44201 (\\N{HANGUL SYLLABLE GYEOG}) missing from current font.\n",
            "  fig.canvas.print_figure(bytes_io, **kw)\n",
            "WARNING:matplotlib.font_manager:findfont: Font family 'NanumGothic' not found.\n",
            "WARNING:matplotlib.font_manager:findfont: Font family 'NanumGothic' not found.\n",
            "/usr/local/lib/python3.10/dist-packages/IPython/core/pylabtools.py:151: UserWarning: Glyph 49328 (\\N{HANGUL SYLLABLE SAN}) missing from current font.\n",
            "  fig.canvas.print_figure(bytes_io, **kw)\n",
            "/usr/local/lib/python3.10/dist-packages/IPython/core/pylabtools.py:151: UserWarning: Glyph 54252 (\\N{HANGUL SYLLABLE PO}) missing from current font.\n",
            "  fig.canvas.print_figure(bytes_io, **kw)\n",
            "/usr/local/lib/python3.10/dist-packages/IPython/core/pylabtools.py:151: UserWarning: Glyph 46020 (\\N{HANGUL SYLLABLE DO}) missing from current font.\n",
            "  fig.canvas.print_figure(bytes_io, **kw)\n",
            "/usr/local/lib/python3.10/dist-packages/IPython/core/pylabtools.py:151: UserWarning: Glyph 50752 (\\N{HANGUL SYLLABLE WA}) missing from current font.\n",
            "  fig.canvas.print_figure(bytes_io, **kw)\n",
            "/usr/local/lib/python3.10/dist-packages/IPython/core/pylabtools.py:151: UserWarning: Glyph 54924 (\\N{HANGUL SYLLABLE HOE}) missing from current font.\n",
            "  fig.canvas.print_figure(bytes_io, **kw)\n",
            "/usr/local/lib/python3.10/dist-packages/IPython/core/pylabtools.py:151: UserWarning: Glyph 44480 (\\N{HANGUL SYLLABLE GWI}) missing from current font.\n",
            "  fig.canvas.print_figure(bytes_io, **kw)\n",
            "/usr/local/lib/python3.10/dist-packages/IPython/core/pylabtools.py:151: UserWarning: Glyph 51649 (\\N{HANGUL SYLLABLE JIG}) missing from current font.\n",
            "  fig.canvas.print_figure(bytes_io, **kw)\n",
            "WARNING:matplotlib.font_manager:findfont: Font family 'NanumGothic' not found.\n",
            "WARNING:matplotlib.font_manager:findfont: Font family 'NanumGothic' not found.\n",
            "WARNING:matplotlib.font_manager:findfont: Font family 'NanumGothic' not found.\n",
            "WARNING:matplotlib.font_manager:findfont: Font family 'NanumGothic' not found.\n",
            "WARNING:matplotlib.font_manager:findfont: Font family 'NanumGothic' not found.\n",
            "WARNING:matplotlib.font_manager:findfont: Font family 'NanumGothic' not found.\n",
            "WARNING:matplotlib.font_manager:findfont: Font family 'NanumGothic' not found.\n",
            "/usr/local/lib/python3.10/dist-packages/IPython/core/pylabtools.py:151: UserWarning: Glyph 48169 (\\N{HANGUL SYLLABLE BANG}) missing from current font.\n",
            "  fig.canvas.print_figure(bytes_io, **kw)\n",
            "/usr/local/lib/python3.10/dist-packages/IPython/core/pylabtools.py:151: UserWarning: Glyph 44060 (\\N{HANGUL SYLLABLE GAE}) missing from current font.\n",
            "  fig.canvas.print_figure(bytes_io, **kw)\n",
            "WARNING:matplotlib.font_manager:findfont: Font family 'NanumGothic' not found.\n",
            "WARNING:matplotlib.font_manager:findfont: Font family 'NanumGothic' not found.\n",
            "WARNING:matplotlib.font_manager:findfont: Font family 'NanumGothic' not found.\n",
            "WARNING:matplotlib.font_manager:findfont: Font family 'NanumGothic' not found.\n",
            "WARNING:matplotlib.font_manager:findfont: Font family 'NanumGothic' not found.\n",
            "WARNING:matplotlib.font_manager:findfont: Font family 'NanumGothic' not found.\n",
            "WARNING:matplotlib.font_manager:findfont: Font family 'NanumGothic' not found.\n",
            "WARNING:matplotlib.font_manager:findfont: Font family 'NanumGothic' not found.\n",
            "WARNING:matplotlib.font_manager:findfont: Font family 'NanumGothic' not found.\n",
            "WARNING:matplotlib.font_manager:findfont: Font family 'NanumGothic' not found.\n",
            "WARNING:matplotlib.font_manager:findfont: Font family 'NanumGothic' not found.\n",
            "WARNING:matplotlib.font_manager:findfont: Font family 'NanumGothic' not found.\n",
            "WARNING:matplotlib.font_manager:findfont: Font family 'NanumGothic' not found.\n",
            "WARNING:matplotlib.font_manager:findfont: Font family 'NanumGothic' not found.\n",
            "WARNING:matplotlib.font_manager:findfont: Font family 'NanumGothic' not found.\n",
            "WARNING:matplotlib.font_manager:findfont: Font family 'NanumGothic' not found.\n",
            "WARNING:matplotlib.font_manager:findfont: Font family 'NanumGothic' not found.\n",
            "WARNING:matplotlib.font_manager:findfont: Font family 'NanumGothic' not found.\n",
            "WARNING:matplotlib.font_manager:findfont: Font family 'NanumGothic' not found.\n",
            "WARNING:matplotlib.font_manager:findfont: Font family 'NanumGothic' not found.\n",
            "WARNING:matplotlib.font_manager:findfont: Font family 'NanumGothic' not found.\n",
            "WARNING:matplotlib.font_manager:findfont: Font family 'NanumGothic' not found.\n",
            "WARNING:matplotlib.font_manager:findfont: Font family 'NanumGothic' not found.\n",
            "WARNING:matplotlib.font_manager:findfont: Font family 'NanumGothic' not found.\n",
            "WARNING:matplotlib.font_manager:findfont: Font family 'NanumGothic' not found.\n",
            "WARNING:matplotlib.font_manager:findfont: Font family 'NanumGothic' not found.\n",
            "WARNING:matplotlib.font_manager:findfont: Font family 'NanumGothic' not found.\n",
            "WARNING:matplotlib.font_manager:findfont: Font family 'NanumGothic' not found.\n",
            "WARNING:matplotlib.font_manager:findfont: Font family 'NanumGothic' not found.\n",
            "WARNING:matplotlib.font_manager:findfont: Font family 'NanumGothic' not found.\n",
            "WARNING:matplotlib.font_manager:findfont: Font family 'NanumGothic' not found.\n",
            "WARNING:matplotlib.font_manager:findfont: Font family 'NanumGothic' not found.\n"
          ]
        },
        {
          "output_type": "display_data",
          "data": {
            "text/plain": [
              "<Figure size 600x600 with 1 Axes>"
            ],
            "image/png": "[encoded data removed]"
          },
          "metadata": {}
        }
      ]
    },
    {
      "cell_type": "markdown",
      "metadata": {
        "id": "qwGTzOJbr8Hs"
      },
      "source": [
        "## 5.10 중회귀 모델로 확장"
      ]
    },
    {
      "cell_type": "code",
      "metadata": {
        "id": "8gAZgC1GpjEV",
        "colab": {
          "base_uri": "https://localhost:8080/"
        },
        "outputId": "20e0ef4e-b371-4552-8056-5aae19f848da"
      },
      "source": [
        "# 열(LSTAT: 저소득자 비율) 추가\n",
        "\n",
        "x_add = x_org[:,feature_names == 'LSTAT']\n",
        "x2 = np.hstack((x, x_add))\n",
        "\n",
        "# shape 표시\n",
        "print(x2.shape)\n",
        "\n",
        "# 입력 데이터 x 표시\n",
        "print(x2[:5,:])"
      ],
      "execution_count": 43,
      "outputs": [
        {
          "output_type": "stream",
          "name": "stdout",
          "text": [
            "(506, 2)\n",
            "[[6.575 4.98 ]\n",
            " [6.421 9.14 ]\n",
            " [7.185 4.03 ]\n",
            " [6.998 2.94 ]\n",
            " [7.147 5.33 ]]\n"
          ]
        }
      ]
    },
    {
      "cell_type": "code",
      "metadata": {
        "id": "z99b-YPvsM5_",
        "colab": {
          "base_uri": "https://localhost:8080/"
        },
        "outputId": "c91a3272-2342-4197-e51a-18c6dabd5635"
      },
      "source": [
        "# 입력 차원수=2\n",
        "\n",
        "n_input = x2.shape[1]\n",
        "print(n_input)\n",
        "\n",
        "# 모델 인스턴스 생성\n",
        "net = Net(n_input, n_output)"
      ],
      "execution_count": 44,
      "outputs": [
        {
          "output_type": "stream",
          "name": "stdout",
          "text": [
            "2\n"
          ]
        }
      ]
    },
    {
      "cell_type": "code",
      "metadata": {
        "id": "tvTwYb-gXpC5",
        "colab": {
          "base_uri": "https://localhost:8080/"
        },
        "outputId": "d29b53e2-e5fc-4b46-e868-488cfca49ee3"
      },
      "source": [
        "# 모델 안의 파라미터 확인\n",
        "# predict.weight가 2차원으로 바뀜\n",
        "\n",
        "for parameter in net.named_parameters():\n",
        "    print(f'변수명: {parameter[0]}')\n",
        "    print(f'변숫값: {parameter[1].data}')"
      ],
      "execution_count": 45,
      "outputs": [
        {
          "output_type": "stream",
          "name": "stdout",
          "text": [
            "변수명: l1.weight\n",
            "변숫값: tensor([[1., 1.]])\n",
            "변수명: l1.bias\n",
            "변숫값: tensor([1.])\n"
          ]
        }
      ]
    },
    {
      "cell_type": "code",
      "metadata": {
        "id": "5iBFb2A9s2K1",
        "colab": {
          "base_uri": "https://localhost:8080/"
        },
        "outputId": "605cb769-346f-4805-f84c-3a7bb16d16ae"
      },
      "source": [
        "# 모델의 개요 표시\n",
        "\n",
        "print(net)"
      ],
      "execution_count": 46,
      "outputs": [
        {
          "output_type": "stream",
          "name": "stdout",
          "text": [
            "Net(\n",
            "  (l1): Linear(in_features=2, out_features=1, bias=True)\n",
            ")\n"
          ]
        }
      ]
    },
    {
      "cell_type": "code",
      "metadata": {
        "id": "jwdT12mss60n",
        "colab": {
          "base_uri": "https://localhost:8080/"
        },
        "outputId": "b9f9245e-476d-4495-c496-cd67abf38824"
      },
      "source": [
        "# 모델의 개요 표시\n",
        "\n",
        "from torchinfo import summary\n",
        "summary(net, (2,))"
      ],
      "execution_count": 47,
      "outputs": [
        {
          "output_type": "execute_result",
          "data": {
            "text/plain": [
              "==========================================================================================\n",
              "Layer (type:depth-idx)                   Output Shape              Param #\n",
              "==========================================================================================\n",
              "Net                                      [1]                       --\n",
              "├─Linear: 1-1                            [1]                       3\n",
              "==========================================================================================\n",
              "Total params: 3\n",
              "Trainable params: 3\n",
              "Non-trainable params: 0\n",
              "Total mult-adds (M): 0.00\n",
              "==========================================================================================\n",
              "Input size (MB): 0.00\n",
              "Forward/backward pass size (MB): 0.00\n",
              "Params size (MB): 0.00\n",
              "Estimated Total Size (MB): 0.00\n",
              "=========================================================================================="
            ]
          },
          "metadata": {},
          "execution_count": 47
        }
      ]
    },
    {
      "cell_type": "code",
      "metadata": {
        "id": "U3xw_jxTXpC5"
      },
      "source": [
        "# 입력 변수 x2를 텐서로 변환\n",
        "# labels, labels1은 이전과 같음\n",
        "\n",
        "inputs = torch.tensor(x2).float()"
      ],
      "execution_count": 48,
      "outputs": []
    },
    {
      "cell_type": "markdown",
      "metadata": {
        "id": "dGB9wkr-XpC6"
      },
      "source": [
        "### 반복 계산"
      ]
    },
    {
      "cell_type": "code",
      "metadata": {
        "id": "8cyjWATHXpC6"
      },
      "source": [
        "# 초기화 처리\n",
        "\n",
        "# 학습률\n",
        "lr = 0.01\n",
        "\n",
        "# 인스턴스 생성(파라미터 값 초기화)\n",
        "net = Net(n_input, n_output)\n",
        "\n",
        "# 손실 함수：평균 제곱 오차\n",
        "criterion = nn.MSELoss()\n",
        "\n",
        "# 최적화 함수 : 경사 하강법\n",
        "optimizer = optim.SGD(net.parameters(), lr=lr)\n",
        "\n",
        "# 반복 횟수\n",
        "num_epochs = 50000\n",
        "\n",
        "# 평가 결과 기록(손실 값만 기록)\n",
        "history = np.zeros((0,2))"
      ],
      "execution_count": 49,
      "outputs": []
    },
    {
      "cell_type": "code",
      "metadata": {
        "id": "7rEh-tPpXpC6",
        "colab": {
          "base_uri": "https://localhost:8080/"
        },
        "outputId": "f02d9fe8-f09c-4cb0-a72e-db6099b76598"
      },
      "source": [
        "# 반복 계산 메인 루프\n",
        "\n",
        "for epoch in range(num_epochs):\n",
        "\n",
        "    # 경삿값 초기화\n",
        "    optimizer.zero_grad()\n",
        "\n",
        "    # 예측 계산\n",
        "    outputs = net(inputs)\n",
        "\n",
        "    # 오차 계산\n",
        "    # \"딥러닝을 위한 수학\"에 나온 결과와 맞추기 위해 2로 나눈 값을 손실로 정의\n",
        "    loss = criterion(outputs, labels1) / 2.0\n",
        "\n",
        "    # 경사 계산\n",
        "    loss.backward()\n",
        "\n",
        "    # 파라미터 수정\n",
        "    optimizer.step()\n",
        "\n",
        "    # 100회 마다 도중 경과를 기록\n",
        "    if ( epoch % 100 == 0):\n",
        "        history = np.vstack((history, np.array([epoch, loss.item()])))\n",
        "        print(f'Epoch {epoch} loss: {loss.item():.5f}')"
      ],
      "execution_count": 50,
      "outputs": [
        {
          "output_type": "stream",
          "name": "stdout",
          "text": [
            "Epoch 0 loss: 112.06398\n",
            "Epoch 100 loss: 3753837073642659568666615480320.00000\n",
            "Epoch 200 loss: inf\n",
            "Epoch 300 loss: nan\n",
            "Epoch 400 loss: nan\n",
            "Epoch 500 loss: nan\n",
            "Epoch 600 loss: nan\n",
            "Epoch 700 loss: nan\n",
            "Epoch 800 loss: nan\n",
            "Epoch 900 loss: nan\n",
            "Epoch 1000 loss: nan\n",
            "Epoch 1100 loss: nan\n",
            "Epoch 1200 loss: nan\n",
            "Epoch 1300 loss: nan\n",
            "Epoch 1400 loss: nan\n",
            "Epoch 1500 loss: nan\n",
            "Epoch 1600 loss: nan\n",
            "Epoch 1700 loss: nan\n",
            "Epoch 1800 loss: nan\n",
            "Epoch 1900 loss: nan\n",
            "Epoch 2000 loss: nan\n",
            "Epoch 2100 loss: nan\n",
            "Epoch 2200 loss: nan\n",
            "Epoch 2300 loss: nan\n",
            "Epoch 2400 loss: nan\n",
            "Epoch 2500 loss: nan\n",
            "Epoch 2600 loss: nan\n",
            "Epoch 2700 loss: nan\n",
            "Epoch 2800 loss: nan\n",
            "Epoch 2900 loss: nan\n",
            "Epoch 3000 loss: nan\n",
            "Epoch 3100 loss: nan\n",
            "Epoch 3200 loss: nan\n",
            "Epoch 3300 loss: nan\n",
            "Epoch 3400 loss: nan\n",
            "Epoch 3500 loss: nan\n",
            "Epoch 3600 loss: nan\n",
            "Epoch 3700 loss: nan\n",
            "Epoch 3800 loss: nan\n",
            "Epoch 3900 loss: nan\n",
            "Epoch 4000 loss: nan\n",
            "Epoch 4100 loss: nan\n",
            "Epoch 4200 loss: nan\n",
            "Epoch 4300 loss: nan\n",
            "Epoch 4400 loss: nan\n",
            "Epoch 4500 loss: nan\n",
            "Epoch 4600 loss: nan\n",
            "Epoch 4700 loss: nan\n",
            "Epoch 4800 loss: nan\n",
            "Epoch 4900 loss: nan\n",
            "Epoch 5000 loss: nan\n",
            "Epoch 5100 loss: nan\n",
            "Epoch 5200 loss: nan\n",
            "Epoch 5300 loss: nan\n",
            "Epoch 5400 loss: nan\n",
            "Epoch 5500 loss: nan\n",
            "Epoch 5600 loss: nan\n",
            "Epoch 5700 loss: nan\n",
            "Epoch 5800 loss: nan\n",
            "Epoch 5900 loss: nan\n",
            "Epoch 6000 loss: nan\n",
            "Epoch 6100 loss: nan\n",
            "Epoch 6200 loss: nan\n",
            "Epoch 6300 loss: nan\n",
            "Epoch 6400 loss: nan\n",
            "Epoch 6500 loss: nan\n",
            "Epoch 6600 loss: nan\n",
            "Epoch 6700 loss: nan\n",
            "Epoch 6800 loss: nan\n",
            "Epoch 6900 loss: nan\n",
            "Epoch 7000 loss: nan\n",
            "Epoch 7100 loss: nan\n",
            "Epoch 7200 loss: nan\n",
            "Epoch 7300 loss: nan\n",
            "Epoch 7400 loss: nan\n",
            "Epoch 7500 loss: nan\n",
            "Epoch 7600 loss: nan\n",
            "Epoch 7700 loss: nan\n",
            "Epoch 7800 loss: nan\n",
            "Epoch 7900 loss: nan\n",
            "Epoch 8000 loss: nan\n",
            "Epoch 8100 loss: nan\n",
            "Epoch 8200 loss: nan\n",
            "Epoch 8300 loss: nan\n",
            "Epoch 8400 loss: nan\n",
            "Epoch 8500 loss: nan\n",
            "Epoch 8600 loss: nan\n",
            "Epoch 8700 loss: nan\n",
            "Epoch 8800 loss: nan\n",
            "Epoch 8900 loss: nan\n",
            "Epoch 9000 loss: nan\n",
            "Epoch 9100 loss: nan\n",
            "Epoch 9200 loss: nan\n",
            "Epoch 9300 loss: nan\n",
            "Epoch 9400 loss: nan\n",
            "Epoch 9500 loss: nan\n",
            "Epoch 9600 loss: nan\n",
            "Epoch 9700 loss: nan\n",
            "Epoch 9800 loss: nan\n",
            "Epoch 9900 loss: nan\n",
            "Epoch 10000 loss: nan\n",
            "Epoch 10100 loss: nan\n",
            "Epoch 10200 loss: nan\n",
            "Epoch 10300 loss: nan\n",
            "Epoch 10400 loss: nan\n",
            "Epoch 10500 loss: nan\n",
            "Epoch 10600 loss: nan\n",
            "Epoch 10700 loss: nan\n",
            "Epoch 10800 loss: nan\n",
            "Epoch 10900 loss: nan\n",
            "Epoch 11000 loss: nan\n",
            "Epoch 11100 loss: nan\n",
            "Epoch 11200 loss: nan\n",
            "Epoch 11300 loss: nan\n",
            "Epoch 11400 loss: nan\n",
            "Epoch 11500 loss: nan\n",
            "Epoch 11600 loss: nan\n",
            "Epoch 11700 loss: nan\n",
            "Epoch 11800 loss: nan\n",
            "Epoch 11900 loss: nan\n",
            "Epoch 12000 loss: nan\n",
            "Epoch 12100 loss: nan\n",
            "Epoch 12200 loss: nan\n",
            "Epoch 12300 loss: nan\n",
            "Epoch 12400 loss: nan\n",
            "Epoch 12500 loss: nan\n",
            "Epoch 12600 loss: nan\n",
            "Epoch 12700 loss: nan\n",
            "Epoch 12800 loss: nan\n",
            "Epoch 12900 loss: nan\n",
            "Epoch 13000 loss: nan\n",
            "Epoch 13100 loss: nan\n",
            "Epoch 13200 loss: nan\n",
            "Epoch 13300 loss: nan\n",
            "Epoch 13400 loss: nan\n",
            "Epoch 13500 loss: nan\n",
            "Epoch 13600 loss: nan\n",
            "Epoch 13700 loss: nan\n",
            "Epoch 13800 loss: nan\n",
            "Epoch 13900 loss: nan\n",
            "Epoch 14000 loss: nan\n",
            "Epoch 14100 loss: nan\n",
            "Epoch 14200 loss: nan\n",
            "Epoch 14300 loss: nan\n",
            "Epoch 14400 loss: nan\n",
            "Epoch 14500 loss: nan\n",
            "Epoch 14600 loss: nan\n",
            "Epoch 14700 loss: nan\n",
            "Epoch 14800 loss: nan\n",
            "Epoch 14900 loss: nan\n",
            "Epoch 15000 loss: nan\n",
            "Epoch 15100 loss: nan\n",
            "Epoch 15200 loss: nan\n",
            "Epoch 15300 loss: nan\n",
            "Epoch 15400 loss: nan\n",
            "Epoch 15500 loss: nan\n",
            "Epoch 15600 loss: nan\n",
            "Epoch 15700 loss: nan\n",
            "Epoch 15800 loss: nan\n",
            "Epoch 15900 loss: nan\n",
            "Epoch 16000 loss: nan\n",
            "Epoch 16100 loss: nan\n",
            "Epoch 16200 loss: nan\n",
            "Epoch 16300 loss: nan\n",
            "Epoch 16400 loss: nan\n",
            "Epoch 16500 loss: nan\n",
            "Epoch 16600 loss: nan\n",
            "Epoch 16700 loss: nan\n",
            "Epoch 16800 loss: nan\n",
            "Epoch 16900 loss: nan\n",
            "Epoch 17000 loss: nan\n",
            "Epoch 17100 loss: nan\n",
            "Epoch 17200 loss: nan\n",
            "Epoch 17300 loss: nan\n",
            "Epoch 17400 loss: nan\n",
            "Epoch 17500 loss: nan\n",
            "Epoch 17600 loss: nan\n",
            "Epoch 17700 loss: nan\n",
            "Epoch 17800 loss: nan\n",
            "Epoch 17900 loss: nan\n",
            "Epoch 18000 loss: nan\n",
            "Epoch 18100 loss: nan\n",
            "Epoch 18200 loss: nan\n",
            "Epoch 18300 loss: nan\n",
            "Epoch 18400 loss: nan\n",
            "Epoch 18500 loss: nan\n",
            "Epoch 18600 loss: nan\n",
            "Epoch 18700 loss: nan\n",
            "Epoch 18800 loss: nan\n",
            "Epoch 18900 loss: nan\n",
            "Epoch 19000 loss: nan\n",
            "Epoch 19100 loss: nan\n",
            "Epoch 19200 loss: nan\n",
            "Epoch 19300 loss: nan\n",
            "Epoch 19400 loss: nan\n",
            "Epoch 19500 loss: nan\n",
            "Epoch 19600 loss: nan\n",
            "Epoch 19700 loss: nan\n",
            "Epoch 19800 loss: nan\n",
            "Epoch 19900 loss: nan\n",
            "Epoch 20000 loss: nan\n",
            "Epoch 20100 loss: nan\n",
            "Epoch 20200 loss: nan\n",
            "Epoch 20300 loss: nan\n",
            "Epoch 20400 loss: nan\n",
            "Epoch 20500 loss: nan\n",
            "Epoch 20600 loss: nan\n",
            "Epoch 20700 loss: nan\n",
            "Epoch 20800 loss: nan\n",
            "Epoch 20900 loss: nan\n",
            "Epoch 21000 loss: nan\n",
            "Epoch 21100 loss: nan\n",
            "Epoch 21200 loss: nan\n",
            "Epoch 21300 loss: nan\n",
            "Epoch 21400 loss: nan\n",
            "Epoch 21500 loss: nan\n",
            "Epoch 21600 loss: nan\n",
            "Epoch 21700 loss: nan\n",
            "Epoch 21800 loss: nan\n",
            "Epoch 21900 loss: nan\n",
            "Epoch 22000 loss: nan\n",
            "Epoch 22100 loss: nan\n",
            "Epoch 22200 loss: nan\n",
            "Epoch 22300 loss: nan\n",
            "Epoch 22400 loss: nan\n",
            "Epoch 22500 loss: nan\n",
            "Epoch 22600 loss: nan\n",
            "Epoch 22700 loss: nan\n",
            "Epoch 22800 loss: nan\n",
            "Epoch 22900 loss: nan\n",
            "Epoch 23000 loss: nan\n",
            "Epoch 23100 loss: nan\n",
            "Epoch 23200 loss: nan\n",
            "Epoch 23300 loss: nan\n",
            "Epoch 23400 loss: nan\n",
            "Epoch 23500 loss: nan\n",
            "Epoch 23600 loss: nan\n",
            "Epoch 23700 loss: nan\n",
            "Epoch 23800 loss: nan\n",
            "Epoch 23900 loss: nan\n",
            "Epoch 24000 loss: nan\n",
            "Epoch 24100 loss: nan\n",
            "Epoch 24200 loss: nan\n",
            "Epoch 24300 loss: nan\n",
            "Epoch 24400 loss: nan\n",
            "Epoch 24500 loss: nan\n",
            "Epoch 24600 loss: nan\n",
            "Epoch 24700 loss: nan\n",
            "Epoch 24800 loss: nan\n",
            "Epoch 24900 loss: nan\n",
            "Epoch 25000 loss: nan\n",
            "Epoch 25100 loss: nan\n",
            "Epoch 25200 loss: nan\n",
            "Epoch 25300 loss: nan\n",
            "Epoch 25400 loss: nan\n",
            "Epoch 25500 loss: nan\n",
            "Epoch 25600 loss: nan\n",
            "Epoch 25700 loss: nan\n",
            "Epoch 25800 loss: nan\n",
            "Epoch 25900 loss: nan\n",
            "Epoch 26000 loss: nan\n",
            "Epoch 26100 loss: nan\n",
            "Epoch 26200 loss: nan\n",
            "Epoch 26300 loss: nan\n",
            "Epoch 26400 loss: nan\n",
            "Epoch 26500 loss: nan\n",
            "Epoch 26600 loss: nan\n",
            "Epoch 26700 loss: nan\n",
            "Epoch 26800 loss: nan\n",
            "Epoch 26900 loss: nan\n",
            "Epoch 27000 loss: nan\n",
            "Epoch 27100 loss: nan\n",
            "Epoch 27200 loss: nan\n",
            "Epoch 27300 loss: nan\n",
            "Epoch 27400 loss: nan\n",
            "Epoch 27500 loss: nan\n",
            "Epoch 27600 loss: nan\n",
            "Epoch 27700 loss: nan\n",
            "Epoch 27800 loss: nan\n",
            "Epoch 27900 loss: nan\n",
            "Epoch 28000 loss: nan\n",
            "Epoch 28100 loss: nan\n",
            "Epoch 28200 loss: nan\n",
            "Epoch 28300 loss: nan\n",
            "Epoch 28400 loss: nan\n",
            "Epoch 28500 loss: nan\n",
            "Epoch 28600 loss: nan\n",
            "Epoch 28700 loss: nan\n",
            "Epoch 28800 loss: nan\n",
            "Epoch 28900 loss: nan\n",
            "Epoch 29000 loss: nan\n",
            "Epoch 29100 loss: nan\n",
            "Epoch 29200 loss: nan\n",
            "Epoch 29300 loss: nan\n",
            "Epoch 29400 loss: nan\n",
            "Epoch 29500 loss: nan\n",
            "Epoch 29600 loss: nan\n",
            "Epoch 29700 loss: nan\n",
            "Epoch 29800 loss: nan\n",
            "Epoch 29900 loss: nan\n",
            "Epoch 30000 loss: nan\n",
            "Epoch 30100 loss: nan\n",
            "Epoch 30200 loss: nan\n",
            "Epoch 30300 loss: nan\n",
            "Epoch 30400 loss: nan\n",
            "Epoch 30500 loss: nan\n",
            "Epoch 30600 loss: nan\n",
            "Epoch 30700 loss: nan\n",
            "Epoch 30800 loss: nan\n",
            "Epoch 30900 loss: nan\n",
            "Epoch 31000 loss: nan\n",
            "Epoch 31100 loss: nan\n",
            "Epoch 31200 loss: nan\n",
            "Epoch 31300 loss: nan\n",
            "Epoch 31400 loss: nan\n",
            "Epoch 31500 loss: nan\n",
            "Epoch 31600 loss: nan\n",
            "Epoch 31700 loss: nan\n",
            "Epoch 31800 loss: nan\n",
            "Epoch 31900 loss: nan\n",
            "Epoch 32000 loss: nan\n",
            "Epoch 32100 loss: nan\n",
            "Epoch 32200 loss: nan\n",
            "Epoch 32300 loss: nan\n",
            "Epoch 32400 loss: nan\n",
            "Epoch 32500 loss: nan\n",
            "Epoch 32600 loss: nan\n",
            "Epoch 32700 loss: nan\n",
            "Epoch 32800 loss: nan\n",
            "Epoch 32900 loss: nan\n",
            "Epoch 33000 loss: nan\n",
            "Epoch 33100 loss: nan\n",
            "Epoch 33200 loss: nan\n",
            "Epoch 33300 loss: nan\n",
            "Epoch 33400 loss: nan\n",
            "Epoch 33500 loss: nan\n",
            "Epoch 33600 loss: nan\n",
            "Epoch 33700 loss: nan\n",
            "Epoch 33800 loss: nan\n",
            "Epoch 33900 loss: nan\n",
            "Epoch 34000 loss: nan\n",
            "Epoch 34100 loss: nan\n",
            "Epoch 34200 loss: nan\n",
            "Epoch 34300 loss: nan\n",
            "Epoch 34400 loss: nan\n",
            "Epoch 34500 loss: nan\n",
            "Epoch 34600 loss: nan\n",
            "Epoch 34700 loss: nan\n",
            "Epoch 34800 loss: nan\n",
            "Epoch 34900 loss: nan\n",
            "Epoch 35000 loss: nan\n",
            "Epoch 35100 loss: nan\n",
            "Epoch 35200 loss: nan\n",
            "Epoch 35300 loss: nan\n",
            "Epoch 35400 loss: nan\n",
            "Epoch 35500 loss: nan\n",
            "Epoch 35600 loss: nan\n",
            "Epoch 35700 loss: nan\n",
            "Epoch 35800 loss: nan\n",
            "Epoch 35900 loss: nan\n",
            "Epoch 36000 loss: nan\n",
            "Epoch 36100 loss: nan\n",
            "Epoch 36200 loss: nan\n",
            "Epoch 36300 loss: nan\n",
            "Epoch 36400 loss: nan\n",
            "Epoch 36500 loss: nan\n",
            "Epoch 36600 loss: nan\n",
            "Epoch 36700 loss: nan\n",
            "Epoch 36800 loss: nan\n",
            "Epoch 36900 loss: nan\n",
            "Epoch 37000 loss: nan\n",
            "Epoch 37100 loss: nan\n",
            "Epoch 37200 loss: nan\n",
            "Epoch 37300 loss: nan\n",
            "Epoch 37400 loss: nan\n",
            "Epoch 37500 loss: nan\n",
            "Epoch 37600 loss: nan\n",
            "Epoch 37700 loss: nan\n",
            "Epoch 37800 loss: nan\n",
            "Epoch 37900 loss: nan\n",
            "Epoch 38000 loss: nan\n",
            "Epoch 38100 loss: nan\n",
            "Epoch 38200 loss: nan\n",
            "Epoch 38300 loss: nan\n",
            "Epoch 38400 loss: nan\n",
            "Epoch 38500 loss: nan\n",
            "Epoch 38600 loss: nan\n",
            "Epoch 38700 loss: nan\n",
            "Epoch 38800 loss: nan\n",
            "Epoch 38900 loss: nan\n",
            "Epoch 39000 loss: nan\n",
            "Epoch 39100 loss: nan\n",
            "Epoch 39200 loss: nan\n",
            "Epoch 39300 loss: nan\n",
            "Epoch 39400 loss: nan\n",
            "Epoch 39500 loss: nan\n",
            "Epoch 39600 loss: nan\n",
            "Epoch 39700 loss: nan\n",
            "Epoch 39800 loss: nan\n",
            "Epoch 39900 loss: nan\n",
            "Epoch 40000 loss: nan\n",
            "Epoch 40100 loss: nan\n",
            "Epoch 40200 loss: nan\n",
            "Epoch 40300 loss: nan\n",
            "Epoch 40400 loss: nan\n",
            "Epoch 40500 loss: nan\n",
            "Epoch 40600 loss: nan\n",
            "Epoch 40700 loss: nan\n",
            "Epoch 40800 loss: nan\n",
            "Epoch 40900 loss: nan\n",
            "Epoch 41000 loss: nan\n",
            "Epoch 41100 loss: nan\n",
            "Epoch 41200 loss: nan\n",
            "Epoch 41300 loss: nan\n",
            "Epoch 41400 loss: nan\n",
            "Epoch 41500 loss: nan\n",
            "Epoch 41600 loss: nan\n",
            "Epoch 41700 loss: nan\n",
            "Epoch 41800 loss: nan\n",
            "Epoch 41900 loss: nan\n",
            "Epoch 42000 loss: nan\n",
            "Epoch 42100 loss: nan\n",
            "Epoch 42200 loss: nan\n",
            "Epoch 42300 loss: nan\n",
            "Epoch 42400 loss: nan\n",
            "Epoch 42500 loss: nan\n",
            "Epoch 42600 loss: nan\n",
            "Epoch 42700 loss: nan\n",
            "Epoch 42800 loss: nan\n",
            "Epoch 42900 loss: nan\n",
            "Epoch 43000 loss: nan\n",
            "Epoch 43100 loss: nan\n",
            "Epoch 43200 loss: nan\n",
            "Epoch 43300 loss: nan\n",
            "Epoch 43400 loss: nan\n",
            "Epoch 43500 loss: nan\n",
            "Epoch 43600 loss: nan\n",
            "Epoch 43700 loss: nan\n",
            "Epoch 43800 loss: nan\n",
            "Epoch 43900 loss: nan\n",
            "Epoch 44000 loss: nan\n",
            "Epoch 44100 loss: nan\n",
            "Epoch 44200 loss: nan\n",
            "Epoch 44300 loss: nan\n",
            "Epoch 44400 loss: nan\n",
            "Epoch 44500 loss: nan\n",
            "Epoch 44600 loss: nan\n",
            "Epoch 44700 loss: nan\n",
            "Epoch 44800 loss: nan\n",
            "Epoch 44900 loss: nan\n",
            "Epoch 45000 loss: nan\n",
            "Epoch 45100 loss: nan\n",
            "Epoch 45200 loss: nan\n",
            "Epoch 45300 loss: nan\n",
            "Epoch 45400 loss: nan\n",
            "Epoch 45500 loss: nan\n",
            "Epoch 45600 loss: nan\n",
            "Epoch 45700 loss: nan\n",
            "Epoch 45800 loss: nan\n",
            "Epoch 45900 loss: nan\n",
            "Epoch 46000 loss: nan\n",
            "Epoch 46100 loss: nan\n",
            "Epoch 46200 loss: nan\n",
            "Epoch 46300 loss: nan\n",
            "Epoch 46400 loss: nan\n",
            "Epoch 46500 loss: nan\n",
            "Epoch 46600 loss: nan\n",
            "Epoch 46700 loss: nan\n",
            "Epoch 46800 loss: nan\n",
            "Epoch 46900 loss: nan\n",
            "Epoch 47000 loss: nan\n",
            "Epoch 47100 loss: nan\n",
            "Epoch 47200 loss: nan\n",
            "Epoch 47300 loss: nan\n",
            "Epoch 47400 loss: nan\n",
            "Epoch 47500 loss: nan\n",
            "Epoch 47600 loss: nan\n",
            "Epoch 47700 loss: nan\n",
            "Epoch 47800 loss: nan\n",
            "Epoch 47900 loss: nan\n",
            "Epoch 48000 loss: nan\n",
            "Epoch 48100 loss: nan\n",
            "Epoch 48200 loss: nan\n",
            "Epoch 48300 loss: nan\n",
            "Epoch 48400 loss: nan\n",
            "Epoch 48500 loss: nan\n",
            "Epoch 48600 loss: nan\n",
            "Epoch 48700 loss: nan\n",
            "Epoch 48800 loss: nan\n",
            "Epoch 48900 loss: nan\n",
            "Epoch 49000 loss: nan\n",
            "Epoch 49100 loss: nan\n",
            "Epoch 49200 loss: nan\n",
            "Epoch 49300 loss: nan\n",
            "Epoch 49400 loss: nan\n",
            "Epoch 49500 loss: nan\n",
            "Epoch 49600 loss: nan\n",
            "Epoch 49700 loss: nan\n",
            "Epoch 49800 loss: nan\n",
            "Epoch 49900 loss: nan\n"
          ]
        }
      ]
    },
    {
      "cell_type": "markdown",
      "metadata": {
        "id": "_SvyW5S2XpC6"
      },
      "source": [
        "## 5.11 학습률의 변경"
      ]
    },
    {
      "cell_type": "code",
      "metadata": {
        "id": "wt92VISFtaLj"
      },
      "source": [
        "# 반복 횟수\n",
        "#num_epochs = 50000\n",
        "num_epochs = 2000\n",
        "\n",
        "# 학습률\n",
        "#l r = 0.01\n",
        "lr = 0.001\n",
        "\n",
        "# 모델 인스턴스 생성\n",
        "net = Net(n_input, n_output)\n",
        "\n",
        "# 손실 함수：평균 제곱 오차\n",
        "criterion = nn.MSELoss()\n",
        "\n",
        "# 최적화 함수 : 경사 하강법\n",
        "optimizer = optim.SGD(net.parameters(), lr=lr)"
      ],
      "execution_count": 51,
      "outputs": []
    },
    {
      "cell_type": "code",
      "metadata": {
        "id": "tlAkM8K5t4XV",
        "colab": {
          "base_uri": "https://localhost:8080/"
        },
        "outputId": "25e9e363-b1e9-4218-a8db-8213a02c155b"
      },
      "source": [
        "# 반복 계산 메인 루프\n",
        "\n",
        "# 평가 결과 기록(손실 값만 기록)\n",
        "history = np.zeros((0,2))\n",
        "\n",
        "for epoch in range(num_epochs):\n",
        "\n",
        "    # 경삿값 초기화\n",
        "    optimizer.zero_grad()\n",
        "\n",
        "    # 예측 계산\n",
        "    outputs = net(inputs)\n",
        "\n",
        "    # 오차 계산\n",
        "    loss = criterion(outputs, labels1) / 2.0\n",
        "\n",
        "    # 경사 계산\n",
        "    loss.backward()\n",
        "\n",
        "    # 파라미터 수정\n",
        "    optimizer.step()\n",
        "\n",
        "    # 100회 마다 도중 경과를 기록\n",
        "    if ( epoch % 100 == 0):\n",
        "        history = np.vstack((history, np.array([epoch, loss.item()])))\n",
        "        print(f'Epoch {epoch} loss: {loss.item():.5f}')"
      ],
      "execution_count": 52,
      "outputs": [
        {
          "output_type": "stream",
          "name": "stdout",
          "text": [
            "Epoch 0 loss: 112.06398\n",
            "Epoch 100 loss: 25.35892\n",
            "Epoch 200 loss: 16.39105\n",
            "Epoch 300 loss: 15.40301\n",
            "Epoch 400 loss: 15.29414\n",
            "Epoch 500 loss: 15.28211\n",
            "Epoch 600 loss: 15.28076\n",
            "Epoch 700 loss: 15.28059\n",
            "Epoch 800 loss: 15.28054\n",
            "Epoch 900 loss: 15.28051\n",
            "Epoch 1000 loss: 15.28048\n",
            "Epoch 1100 loss: 15.28046\n",
            "Epoch 1200 loss: 15.28043\n",
            "Epoch 1300 loss: 15.28040\n",
            "Epoch 1400 loss: 15.28037\n",
            "Epoch 1500 loss: 15.28034\n",
            "Epoch 1600 loss: 15.28031\n",
            "Epoch 1700 loss: 15.28028\n",
            "Epoch 1800 loss: 15.28026\n",
            "Epoch 1900 loss: 15.28023\n"
          ]
        }
      ]
    },
    {
      "cell_type": "code",
      "metadata": {
        "id": "Y4UHX9Ast8Je",
        "colab": {
          "base_uri": "https://localhost:8080/"
        },
        "outputId": "9cf9a2a7-94cf-4421-ef19-551326596cbd"
      },
      "source": [
        "# 초기 손실값, 최종 손실값\n",
        "\n",
        "print(f'초기 손실값: {history[0,1]:.5f}')\n",
        "print(f'최종 손실값: {history[-1,1]:.5f}')"
      ],
      "execution_count": 53,
      "outputs": [
        {
          "output_type": "stream",
          "name": "stdout",
          "text": [
            "초기 손실값: 112.06398\n",
            "최종 손실값: 15.28023\n"
          ]
        }
      ]
    },
    {
      "cell_type": "code",
      "metadata": {
        "id": "hYPtlO6wuCoy",
        "scrolled": false,
        "colab": {
          "base_uri": "https://localhost:8080/",
          "height": 1000
        },
        "outputId": "821d6128-ed0d-455d-f732-b8869a7d13f2"
      },
      "source": [
        "# 학습 곡선 출력(손실)\n",
        "\n",
        "plt.plot(history[:,0], history[:,1], 'b')\n",
        "plt.xlabel('반복 횟수')\n",
        "plt.ylabel('손실')\n",
        "plt.title('학습 곡선(손실)')\n",
        "plt.show()"
      ],
      "execution_count": 54,
      "outputs": [
        {
          "output_type": "stream",
          "name": "stderr",
          "text": [
            "WARNING:matplotlib.font_manager:findfont: Font family 'NanumGothic' not found.\n",
            "WARNING:matplotlib.font_manager:findfont: Font family 'NanumGothic' not found.\n",
            "WARNING:matplotlib.font_manager:findfont: Font family 'NanumGothic' not found.\n",
            "WARNING:matplotlib.font_manager:findfont: Font family 'NanumGothic' not found.\n",
            "WARNING:matplotlib.font_manager:findfont: Font family 'NanumGothic' not found.\n",
            "WARNING:matplotlib.font_manager:findfont: Font family 'NanumGothic' not found.\n",
            "WARNING:matplotlib.font_manager:findfont: Font family 'NanumGothic' not found.\n",
            "WARNING:matplotlib.font_manager:findfont: Font family 'NanumGothic' not found.\n",
            "WARNING:matplotlib.font_manager:findfont: Font family 'NanumGothic' not found.\n",
            "WARNING:matplotlib.font_manager:findfont: Font family 'NanumGothic' not found.\n",
            "WARNING:matplotlib.font_manager:findfont: Font family 'NanumGothic' not found.\n",
            "WARNING:matplotlib.font_manager:findfont: Font family 'NanumGothic' not found.\n",
            "WARNING:matplotlib.font_manager:findfont: Font family 'NanumGothic' not found.\n",
            "WARNING:matplotlib.font_manager:findfont: Font family 'NanumGothic' not found.\n",
            "WARNING:matplotlib.font_manager:findfont: Font family 'NanumGothic' not found.\n",
            "WARNING:matplotlib.font_manager:findfont: Font family 'NanumGothic' not found.\n",
            "WARNING:matplotlib.font_manager:findfont: Font family 'NanumGothic' not found.\n",
            "WARNING:matplotlib.font_manager:findfont: Font family 'NanumGothic' not found.\n",
            "WARNING:matplotlib.font_manager:findfont: Font family 'NanumGothic' not found.\n",
            "WARNING:matplotlib.font_manager:findfont: Font family 'NanumGothic' not found.\n",
            "WARNING:matplotlib.font_manager:findfont: Font family 'NanumGothic' not found.\n",
            "WARNING:matplotlib.font_manager:findfont: Font family 'NanumGothic' not found.\n",
            "WARNING:matplotlib.font_manager:findfont: Font family 'NanumGothic' not found.\n",
            "WARNING:matplotlib.font_manager:findfont: Font family 'NanumGothic' not found.\n",
            "WARNING:matplotlib.font_manager:findfont: Font family 'NanumGothic' not found.\n",
            "WARNING:matplotlib.font_manager:findfont: Font family 'NanumGothic' not found.\n",
            "WARNING:matplotlib.font_manager:findfont: Font family 'NanumGothic' not found.\n",
            "WARNING:matplotlib.font_manager:findfont: Font family 'NanumGothic' not found.\n",
            "WARNING:matplotlib.font_manager:findfont: Font family 'NanumGothic' not found.\n",
            "WARNING:matplotlib.font_manager:findfont: Font family 'NanumGothic' not found.\n",
            "WARNING:matplotlib.font_manager:findfont: Font family 'NanumGothic' not found.\n",
            "WARNING:matplotlib.font_manager:findfont: Font family 'NanumGothic' not found.\n",
            "WARNING:matplotlib.font_manager:findfont: Font family 'NanumGothic' not found.\n",
            "WARNING:matplotlib.font_manager:findfont: Font family 'NanumGothic' not found.\n",
            "WARNING:matplotlib.font_manager:findfont: Font family 'NanumGothic' not found.\n",
            "WARNING:matplotlib.font_manager:findfont: Font family 'NanumGothic' not found.\n",
            "WARNING:matplotlib.font_manager:findfont: Font family 'NanumGothic' not found.\n",
            "WARNING:matplotlib.font_manager:findfont: Font family 'NanumGothic' not found.\n",
            "WARNING:matplotlib.font_manager:findfont: Font family 'NanumGothic' not found.\n",
            "WARNING:matplotlib.font_manager:findfont: Font family 'NanumGothic' not found.\n"
          ]
        },
        {
          "output_type": "display_data",
          "data": {
            "text/plain": [
              "<Figure size 600x600 with 1 Axes>"
            ],
            "image/png": "[encoded data removed]"
          },
          "metadata": {}
        }
      ]
    },
    {
      "cell_type": "code",
      "metadata": {
        "id": "j-CVGgMlXpC8",
        "colab": {
          "base_uri": "https://localhost:8080/"
        },
        "outputId": "de03774a-ac36-4606-d411-860e403019c4"
      },
      "source": [
        "#2입력 중회귀모델 작성\n",
        "x_add = x_org[:,feature_names=='LSTAT']\n",
        "x2 = np.hstack((x,x_add))\n",
        "print(x2.shape)\n",
        "print(x2[:5,:])"
      ],
      "execution_count": 57,
      "outputs": [
        {
          "output_type": "stream",
          "name": "stdout",
          "text": [
            "(506, 2)\n",
            "[[6.575 4.98 ]\n",
            " [6.421 9.14 ]\n",
            " [7.185 4.03 ]\n",
            " [6.998 2.94 ]\n",
            " [7.147 5.33 ]]\n"
          ]
        }
      ]
    },
    {
      "cell_type": "code",
      "source": [
        "n_input=x2.shape[1]\n",
        "print(n_input)\n",
        "net = Net(n_input,n_output)"
      ],
      "metadata": {
        "colab": {
          "base_uri": "https://localhost:8080/"
        },
        "id": "paOX16PxtLc5",
        "outputId": "497f8e30-447f-4214-d807-8858b960faab"
      },
      "execution_count": 61,
      "outputs": [
        {
          "output_type": "stream",
          "name": "stdout",
          "text": [
            "2\n"
          ]
        }
      ]
    },
    {
      "cell_type": "code",
      "source": [
        "for parameter in net.named_parameters():\n",
        "  print(f'변수명:{parameter[0]}')\n",
        "  print(f'변수값:{parameter[1].data}')\n"
      ],
      "metadata": {
        "colab": {
          "base_uri": "https://localhost:8080/"
        },
        "id": "zoBrvWlDt4G5",
        "outputId": "b862048f-d5b5-49bd-da85-75ca50cbeef2"
      },
      "execution_count": 63,
      "outputs": [
        {
          "output_type": "stream",
          "name": "stdout",
          "text": [
            "변수명:l1.weight\n",
            "변수값:tensor([[1., 1.]])\n",
            "변수명:l1.bias\n",
            "변수값:tensor([1.])\n"
          ]
        }
      ]
    },
    {
      "cell_type": "code",
      "source": [
        "print(net)"
      ],
      "metadata": {
        "colab": {
          "base_uri": "https://localhost:8080/"
        },
        "id": "nNvdqL_uu5op",
        "outputId": "e1edb59e-2c86-4db6-c752-e2ba03ce98c5"
      },
      "execution_count": 65,
      "outputs": [
        {
          "output_type": "stream",
          "name": "stdout",
          "text": [
            "Net(\n",
            "  (l1): Linear(in_features=2, out_features=1, bias=True)\n",
            ")\n"
          ]
        }
      ]
    },
    {
      "cell_type": "code",
      "source": [
        "from torchinfo import summary\n",
        "summary(net,(2,))"
      ],
      "metadata": {
        "colab": {
          "base_uri": "https://localhost:8080/"
        },
        "id": "EmQaSvogvaLV",
        "outputId": "93dfbd0a-144f-4a9d-adea-187b69c5b4c9"
      },
      "execution_count": 66,
      "outputs": [
        {
          "output_type": "execute_result",
          "data": {
            "text/plain": [
              "==========================================================================================\n",
              "Layer (type:depth-idx)                   Output Shape              Param #\n",
              "==========================================================================================\n",
              "Net                                      [1]                       --\n",
              "├─Linear: 1-1                            [1]                       3\n",
              "==========================================================================================\n",
              "Total params: 3\n",
              "Trainable params: 3\n",
              "Non-trainable params: 0\n",
              "Total mult-adds (M): 0.00\n",
              "==========================================================================================\n",
              "Input size (MB): 0.00\n",
              "Forward/backward pass size (MB): 0.00\n",
              "Params size (MB): 0.00\n",
              "Estimated Total Size (MB): 0.00\n",
              "=========================================================================================="
            ]
          },
          "metadata": {},
          "execution_count": 66
        }
      ]
    },
    {
      "cell_type": "code",
      "source": [
        "input=torch.tensor(x2).float()"
      ],
      "metadata": {
        "id": "Co9lHrr2vnCY"
      },
      "execution_count": 67,
      "outputs": []
    },
    {
      "cell_type": "code",
      "source": [
        "if (epoch%100==0):\n",
        "  history = np.vstack((history,np.array([epoch,loss.item()])))\n",
        "  print(f'Epoch{epoch}loss:{loss.item():.5f}')"
      ],
      "metadata": {
        "id": "odJWsW-SwEEH"
      },
      "execution_count": 68,
      "outputs": []
    },
    {
      "cell_type": "markdown",
      "source": [
        "학습률의 변경"
      ],
      "metadata": {
        "id": "Hu-S4s6pw2UE"
      }
    },
    {
      "cell_type": "code",
      "source": [
        "# 설정 초기값을 바꿔서 동일한 프로그램 실행\n",
        "num_epochs = 2000\n",
        "lr = 0.001\n",
        "net = Net(n_input,n_output)\n",
        "optimizer = optim.SGD(net.parameters(),lr = lr)"
      ],
      "metadata": {
        "id": "ofwVA9Xxw4OF"
      },
      "execution_count": 69,
      "outputs": []
    },
    {
      "cell_type": "code",
      "source": [
        "criterion = nn.MSELoss()"
      ],
      "metadata": {
        "id": "1T2-bcrFxS98"
      },
      "execution_count": 70,
      "outputs": []
    },
    {
      "cell_type": "code",
      "source": [
        "print(f'초기 손실값:{history[0,1]:.5f}')\n",
        "print(f'최종 손실값:{history[-1,1]:.5f}')"
      ],
      "metadata": {
        "colab": {
          "base_uri": "https://localhost:8080/"
        },
        "id": "D67-aBm1xmSv",
        "outputId": "d82eec4e-5e9a-4b90-f382-4dd26dd50209"
      },
      "execution_count": 71,
      "outputs": [
        {
          "output_type": "stream",
          "name": "stdout",
          "text": [
            "초기 손실값:112.06398\n",
            "최종 손실값:15.28023\n"
          ]
        }
      ]
    },
    {
      "cell_type": "code",
      "source": [
        "plt.plot(history[:,0],history[:,1],'b')\n",
        "plt.xlabel('반복횟수')\n",
        "plt.ylabel('손실')\n",
        "plt.title('학습 곡선(손실)')\n",
        "plt.show()"
      ],
      "metadata": {
        "colab": {
          "base_uri": "https://localhost:8080/",
          "height": 1000
        },
        "id": "y03olbfCzMbd",
        "outputId": "597887a1-7492-409f-957c-18997b3cef1c"
      },
      "execution_count": 73,
      "outputs": [
        {
          "output_type": "stream",
          "name": "stderr",
          "text": [
            "WARNING:matplotlib.font_manager:findfont: Font family 'NanumGothic' not found.\n",
            "WARNING:matplotlib.font_manager:findfont: Font family 'NanumGothic' not found.\n",
            "WARNING:matplotlib.font_manager:findfont: Font family 'NanumGothic' not found.\n",
            "WARNING:matplotlib.font_manager:findfont: Font family 'NanumGothic' not found.\n",
            "WARNING:matplotlib.font_manager:findfont: Font family 'NanumGothic' not found.\n",
            "WARNING:matplotlib.font_manager:findfont: Font family 'NanumGothic' not found.\n",
            "WARNING:matplotlib.font_manager:findfont: Font family 'NanumGothic' not found.\n",
            "/usr/local/lib/python3.10/dist-packages/IPython/core/pylabtools.py:151: UserWarning: Glyph 49552 (\\N{HANGUL SYLLABLE SON}) missing from current font.\n",
            "  fig.canvas.print_figure(bytes_io, **kw)\n",
            "/usr/local/lib/python3.10/dist-packages/IPython/core/pylabtools.py:151: UserWarning: Glyph 49892 (\\N{HANGUL SYLLABLE SIL}) missing from current font.\n",
            "  fig.canvas.print_figure(bytes_io, **kw)\n",
            "WARNING:matplotlib.font_manager:findfont: Font family 'NanumGothic' not found.\n",
            "WARNING:matplotlib.font_manager:findfont: Font family 'NanumGothic' not found.\n",
            "/usr/local/lib/python3.10/dist-packages/IPython/core/pylabtools.py:151: UserWarning: Glyph 54617 (\\N{HANGUL SYLLABLE HAG}) missing from current font.\n",
            "  fig.canvas.print_figure(bytes_io, **kw)\n",
            "/usr/local/lib/python3.10/dist-packages/IPython/core/pylabtools.py:151: UserWarning: Glyph 49845 (\\N{HANGUL SYLLABLE SEUB}) missing from current font.\n",
            "  fig.canvas.print_figure(bytes_io, **kw)\n",
            "/usr/local/lib/python3.10/dist-packages/IPython/core/pylabtools.py:151: UserWarning: Glyph 44257 (\\N{HANGUL SYLLABLE GOG}) missing from current font.\n",
            "  fig.canvas.print_figure(bytes_io, **kw)\n",
            "/usr/local/lib/python3.10/dist-packages/IPython/core/pylabtools.py:151: UserWarning: Glyph 49440 (\\N{HANGUL SYLLABLE SEON}) missing from current font.\n",
            "  fig.canvas.print_figure(bytes_io, **kw)\n",
            "WARNING:matplotlib.font_manager:findfont: Font family 'NanumGothic' not found.\n",
            "WARNING:matplotlib.font_manager:findfont: Font family 'NanumGothic' not found.\n",
            "WARNING:matplotlib.font_manager:findfont: Font family 'NanumGothic' not found.\n",
            "WARNING:matplotlib.font_manager:findfont: Font family 'NanumGothic' not found.\n",
            "WARNING:matplotlib.font_manager:findfont: Font family 'NanumGothic' not found.\n",
            "/usr/local/lib/python3.10/dist-packages/IPython/core/pylabtools.py:151: UserWarning: Glyph 48152 (\\N{HANGUL SYLLABLE BAN}) missing from current font.\n",
            "  fig.canvas.print_figure(bytes_io, **kw)\n",
            "/usr/local/lib/python3.10/dist-packages/IPython/core/pylabtools.py:151: UserWarning: Glyph 48373 (\\N{HANGUL SYLLABLE BOG}) missing from current font.\n",
            "  fig.canvas.print_figure(bytes_io, **kw)\n",
            "/usr/local/lib/python3.10/dist-packages/IPython/core/pylabtools.py:151: UserWarning: Glyph 54943 (\\N{HANGUL SYLLABLE HOES}) missing from current font.\n",
            "  fig.canvas.print_figure(bytes_io, **kw)\n",
            "/usr/local/lib/python3.10/dist-packages/IPython/core/pylabtools.py:151: UserWarning: Glyph 49688 (\\N{HANGUL SYLLABLE SU}) missing from current font.\n",
            "  fig.canvas.print_figure(bytes_io, **kw)\n",
            "WARNING:matplotlib.font_manager:findfont: Font family 'NanumGothic' not found.\n",
            "WARNING:matplotlib.font_manager:findfont: Font family 'NanumGothic' not found.\n",
            "WARNING:matplotlib.font_manager:findfont: Font family 'NanumGothic' not found.\n",
            "WARNING:matplotlib.font_manager:findfont: Font family 'NanumGothic' not found.\n",
            "WARNING:matplotlib.font_manager:findfont: Font family 'NanumGothic' not found.\n",
            "WARNING:matplotlib.font_manager:findfont: Font family 'NanumGothic' not found.\n",
            "WARNING:matplotlib.font_manager:findfont: Font family 'NanumGothic' not found.\n",
            "WARNING:matplotlib.font_manager:findfont: Font family 'NanumGothic' not found.\n",
            "WARNING:matplotlib.font_manager:findfont: Font family 'NanumGothic' not found.\n",
            "WARNING:matplotlib.font_manager:findfont: Font family 'NanumGothic' not found.\n",
            "WARNING:matplotlib.font_manager:findfont: Font family 'NanumGothic' not found.\n",
            "WARNING:matplotlib.font_manager:findfont: Font family 'NanumGothic' not found.\n",
            "WARNING:matplotlib.font_manager:findfont: Font family 'NanumGothic' not found.\n",
            "WARNING:matplotlib.font_manager:findfont: Font family 'NanumGothic' not found.\n",
            "WARNING:matplotlib.font_manager:findfont: Font family 'NanumGothic' not found.\n",
            "WARNING:matplotlib.font_manager:findfont: Font family 'NanumGothic' not found.\n",
            "WARNING:matplotlib.font_manager:findfont: Font family 'NanumGothic' not found.\n",
            "WARNING:matplotlib.font_manager:findfont: Font family 'NanumGothic' not found.\n",
            "WARNING:matplotlib.font_manager:findfont: Font family 'NanumGothic' not found.\n",
            "WARNING:matplotlib.font_manager:findfont: Font family 'NanumGothic' not found.\n",
            "WARNING:matplotlib.font_manager:findfont: Font family 'NanumGothic' not found.\n",
            "WARNING:matplotlib.font_manager:findfont: Font family 'NanumGothic' not found.\n",
            "WARNING:matplotlib.font_manager:findfont: Font family 'NanumGothic' not found.\n",
            "WARNING:matplotlib.font_manager:findfont: Font family 'NanumGothic' not found.\n",
            "WARNING:matplotlib.font_manager:findfont: Font family 'NanumGothic' not found.\n",
            "WARNING:matplotlib.font_manager:findfont: Font family 'NanumGothic' not found.\n"
          ]
        },
        {
          "output_type": "display_data",
          "data": {
            "text/plain": [
              "<Figure size 600x600 with 1 Axes>"
            ],
            "image/png": "[encoded data removed]"
          },
          "metadata": {}
        }
      ]
    }
  ]
}