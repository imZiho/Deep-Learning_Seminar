{
  "nbformat": 4,
  "nbformat_minor": 0,
  "metadata": {
    "colab": {
      "provenance": [],
      "authorship_tag": "ABX9TyO1CwE9iL0XbnY32Go+Gokn",
      "include_colab_link": true
    },
    "kernelspec": {
      "name": "python3",
      "display_name": "Python 3"
    },
    "language_info": {
      "name": "python"
    }
  },
  "cells": [
    {
      "cell_type": "markdown",
      "metadata": {
        "id": "view-in-github",
        "colab_type": "text"
      },
      "source": [
        "<a href=\"https://colab.research.google.com/github/imZiho/Deep-Learning_Seminar/blob/main/CHA07.ipynb\" target=\"_parent\"><img src=\"https://colab.research.google.com/assets/colab-badge.svg\" alt=\"Open In Colab\"/></a>"
      ]
    },
    {
      "cell_type": "code",
      "source": [
        "!sudo apt-get install -y fonts-nanum* | tail -n 1\n",
        "!sudo fc-cache -fv\n",
        "!rm -rf ~/.cache/matplotlib"
      ],
      "metadata": {
        "colab": {
          "base_uri": "https://localhost:8080/"
        },
        "id": "8pMaRR786I-c",
        "outputId": "f8af6e50-1a0b-4cc4-91b6-73424d7afd49"
      },
      "execution_count": 1,
      "outputs": [
        {
          "output_type": "stream",
          "name": "stdout",
          "text": [
            "debconf: unable to initialize frontend: Dialog\n",
            "debconf: (No usable dialog-like program is installed, so the dialog based frontend cannot be used. at /usr/share/perl5/Debconf/FrontEnd/Dialog.pm line 78, <> line 4.)\n",
            "debconf: falling back to frontend: Readline\n",
            "debconf: unable to initialize frontend: Readline\n",
            "debconf: (This frontend requires a controlling tty.)\n",
            "debconf: falling back to frontend: Teletype\n",
            "dpkg-preconfigure: unable to re-open stdin: \n",
            "Processing triggers for fontconfig (2.13.1-4.2ubuntu5) ...\n",
            "/usr/share/fonts: caching, new cache contents: 0 fonts, 1 dirs\n",
            "/usr/share/fonts/truetype: caching, new cache contents: 0 fonts, 3 dirs\n",
            "/usr/share/fonts/truetype/humor-sans: caching, new cache contents: 1 fonts, 0 dirs\n",
            "/usr/share/fonts/truetype/liberation: caching, new cache contents: 16 fonts, 0 dirs\n",
            "/usr/share/fonts/truetype/nanum: caching, new cache contents: 39 fonts, 0 dirs\n",
            "/usr/local/share/fonts: caching, new cache contents: 0 fonts, 0 dirs\n",
            "/root/.local/share/fonts: skipping, no such directory\n",
            "/root/.fonts: skipping, no such directory\n",
            "/usr/share/fonts/truetype: skipping, looped directory detected\n",
            "/usr/share/fonts/truetype/humor-sans: skipping, looped directory detected\n",
            "/usr/share/fonts/truetype/liberation: skipping, looped directory detected\n",
            "/usr/share/fonts/truetype/nanum: skipping, looped directory detected\n",
            "/var/cache/fontconfig: cleaning cache directory\n",
            "/root/.cache/fontconfig: not cleaning non-existent cache directory\n",
            "/root/.fontconfig: not cleaning non-existent cache directory\n",
            "fc-cache: succeeded\n"
          ]
        }
      ]
    },
    {
      "cell_type": "code",
      "source": [
        "# 필요 라이브러리 설치\n",
        "\n",
        "!pip install torchviz | tail -n 1\n",
        "!pip install torchinfo | tail -n 1"
      ],
      "metadata": {
        "colab": {
          "base_uri": "https://localhost:8080/"
        },
        "id": "yKpc5wi76Lol",
        "outputId": "6aabd8b1-5b7a-4a6a-f2ed-722326019650"
      },
      "execution_count": 2,
      "outputs": [
        {
          "output_type": "stream",
          "name": "stdout",
          "text": [
            "Successfully installed torchviz-0.0.2\n",
            "Successfully installed torchinfo-1.8.0\n"
          ]
        }
      ]
    },
    {
      "cell_type": "code",
      "source": [
        "# 라이브러리 임포트\n",
        "\n",
        "%matplotlib inline\n",
        "import numpy as np\n",
        "import matplotlib.pyplot as plt\n",
        "from IPython.display import display\n",
        "\n",
        "# 폰트 관련 용도\n",
        "import matplotlib.font_manager as fm\n",
        "\n",
        "# 나눔 고딕 폰트의 경로 명시\n",
        "path = '/usr/share/fonts/truetype/nanum/NanumGothic.ttf'\n",
        "font_name = fm.FontProperties(fname=path, size=10).get_name()"
      ],
      "metadata": {
        "id": "FjfbM3Ex6OCf"
      },
      "execution_count": 3,
      "outputs": []
    },
    {
      "cell_type": "code",
      "source": [
        "# 파이토치 관련 라이브러리\n",
        "\n",
        "import torch\n",
        "import torch.nn as nn\n",
        "import torch.optim as optim\n",
        "from torchinfo import summary\n",
        "from torchviz import make_dot"
      ],
      "metadata": {
        "id": "CikUDelR6QOy"
      },
      "execution_count": 4,
      "outputs": []
    },
    {
      "cell_type": "code",
      "source": [
        "# 기본 폰트 설정\n",
        "plt.rcParams['font.family'] = font_name\n",
        "\n",
        "# 기본 폰트 사이즈 변경\n",
        "plt.rcParams['font.size'] = 14\n",
        "\n",
        "# 기본 그래프 사이즈 변경\n",
        "plt.rcParams['figure.figsize'] = (6,6)\n",
        "\n",
        "# 기본 그리드 표시\n",
        "# 필요에 따라 설정할 때는, plt.grid()\n",
        "plt.rcParams['axes.grid'] = True\n",
        "\n",
        "# 마이너스 기호 정상 출력\n",
        "plt.rcParams['axes.unicode_minus'] = False\n",
        "\n",
        "# 넘파이 부동소수점 자릿수 표시\n",
        "np.set_printoptions(suppress=True, precision=4)"
      ],
      "metadata": {
        "id": "tmyiBfJ-6Sny"
      },
      "execution_count": 5,
      "outputs": []
    },
    {
      "cell_type": "markdown",
      "source": [
        "# **다중분류**\n",
        "\n",
        "기존 3개의 붓꽃데이터셋을 2종류로 줄여 이진분류에 사용했지만\n",
        "여기서는 세 종류 모두 학습 데이터로 사용한다."
      ],
      "metadata": {
        "id": "ot9GfrZjCwlp"
      }
    },
    {
      "cell_type": "markdown",
      "source": [
        "(이진분류와의 차이점)\n",
        "\n",
        "0. 출력부분에서의 큰 차이점 (선형회귀모델이나 이진분류모델 모두 출력은 1차원에 그쳤지만 다중분류모델에서는 분류하려는 그룹의 개수를 N개라고 했을때, N차원 출력이 된다)\n",
        "\n",
        "1. 이진분류의 예측에서 사용한 시그모이드 함수가 소프트맥스함수로 불리는 별개의 함수로 바뀐다\n",
        "\n",
        "2. 손실함수는 교차엔트로피 함수 그대로 사용하지만 형식에는 차이가 있다\n",
        "\n",
        "3. 이진분류에서는 가중치 벡터였으나 다중분류에서는 가중치 행렬로 대체된다"
      ],
      "metadata": {
        "id": "6mPPMpztDaKu"
      }
    },
    {
      "cell_type": "markdown",
      "source": [
        "**소프트맥스 함수란?**"
      ],
      "metadata": {
        "id": "9RPQ42lReClb"
      }
    },
    {
      "cell_type": "markdown",
      "source": [
        "![image.png](data:image/png;base64,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)"
      ],
      "metadata": {
        "id": "YjUmH0aIeYSk"
      }
    },
    {
      "cell_type": "markdown",
      "source": [
        "위와 같은 식으로 표현되는 함수이며 시그모이드 함수와 마찬가지로 출력으로 확률값을 내주는 성질을 갖는다.\n",
        "\n",
        "\n",
        "소프트맥스함수는 입력 중에서 가장 큰 값의 확률이 가장 크도로 출력한다\n",
        "\n",
        "즉 파이토치의 레이어 함수인 선형함수와 소프트맥스 함수를 이어 붙이면 여러 확률 값을 반환하는 예측모델을 구성할 수 있다."
      ],
      "metadata": {
        "id": "Ku-2_kVtenGw"
      }
    },
    {
      "cell_type": "markdown",
      "source": [
        "**교차 엔트로피 함수**"
      ],
      "metadata": {
        "id": "ctati33QiCOz"
      }
    },
    {
      "cell_type": "markdown",
      "source": [
        "교차 엔트로피 함수는 소프트맥스 함수의 중간 텐서 안의 모든 요소들에 대해 로그를 취해 정답 요소만을 골라낸다.\n",
        "\n",
        "손실함수로 넘겨줄 정답인 두번쨰 인수는 반드시 정수값으로 이루어져야한다.\n"
      ],
      "metadata": {
        "id": "ZnqFuX0OiIwS"
      }
    },
    {
      "cell_type": "markdown",
      "source": [
        "# **07.다중분류 실습**"
      ],
      "metadata": {
        "id": "5kaM-dutUXSF"
      }
    },
    {
      "cell_type": "markdown",
      "source": [
        "데이터 불러오기"
      ],
      "metadata": {
        "id": "PuuN8JIa6YuB"
      }
    },
    {
      "cell_type": "code",
      "source": [
        "# 학습용 데이터 준비\n",
        "\n",
        "# 라이브러리 임포트\n",
        "from sklearn.datasets import load_iris\n",
        "\n",
        "# 데이터 불러오기\n",
        "iris = load_iris()\n",
        "\n",
        "# 입력 데이터와 정답 데이터\n",
        "x_org, y_org = iris.data, iris.target\n",
        "\n",
        "# 결과 확인\n",
        "print('원본 데이터', x_org.shape, y_org.shape)"
      ],
      "metadata": {
        "colab": {
          "base_uri": "https://localhost:8080/"
        },
        "id": "qJPOdV_g6VwP",
        "outputId": "8432c75c-5fc8-4b02-a075-cd0484793056"
      },
      "execution_count": 9,
      "outputs": [
        {
          "output_type": "stream",
          "name": "stdout",
          "text": [
            "원본 데이터 (150, 4) (150,)\n"
          ]
        }
      ]
    },
    {
      "cell_type": "markdown",
      "source": [
        "**데이터 추출**"
      ],
      "metadata": {
        "id": "r1372CyA5m48"
      }
    },
    {
      "cell_type": "code",
      "source": [
        "# data는 꽃잎의 길이와 폭, 꽃받침의 길이와 폭을 수치 값으로 가지고 있는 NumPy 배열이다.\n",
        "# 입력 데이터로 sepal(꽃받침) length(0)와 petal(꽃잎) length(2)를 추출\n",
        "x_select = x_org[:,[0,2]]     #행렬의 특정 열들을 선택하는 표기법\n",
        "\n",
        "# 결과 확인\n",
        "print('원본 데이터', x_select.shape, y_org.shape)"
      ],
      "metadata": {
        "colab": {
          "base_uri": "https://localhost:8080/"
        },
        "id": "B5ohQ-jAFGtV",
        "outputId": "17a5a711-5128-433e-f8ba-90f9256ca692"
      },
      "execution_count": 10,
      "outputs": [
        {
          "output_type": "stream",
          "name": "stdout",
          "text": [
            "원본 데이터 (150, 2) (150,)\n"
          ]
        }
      ]
    },
    {
      "cell_type": "code",
      "source": [
        "# 훈련 데이터와 검증 데이터로 분할(셔플도 동시에 실시함)\n",
        "\n",
        "from sklearn.model_selection import train_test_split\n",
        "x_train, x_test, y_train, y_test = train_test_split(\n",
        "    x_select, y_org, train_size=75, test_size=75,\n",
        "    random_state=123)\n",
        "print(x_train.shape, x_test.shape, y_train.shape, y_test.shape)"
      ],
      "metadata": {
        "colab": {
          "base_uri": "https://localhost:8080/"
        },
        "id": "Or-xsJkwLeBk",
        "outputId": "f1e62d7f-bfa0-4e27-c2f3-b8786f63bc87"
      },
      "execution_count": 11,
      "outputs": [
        {
          "output_type": "stream",
          "name": "stdout",
          "text": [
            "(75, 2) (75, 2) (75,) (75,)\n"
          ]
        }
      ]
    },
    {
      "cell_type": "code",
      "source": [
        "# 데이터를 정답별로 분할\n",
        "\n",
        "x_t0 = x_train[y_train == 0]\n",
        "x_t1 = x_train[y_train == 1]\n",
        "x_t2 = x_train[y_train == 2]"
      ],
      "metadata": {
        "id": "nXgNzpO7Lsq2"
      },
      "execution_count": 12,
      "outputs": []
    },
    {
      "cell_type": "code",
      "source": [
        "# 산포도 출력\n",
        "\n",
        "plt.scatter(x_t0[:,0], x_t0[:,1], marker='x', c='k', s=50, label='0 (setosa)')\n",
        "plt.scatter(x_t1[:,0], x_t1[:,1], marker='o', c='b', s=50, label='1 (versicolor)')\n",
        "plt.scatter(x_t2[:,0], x_t2[:,1], marker='+', c='k', s=50, label='2 (virginica)')\n",
        "plt.xlabel('sepal_length')\n",
        "plt.ylabel('petal_length')\n",
        "plt.legend()\n",
        "plt.show()"
      ],
      "metadata": {
        "colab": {
          "base_uri": "https://localhost:8080/",
          "height": 1000
        },
        "id": "V7V1reAmLuR0",
        "outputId": "995712c5-a44f-4bba-f72d-f211ec7ef285"
      },
      "execution_count": 13,
      "outputs": [
        {
          "output_type": "stream",
          "name": "stderr",
          "text": [
            "WARNING:matplotlib.font_manager:findfont: Font family 'NanumGothic' not found.\n",
            "WARNING:matplotlib.font_manager:findfont: Font family 'NanumGothic' not found.\n",
            "WARNING:matplotlib.font_manager:findfont: Font family 'NanumGothic' not found.\n",
            "WARNING:matplotlib.font_manager:findfont: Font family 'NanumGothic' not found.\n",
            "WARNING:matplotlib.font_manager:findfont: Font family 'NanumGothic' not found.\n",
            "WARNING:matplotlib.font_manager:findfont: Font family 'NanumGothic' not found.\n",
            "WARNING:matplotlib.font_manager:findfont: Font family 'NanumGothic' not found.\n",
            "WARNING:matplotlib.font_manager:findfont: Font family 'NanumGothic' not found.\n",
            "WARNING:matplotlib.font_manager:findfont: Font family 'NanumGothic' not found.\n",
            "WARNING:matplotlib.font_manager:findfont: Font family 'NanumGothic' not found.\n",
            "WARNING:matplotlib.font_manager:findfont: Font family 'NanumGothic' not found.\n",
            "WARNING:matplotlib.font_manager:findfont: Font family 'NanumGothic' not found.\n",
            "WARNING:matplotlib.font_manager:findfont: Font family 'NanumGothic' not found.\n",
            "WARNING:matplotlib.font_manager:findfont: Font family 'NanumGothic' not found.\n",
            "WARNING:matplotlib.font_manager:findfont: Font family 'NanumGothic' not found.\n",
            "WARNING:matplotlib.font_manager:findfont: Font family 'NanumGothic' not found.\n",
            "WARNING:matplotlib.font_manager:findfont: Font family 'NanumGothic' not found.\n",
            "WARNING:matplotlib.font_manager:findfont: Font family 'NanumGothic' not found.\n",
            "WARNING:matplotlib.font_manager:findfont: Font family 'NanumGothic' not found.\n",
            "WARNING:matplotlib.font_manager:findfont: Font family 'NanumGothic' not found.\n",
            "WARNING:matplotlib.font_manager:findfont: Font family 'NanumGothic' not found.\n",
            "WARNING:matplotlib.font_manager:findfont: Font family 'NanumGothic' not found.\n",
            "WARNING:matplotlib.font_manager:findfont: Font family 'NanumGothic' not found.\n",
            "WARNING:matplotlib.font_manager:findfont: Font family 'NanumGothic' not found.\n",
            "WARNING:matplotlib.font_manager:findfont: Font family 'NanumGothic' not found.\n",
            "WARNING:matplotlib.font_manager:findfont: Font family 'NanumGothic' not found.\n",
            "WARNING:matplotlib.font_manager:findfont: Font family 'NanumGothic' not found.\n",
            "WARNING:matplotlib.font_manager:findfont: Font family 'NanumGothic' not found.\n",
            "WARNING:matplotlib.font_manager:findfont: Font family 'NanumGothic' not found.\n",
            "WARNING:matplotlib.font_manager:findfont: Font family 'NanumGothic' not found.\n",
            "WARNING:matplotlib.font_manager:findfont: Font family 'NanumGothic' not found.\n",
            "WARNING:matplotlib.font_manager:findfont: Font family 'NanumGothic' not found.\n",
            "WARNING:matplotlib.font_manager:findfont: Font family 'NanumGothic' not found.\n",
            "WARNING:matplotlib.font_manager:findfont: Font family 'NanumGothic' not found.\n",
            "WARNING:matplotlib.font_manager:findfont: Font family 'NanumGothic' not found.\n",
            "WARNING:matplotlib.font_manager:findfont: Font family 'NanumGothic' not found.\n",
            "WARNING:matplotlib.font_manager:findfont: Font family 'NanumGothic' not found.\n",
            "WARNING:matplotlib.font_manager:findfont: Font family 'NanumGothic' not found.\n",
            "WARNING:matplotlib.font_manager:findfont: Font family 'NanumGothic' not found.\n",
            "WARNING:matplotlib.font_manager:findfont: Font family 'NanumGothic' not found.\n",
            "WARNING:matplotlib.font_manager:findfont: Font family 'NanumGothic' not found.\n",
            "WARNING:matplotlib.font_manager:findfont: Font family 'NanumGothic' not found.\n",
            "WARNING:matplotlib.font_manager:findfont: Font family 'NanumGothic' not found.\n",
            "WARNING:matplotlib.font_manager:findfont: Font family 'NanumGothic' not found.\n",
            "WARNING:matplotlib.font_manager:findfont: Font family 'NanumGothic' not found.\n",
            "WARNING:matplotlib.font_manager:findfont: Font family 'NanumGothic' not found.\n",
            "WARNING:matplotlib.font_manager:findfont: Font family 'NanumGothic' not found.\n",
            "WARNING:matplotlib.font_manager:findfont: Font family 'NanumGothic' not found.\n",
            "WARNING:matplotlib.font_manager:findfont: Font family 'NanumGothic' not found.\n",
            "WARNING:matplotlib.font_manager:findfont: Font family 'NanumGothic' not found.\n",
            "WARNING:matplotlib.font_manager:findfont: Font family 'NanumGothic' not found.\n",
            "WARNING:matplotlib.font_manager:findfont: Font family 'NanumGothic' not found.\n",
            "WARNING:matplotlib.font_manager:findfont: Font family 'NanumGothic' not found.\n",
            "WARNING:matplotlib.font_manager:findfont: Font family 'NanumGothic' not found.\n",
            "WARNING:matplotlib.font_manager:findfont: Font family 'NanumGothic' not found.\n",
            "WARNING:matplotlib.font_manager:findfont: Font family 'NanumGothic' not found.\n",
            "WARNING:matplotlib.font_manager:findfont: Font family 'NanumGothic' not found.\n",
            "WARNING:matplotlib.font_manager:findfont: Font family 'NanumGothic' not found.\n",
            "WARNING:matplotlib.font_manager:findfont: Font family 'NanumGothic' not found.\n",
            "WARNING:matplotlib.font_manager:findfont: Font family 'NanumGothic' not found.\n",
            "WARNING:matplotlib.font_manager:findfont: Font family 'NanumGothic' not found.\n",
            "WARNING:matplotlib.font_manager:findfont: Font family 'NanumGothic' not found.\n",
            "WARNING:matplotlib.font_manager:findfont: Font family 'NanumGothic' not found.\n",
            "WARNING:matplotlib.font_manager:findfont: Font family 'NanumGothic' not found.\n",
            "WARNING:matplotlib.font_manager:findfont: Font family 'NanumGothic' not found.\n",
            "WARNING:matplotlib.font_manager:findfont: Font family 'NanumGothic' not found.\n",
            "WARNING:matplotlib.font_manager:findfont: Font family 'NanumGothic' not found.\n",
            "WARNING:matplotlib.font_manager:findfont: Font family 'NanumGothic' not found.\n",
            "WARNING:matplotlib.font_manager:findfont: Font family 'NanumGothic' not found.\n",
            "WARNING:matplotlib.font_manager:findfont: Font family 'NanumGothic' not found.\n",
            "WARNING:matplotlib.font_manager:findfont: Font family 'NanumGothic' not found.\n",
            "WARNING:matplotlib.font_manager:findfont: Font family 'NanumGothic' not found.\n",
            "WARNING:matplotlib.font_manager:findfont: Font family 'NanumGothic' not found.\n",
            "WARNING:matplotlib.font_manager:findfont: Font family 'NanumGothic' not found.\n",
            "WARNING:matplotlib.font_manager:findfont: Font family 'NanumGothic' not found.\n",
            "WARNING:matplotlib.font_manager:findfont: Font family 'NanumGothic' not found.\n",
            "WARNING:matplotlib.font_manager:findfont: Font family 'NanumGothic' not found.\n",
            "WARNING:matplotlib.font_manager:findfont: Font family 'NanumGothic' not found.\n",
            "WARNING:matplotlib.font_manager:findfont: Font family 'NanumGothic' not found.\n",
            "WARNING:matplotlib.font_manager:findfont: Font family 'NanumGothic' not found.\n",
            "WARNING:matplotlib.font_manager:findfont: Font family 'NanumGothic' not found.\n",
            "WARNING:matplotlib.font_manager:findfont: Font family 'NanumGothic' not found.\n",
            "WARNING:matplotlib.font_manager:findfont: Font family 'NanumGothic' not found.\n",
            "WARNING:matplotlib.font_manager:findfont: Font family 'NanumGothic' not found.\n",
            "WARNING:matplotlib.font_manager:findfont: Font family 'NanumGothic' not found.\n",
            "WARNING:matplotlib.font_manager:findfont: Font family 'NanumGothic' not found.\n",
            "WARNING:matplotlib.font_manager:findfont: Font family 'NanumGothic' not found.\n",
            "WARNING:matplotlib.font_manager:findfont: Font family 'NanumGothic' not found.\n",
            "WARNING:matplotlib.font_manager:findfont: Font family 'NanumGothic' not found.\n",
            "WARNING:matplotlib.font_manager:findfont: Font family 'NanumGothic' not found.\n",
            "WARNING:matplotlib.font_manager:findfont: Font family 'NanumGothic' not found.\n",
            "WARNING:matplotlib.font_manager:findfont: Font family 'NanumGothic' not found.\n",
            "WARNING:matplotlib.font_manager:findfont: Font family 'NanumGothic' not found.\n",
            "WARNING:matplotlib.font_manager:findfont: Font family 'NanumGothic' not found.\n",
            "WARNING:matplotlib.font_manager:findfont: Font family 'NanumGothic' not found.\n"
          ]
        },
        {
          "output_type": "display_data",
          "data": {
            "text/plain": [
              "<Figure size 600x600 with 1 Axes>"
            ],
            "image/png": "[encoded data removed]"
          },
          "metadata": {}
        }
      ]
    }
  ]
}