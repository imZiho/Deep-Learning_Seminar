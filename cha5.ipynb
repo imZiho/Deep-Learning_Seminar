{
  "nbformat": 4,
  "nbformat_minor": 0,
  "metadata": {
    "colab": {
      "provenance": [],
      "authorship_tag": "ABX9TyP7tnQYv2Kv/wb/2AV25Lfp",
      "include_colab_link": true
    },
    "kernelspec": {
      "name": "python3",
      "display_name": "Python 3"
    },
    "language_info": {
      "name": "python"
    }
  },
  "cells": [
    {
      "cell_type": "markdown",
      "metadata": {
        "id": "view-in-github",
        "colab_type": "text"
      },
      "source": [
        "<a href=\"https://colab.research.google.com/github/imZiho/Deep-Learning_Seminar/blob/main/cha5.ipynb\" target=\"_parent\"><img src=\"https://colab.research.google.com/assets/colab-badge.svg\" alt=\"Open In Colab\"/></a>"
      ]
    },
    {
      "cell_type": "code",
      "source": [
        "!sudo apt-get install -y fonts-nanum* | tail -n 1\n",
        "!sudo fc-cache -fv\n",
        "!rm -rf ~/.cache/matplotlib"
      ],
      "metadata": {
        "colab": {
          "base_uri": "https://localhost:8080/"
        },
        "id": "3Y4lquZ2dCAP",
        "outputId": "c2fb6e3f-89f7-4f28-b936-f60b2e62d501"
      },
      "execution_count": 1,
      "outputs": [
        {
          "output_type": "stream",
          "name": "stdout",
          "text": [
            "0 upgraded, 0 newly installed, 0 to remove and 15 not upgraded.\n",
            "/usr/share/fonts: caching, new cache contents: 0 fonts, 1 dirs\n",
            "/usr/share/fonts/truetype: caching, new cache contents: 0 fonts, 3 dirs\n",
            "/usr/share/fonts/truetype/humor-sans: caching, new cache contents: 1 fonts, 0 dirs\n",
            "/usr/share/fonts/truetype/liberation: caching, new cache contents: 16 fonts, 0 dirs\n",
            "/usr/share/fonts/truetype/nanum: caching, new cache contents: 31 fonts, 0 dirs\n",
            "/usr/local/share/fonts: caching, new cache contents: 0 fonts, 0 dirs\n",
            "/root/.local/share/fonts: skipping, no such directory\n",
            "/root/.fonts: skipping, no such directory\n",
            "/usr/share/fonts/truetype: skipping, looped directory detected\n",
            "/usr/share/fonts/truetype/humor-sans: skipping, looped directory detected\n",
            "/usr/share/fonts/truetype/liberation: skipping, looped directory detected\n",
            "/usr/share/fonts/truetype/nanum: skipping, looped directory detected\n",
            "/var/cache/fontconfig: cleaning cache directory\n",
            "/root/.cache/fontconfig: not cleaning non-existent cache directory\n",
            "/root/.fontconfig: not cleaning non-existent cache directory\n",
            "fc-cache: succeeded\n"
          ]
        }
      ]
    },
    {
      "cell_type": "code",
      "source": [
        "# 필요 라이브러리 설치\n",
        "\n",
        "!pip install torchviz | tail -n 1\n",
        "!pip install torchinfo | tail -n 1"
      ],
      "metadata": {
        "colab": {
          "base_uri": "https://localhost:8080/"
        },
        "id": "03NUEBWUdEvS",
        "outputId": "f2f171ad-3592-46d7-8acd-7281a9301d12"
      },
      "execution_count": 2,
      "outputs": [
        {
          "output_type": "stream",
          "name": "stdout",
          "text": [
            "Requirement already satisfied: mpmath>=0.19 in /usr/local/lib/python3.10/dist-packages (from sympy->torch->torchviz) (1.3.0)\n",
            "Requirement already satisfied: torchinfo in /usr/local/lib/python3.10/dist-packages (1.8.0)\n"
          ]
        }
      ]
    },
    {
      "cell_type": "code",
      "source": [
        "# 라이브러리 임포트\n",
        "\n",
        "%matplotlib inline\n",
        "import pandas as pd\n",
        "import numpy as np\n",
        "import matplotlib.pyplot as plt\n",
        "from IPython.display import display\n",
        "\n",
        "# 폰트 관련 용도\n",
        "import matplotlib.font_manager as fm\n",
        "\n",
        "# 나눔 고딕 폰트의 경로 명시\n",
        "path = '/usr/share/fonts/truetype/nanum/NanumGothic.ttf'\n",
        "font_name = fm.FontProperties(fname=path, size=10).get_name()"
      ],
      "metadata": {
        "id": "1yEZVFi3dGpR"
      },
      "execution_count": 3,
      "outputs": []
    },
    {
      "cell_type": "code",
      "source": [
        "import torch\n",
        "import torch.nn as nn\n",
        "import torch.optim as optim\n",
        "from torchviz import make_dot"
      ],
      "metadata": {
        "id": "qWM2JZRodLKQ"
      },
      "execution_count": 4,
      "outputs": []
    },
    {
      "cell_type": "code",
      "source": [
        "# 기본 폰트 설정\n",
        "plt.rcParams['font.family'] = font_name\n",
        "\n",
        "# 기본 폰트 사이즈 변경\n",
        "plt.rcParams['font.size'] = 14\n",
        "\n",
        "# 기본 그래프 사이즈 변경\n",
        "plt.rcParams['figure.figsize'] = (6,6)\n",
        "\n",
        "# 기본 그리드 표시\n",
        "# 필요에 따라 설정할 때는, plt.grid()\n",
        "plt.rcParams['axes.grid'] = True\n",
        "\n",
        "# 마이너스 기호 정상 출력\n",
        "plt.rcParams['axes.unicode_minus'] = False\n",
        "\n",
        "# 넘파이 부동소수점 자릿수 표시\n",
        "np.set_printoptions(suppress=True, precision=4)"
      ],
      "metadata": {
        "id": "F1KcwhMOdNO6"
      },
      "execution_count": 5,
      "outputs": []
    },
    {
      "cell_type": "markdown",
      "source": [
        "## 5.3 선형 함수(nn.Linear)\n",
        "직선을 갖는 함수로 일반적으로 1차함수"
      ],
      "metadata": {
        "id": "5wO5V9nadQLh"
      }
    },
    {
      "cell_type": "markdown",
      "source": [
        "1입력 1출력"
      ],
      "metadata": {
        "id": "1PzAyWS9eZ9g"
      }
    },
    {
      "cell_type": "code",
      "source": [
        "torch.manual_seed(123)\n",
        "l1 = nn.Linear(1,1)\n",
        "print(l1)             #  bias는 모델을 통해 얻은 예측값과 실제 정답과의 차이의 평균을 나타냄"
      ],
      "metadata": {
        "colab": {
          "base_uri": "https://localhost:8080/"
        },
        "id": "B14r6F2iecgn",
        "outputId": "4a7d909c-6ea5-4994-8d69-50aef7decc1b"
      },
      "execution_count": 6,
      "outputs": [
        {
          "output_type": "stream",
          "name": "stdout",
          "text": [
            "Linear(in_features=1, out_features=1, bias=True)\n"
          ]
        }
      ]
    },
    {
      "cell_type": "code",
      "source": [
        "for param in l1.named_parameters():\n",
        "  print('name:',param[0])\n",
        "  print('tensor:',param[1])\n",
        "  print('shape:',param[1].shape)"
      ],
      "metadata": {
        "colab": {
          "base_uri": "https://localhost:8080/"
        },
        "id": "Z9ZWkwtrhVe3",
        "outputId": "918bfccc-6e49-4ac6-93ae-64bcaa2b8dde"
      },
      "execution_count": 7,
      "outputs": [
        {
          "output_type": "stream",
          "name": "stdout",
          "text": [
            "name: weight\n",
            "tensor: Parameter containing:\n",
            "tensor([[-0.4078]], requires_grad=True)\n",
            "shape: torch.Size([1, 1])\n",
            "name: bias\n",
            "tensor: Parameter containing:\n",
            "tensor([0.0331], requires_grad=True)\n",
            "shape: torch.Size([1])\n"
          ]
        }
      ]
    },
    {
      "cell_type": "code",
      "source": [
        "nn.init.constant_(l1.weight,2.0)\n",
        "nn.init.constant_(l1.bias,1.0)\n",
        "print(l1.weight)\n",
        "print(l1.bias)"
      ],
      "metadata": {
        "colab": {
          "base_uri": "https://localhost:8080/"
        },
        "id": "HNuvOepioJxT",
        "outputId": "32fc43f2-cc00-46c3-ffca-c27e1b972ddb"
      },
      "execution_count": 8,
      "outputs": [
        {
          "output_type": "stream",
          "name": "stdout",
          "text": [
            "Parameter containing:\n",
            "tensor([[2.]], requires_grad=True)\n",
            "Parameter containing:\n",
            "tensor([1.], requires_grad=True)\n"
          ]
        }
      ]
    },
    {
      "cell_type": "code",
      "source": [
        "x_xp = np.arange(-2,2.1,1)\n",
        "x = torch.tensor(x_xp).float()\n",
        "x = x.view(-1,1)        # 뷰(view)는 원소수는 유지하면서 텐서의 크기 변경\n",
        "print(x.shape)          # 파이토치 텐서의 뷰는 넘파이에서 reshape같은 역활을 한다(텐서의 크기 변경)\n",
        "print(x)                # 여기서 (-1,1)이라는 것은 -1부분은 파이토치가 알아서 정하고 차원의 길이는 1을 가지도록 하라는 뜻"
      ],
      "metadata": {
        "colab": {
          "base_uri": "https://localhost:8080/"
        },
        "id": "Yjr0kdn87uJK",
        "outputId": "3d7ba3b6-bb21-4419-fe1b-a81b658288a6"
      },
      "execution_count": 9,
      "outputs": [
        {
          "output_type": "stream",
          "name": "stdout",
          "text": [
            "torch.Size([5, 1])\n",
            "tensor([[-2.],\n",
            "        [-1.],\n",
            "        [ 0.],\n",
            "        [ 1.],\n",
            "        [ 2.]])\n"
          ]
        }
      ]
    },
    {
      "cell_type": "code",
      "source": [
        "y = l1(x)\n",
        "print(y.shape)\n",
        "print(y.data)"
      ],
      "metadata": {
        "colab": {
          "base_uri": "https://localhost:8080/"
        },
        "id": "0qWv9w2r8NFH",
        "outputId": "2b2f4684-a5f0-4082-aac8-e3c9dcb8c9b8"
      },
      "execution_count": 10,
      "outputs": [
        {
          "output_type": "stream",
          "name": "stdout",
          "text": [
            "torch.Size([5, 1])\n",
            "tensor([[-3.],\n",
            "        [-1.],\n",
            "        [ 1.],\n",
            "        [ 3.],\n",
            "        [ 5.]])\n"
          ]
        }
      ]
    },
    {
      "cell_type": "markdown",
      "source": [
        "2입력 1출력"
      ],
      "metadata": {
        "id": "t_I7JZivNdKl"
      }
    },
    {
      "cell_type": "code",
      "source": [
        "l2 = nn.Linear(2,1)\n",
        "nn.init.constant_(l2.weight,1.0)\n",
        "nn.init.constant_(l2.bias,2.0)\n",
        "print(l2.weight)\n",
        "print(l2.bias)"
      ],
      "metadata": {
        "colab": {
          "base_uri": "https://localhost:8080/"
        },
        "id": "Csay3dBvNa-_",
        "outputId": "5b042a77-d8e5-4c8a-b6e3-2ed13f94e54a"
      },
      "execution_count": 11,
      "outputs": [
        {
          "output_type": "stream",
          "name": "stdout",
          "text": [
            "Parameter containing:\n",
            "tensor([[1., 1.]], requires_grad=True)\n",
            "Parameter containing:\n",
            "tensor([2.], requires_grad=True)\n"
          ]
        }
      ]
    },
    {
      "cell_type": "code",
      "source": [
        "x2_np= np.array([[0,0],[0,1],[1,0],[1,1]])\n",
        "x2 = torch.tensor(x2_np).float()\n",
        "print(x2.shape)\n",
        "print(x2)"
      ],
      "metadata": {
        "colab": {
          "base_uri": "https://localhost:8080/"
        },
        "id": "hoaM8bAVO8P0",
        "outputId": "656e0831-ea11-4d53-e900-90b6ced64167"
      },
      "execution_count": 12,
      "outputs": [
        {
          "output_type": "stream",
          "name": "stdout",
          "text": [
            "torch.Size([4, 2])\n",
            "tensor([[0., 0.],\n",
            "        [0., 1.],\n",
            "        [1., 0.],\n",
            "        [1., 1.]])\n"
          ]
        }
      ]
    },
    {
      "cell_type": "code",
      "source": [
        "y2 = l2(x2)\n",
        "print(y2.shape)\n",
        "print(y2.data)"
      ],
      "metadata": {
        "colab": {
          "base_uri": "https://localhost:8080/"
        },
        "id": "u_9f-bJvPjhg",
        "outputId": "13a904c3-7473-4f80-d2c7-9e4ac39eb08d"
      },
      "execution_count": 13,
      "outputs": [
        {
          "output_type": "stream",
          "name": "stdout",
          "text": [
            "torch.Size([4, 1])\n",
            "tensor([[2.],\n",
            "        [3.],\n",
            "        [3.],\n",
            "        [4.]])\n"
          ]
        }
      ]
    },
    {
      "cell_type": "markdown",
      "source": [
        "2입력 3출력"
      ],
      "metadata": {
        "id": "lh_OkuDnP4oa"
      }
    },
    {
      "cell_type": "code",
      "source": [
        "l3 = nn.Linear(2,3)\n",
        "nn.init.constant_(l3.weight[0,:],1.0)\n",
        "nn.init.constant_(l3.weight[1,:],2.0)\n",
        "nn.init.constant_(l3.weight[2,:],3.0)\n",
        "nn.init.constant_(l3.bias,2.0)\n",
        "print(l3.weight)\n",
        "print(l3.bias)"
      ],
      "metadata": {
        "colab": {
          "base_uri": "https://localhost:8080/"
        },
        "id": "xyDk3-5VP3fb",
        "outputId": "9c4c6d4e-6312-4ecb-e93f-1282313c52b7"
      },
      "execution_count": 14,
      "outputs": [
        {
          "output_type": "stream",
          "name": "stdout",
          "text": [
            "Parameter containing:\n",
            "tensor([[1., 1.],\n",
            "        [2., 2.],\n",
            "        [3., 3.]], requires_grad=True)\n",
            "Parameter containing:\n",
            "tensor([2., 2., 2.], requires_grad=True)\n"
          ]
        }
      ]
    },
    {
      "cell_type": "code",
      "source": [
        "y3  =l3(x2)\n",
        "print(y3.shape)\n",
        "print(y3.data)"
      ],
      "metadata": {
        "colab": {
          "base_uri": "https://localhost:8080/"
        },
        "id": "dM99xAaGRCNB",
        "outputId": "27fe50b7-d5dc-42cf-d3da-328303a62c70"
      },
      "execution_count": 15,
      "outputs": [
        {
          "output_type": "stream",
          "name": "stdout",
          "text": [
            "torch.Size([4, 3])\n",
            "tensor([[2., 2., 2.],\n",
            "        [3., 4., 5.],\n",
            "        [3., 4., 5.],\n",
            "        [4., 6., 8.]])\n"
          ]
        }
      ]
    },
    {
      "cell_type": "markdown",
      "source": [
        "**커스텀 클래스를 이용한 모델 정의**"
      ],
      "metadata": {
        "id": "3MQL87cpjkI-"
      }
    },
    {
      "cell_type": "code",
      "source": [
        "class Net(nn.Module):\n",
        "    def __init__(self, n_input, n_output):\n",
        "        #  부모 클래스 nn.Module 초기화\n",
        "        super().__init__()\n",
        "\n",
        "        # 출력층 정의\n",
        "        self.l1 = nn.Linear(n_input, n_output)\n",
        "\n",
        "    # 예측 함수 정의\n",
        "    def forward(self, x):\n",
        "        x1 = self.l1(x) # 선형 회귀\n",
        "        return x1"
      ],
      "metadata": {
        "id": "p8cD34NVjoDv"
      },
      "execution_count": 16,
      "outputs": []
    },
    {
      "cell_type": "code",
      "source": [
        "inputs = torch.ones(100,1)\n",
        "\n",
        "# 인스턴스 생성(１ 입력, 1 출력 선형 모델)\n",
        "n_input = 1\n",
        "n_output = 1\n",
        "net = Net(n_input, n_output)\n",
        "\n",
        "# 예측\n",
        "outputs = net(inputs)"
      ],
      "metadata": {
        "id": "qrHuKFl3j95p"
      },
      "execution_count": 17,
      "outputs": []
    },
    {
      "cell_type": "markdown",
      "source": [
        "**MSELoss 클래스를 이용한 손실 함수**\n",
        "\n",
        "손실함수는 모델의 정확도를 평가하는 함수\n",
        "\n",
        "손실함수는 weight와 bias를 이용하여 계산 함\n",
        "\n",
        "손실함수는 예측한 값과 실제 정답의 차이를 비교하기 위한 함수로, ![image.png](data:image/png;base64,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)\n",
        "\n",
        "\n"
      ],
      "metadata": {
        "id": "G9kPgzmgxbsj"
      }
    },
    {
      "cell_type": "markdown",
      "source": [
        "여기서 와이햇은 예측값, y는 실제값, 제곱하는 이유는 -를 제거하기 위함.\n",
        "\n",
        "\n",
        "따라서 예측값과 실제값을 빼서 제곱해서 loss를 구한 후 여기서 loss를 최소화하는 값을 찾으면 모델이 정확한 모델이 된다\n"
      ],
      "metadata": {
        "id": "K5fBZFZOywBA"
      }
    },
    {
      "cell_type": "markdown",
      "source": [
        "# 실습"
      ],
      "metadata": {
        "id": "MJM2UCqQ1v6L"
      }
    },
    {
      "cell_type": "code",
      "source": [
        "# '보스턴 데이터셋'은 현재 사이킷런 라이브러리에서 가져올 수 있지만,\n",
        "# 사이킷런에서 앞으로 이 데이터를 사용할 수 없기 때문에 웹 url에서 직접 수집\n",
        "\n",
        "data_url = \"http://lib.stat.cmu.edu/datasets/boston\"\n",
        "raw_df = pd.read_csv(data_url, sep=\"\\s+\",\n",
        "                     skiprows=22, header=None)\n",
        "x_org = np.hstack([raw_df.values[::2, :],\n",
        "                   raw_df.values[1::2, :2]])\n",
        "yt = raw_df.values[1::2, 2]\n",
        "feature_names = np.array(['CRIM', 'ZN', 'INDUS', 'CHAS', 'NOX',\n",
        "                          'RM', 'AGE', 'DIS', 'RAD', 'TAX', 'PTRATIO','B', 'LSTAT'])\n",
        "\n",
        "# 결과 확인\n",
        "print('원본 데이터', x_org.shape, yt.shape)\n",
        "print('항목명: ', feature_names)"
      ],
      "metadata": {
        "colab": {
          "base_uri": "https://localhost:8080/"
        },
        "id": "UKrcBWtY1Hu6",
        "outputId": "3ce80c78-480a-49f2-d628-56cb24fa4e94"
      },
      "execution_count": 20,
      "outputs": [
        {
          "output_type": "stream",
          "name": "stdout",
          "text": [
            "원본 데이터 (506, 13) (506,)\n",
            "항목명:  ['CRIM' 'ZN' 'INDUS' 'CHAS' 'NOX' 'RM' 'AGE' 'DIS' 'RAD' 'TAX' 'PTRATIO'\n",
            " 'B' 'LSTAT']\n"
          ]
        }
      ]
    },
    {
      "cell_type": "code",
      "source": [
        "# 데이터 추출(RM 항목)\n",
        "x = x_org[:,feature_names == 'RM']\n",
        "print('추출 후', x.shape)\n",
        "print(x[:5,:])\n",
        "\n",
        "# 정답 데이터 y 표시\n",
        "print('정답 데이터')\n",
        "print(yt[:5])"
      ],
      "metadata": {
        "colab": {
          "base_uri": "https://localhost:8080/"
        },
        "id": "48L2n0XE2IPx",
        "outputId": "a8873819-1bf0-4ca6-d82b-612737d73997"
      },
      "execution_count": 21,
      "outputs": [
        {
          "output_type": "stream",
          "name": "stdout",
          "text": [
            "추출 후 (506, 1)\n",
            "[[6.575]\n",
            " [6.421]\n",
            " [7.185]\n",
            " [6.998]\n",
            " [7.147]]\n",
            "정답 데이터\n",
            "[24.  21.6 34.7 33.4 36.2]\n"
          ]
        }
      ]
    },
    {
      "cell_type": "code",
      "source": [
        "# 산포도 출력\n",
        "\n",
        "plt.scatter(x, yt, s=10, c='b')\n",
        "plt.xlabel('방 개수')\n",
        "plt.ylabel('가격')\n",
        "plt.title('방 개수와 가격의 산포도')\n",
        "plt.show()"
      ],
      "metadata": {
        "colab": {
          "base_uri": "https://localhost:8080/",
          "height": 578
        },
        "id": "GmoT5tNF2Ko4",
        "outputId": "780f673c-b7e3-4901-f08f-99c35f2f1345"
      },
      "execution_count": 22,
      "outputs": [
        {
          "output_type": "display_data",
          "data": {
            "text/plain": [
              "<Figure size 600x600 with 1 Axes>"
            ],
            "image/png": "[encoded data removed]"
          },
          "metadata": {}
        }
      ]
    },
    {
      "cell_type": "markdown",
      "source": [
        "# 모델 정의"
      ],
      "metadata": {
        "id": "CGnFxr132PIj"
      }
    },
    {
      "cell_type": "code",
      "source": [
        "# 변수 정의\n",
        "\n",
        "# 입력 차원수\n",
        "n_input= x.shape[1]\n",
        "\n",
        "# 출력 차원수\n",
        "n_output = 1\n",
        "\n",
        "print(f'입력 차원수: {n_input}  출력 차원수: {n_output}')"
      ],
      "metadata": {
        "colab": {
          "base_uri": "https://localhost:8080/"
        },
        "id": "NHZIx3Kb2M75",
        "outputId": "add3a224-3ec0-4a3f-8c09-27e460f8cbb0"
      },
      "execution_count": 23,
      "outputs": [
        {
          "output_type": "stream",
          "name": "stdout",
          "text": [
            "입력 차원수: 1  출력 차원수: 1\n"
          ]
        }
      ]
    },
    {
      "cell_type": "code",
      "source": [
        "# 머신러닝 모델(예측 모델)의 클래스 정의\n",
        "\n",
        "class Net(nn.Module):\n",
        "    def __init__(self, n_input, n_output):\n",
        "        #  부모 클래스 nn.Module 초기화\n",
        "        super().__init__()\n",
        "\n",
        "        # 출력층 정의\n",
        "        self.l1 = nn.Linear(n_input, n_output)\n",
        "\n",
        "        # 초깃값을 모두 1로 설정\n",
        "        # \"딥러닝을 위한 수학\"과 조건을 맞추기 위함\n",
        "        nn.init.constant_(self.l1.weight, 1.0)\n",
        "        nn.init.constant_(self.l1.bias, 1.0)\n",
        "\n",
        "    # 예측 함수 정의\n",
        "    def forward(self, x):\n",
        "        x1 = self.l1(x) # 선형 회귀\n",
        "        return x1"
      ],
      "metadata": {
        "id": "MWmAwfzD2h_W"
      },
      "execution_count": 24,
      "outputs": []
    },
    {
      "cell_type": "code",
      "source": [
        "# 인스턴스 생성\n",
        "# １입력 1출력 선형 모델\n",
        "\n",
        "net = Net(n_input, n_output)"
      ],
      "metadata": {
        "id": "IzVGo2Pv2nUb"
      },
      "execution_count": 25,
      "outputs": []
    },
    {
      "cell_type": "code",
      "source": [
        "# 모델 안의 파라미터를 확인\n",
        "# 모델 안의 변수를 가져오기 위해 named_parameters 함수를 사용함\n",
        "# 첫번째 요소는 변수명, 두번째 요소가 변숫값\n",
        "#\n",
        "# predict.weight와 predict.bias 파라미터가 존재함\n",
        "# 초깃값은 두 파라미터 모두 1.0\n",
        "\n",
        "for parameter in net.named_parameters():\n",
        "    print(f'변수명: {parameter[0]}')\n",
        "    print(f'변숫값: {parameter[1].data}')"
      ],
      "metadata": {
        "colab": {
          "base_uri": "https://localhost:8080/"
        },
        "id": "T2tcUJ5r2rfm",
        "outputId": "ce6b1cb3-f4ed-4b65-ae73-9986e8d725e9"
      },
      "execution_count": 26,
      "outputs": [
        {
          "output_type": "stream",
          "name": "stdout",
          "text": [
            "변수명: l1.weight\n",
            "변숫값: tensor([[1.]])\n",
            "변수명: l1.bias\n",
            "변숫값: tensor([1.])\n"
          ]
        }
      ]
    },
    {
      "cell_type": "code",
      "source": [
        "# 파라미터 리스트를 가져오기 위해 parameters 함수를 사용\n",
        "\n",
        "for parameter in net.parameters():\n",
        "    print(parameter)"
      ],
      "metadata": {
        "colab": {
          "base_uri": "https://localhost:8080/"
        },
        "id": "XcwVS8p22uNF",
        "outputId": "1706573c-5f4f-4574-e933-eafd5a6382a1"
      },
      "execution_count": 27,
      "outputs": [
        {
          "output_type": "stream",
          "name": "stdout",
          "text": [
            "Parameter containing:\n",
            "tensor([[1.]], requires_grad=True)\n",
            "Parameter containing:\n",
            "tensor([1.], requires_grad=True)\n"
          ]
        }
      ]
    },
    {
      "cell_type": "markdown",
      "source": [
        "모델의 개요 표시"
      ],
      "metadata": {
        "id": "nLHXVeWT8wai"
      }
    },
    {
      "cell_type": "code",
      "source": [
        "# 모델의 개요 표시 1\n",
        "\n",
        "print(net)"
      ],
      "metadata": {
        "colab": {
          "base_uri": "https://localhost:8080/"
        },
        "id": "txzEQdIE6ceA",
        "outputId": "d60fc085-0b7c-4613-92af-54c0945e8d5b"
      },
      "execution_count": 28,
      "outputs": [
        {
          "output_type": "stream",
          "name": "stdout",
          "text": [
            "Net(\n",
            "  (l1): Linear(in_features=1, out_features=1, bias=True)\n",
            ")\n"
          ]
        }
      ]
    },
    {
      "cell_type": "code",
      "source": [
        "# 모델의 개요 표시 2\n",
        "\n",
        "from torchinfo import summary\n",
        "summary(net, (1,))"
      ],
      "metadata": {
        "colab": {
          "base_uri": "https://localhost:8080/"
        },
        "id": "51gHyEbE86Sm",
        "outputId": "20366ad3-cb6f-46e7-8619-000b3758a167"
      },
      "execution_count": 29,
      "outputs": [
        {
          "output_type": "execute_result",
          "data": {
            "text/plain": [
              "==========================================================================================\n",
              "Layer (type:depth-idx)                   Output Shape              Param #\n",
              "==========================================================================================\n",
              "Net                                      [1]                       --\n",
              "├─Linear: 1-1                            [1]                       2\n",
              "==========================================================================================\n",
              "Total params: 2\n",
              "Trainable params: 2\n",
              "Non-trainable params: 0\n",
              "Total mult-adds (M): 0.00\n",
              "==========================================================================================\n",
              "Input size (MB): 0.00\n",
              "Forward/backward pass size (MB): 0.00\n",
              "Params size (MB): 0.00\n",
              "Estimated Total Size (MB): 0.00\n",
              "=========================================================================================="
            ]
          },
          "metadata": {},
          "execution_count": 29
        }
      ]
    },
    {
      "cell_type": "markdown",
      "source": [
        "손실 함수와 최적화 함수"
      ],
      "metadata": {
        "id": "aTVAcV7OgIKY"
      }
    },
    {
      "cell_type": "code",
      "source": [
        "# 손실 함수： 평균 제곱 오차\n",
        "criterion = nn.MSELoss()\n",
        "\n",
        "# 학습률\n",
        "lr = 0.01\n",
        "\n",
        "# 최적화 함수: 경사 하강법\n",
        "optimizer = optim.SGD(net.parameters(), lr=lr)"
      ],
      "metadata": {
        "id": "sZRcxIwDgHph"
      },
      "execution_count": 34,
      "outputs": []
    },
    {
      "cell_type": "markdown",
      "source": [
        "경사하강법"
      ],
      "metadata": {
        "id": "xn1W8xwvkfz4"
      }
    },
    {
      "cell_type": "code",
      "source": [
        "inputs = torch.tensor(x).float()\n",
        "labels = torch.tensor(yt).float()\n",
        "\n",
        "# 차원 수 확인\n",
        "\n",
        "print(inputs.shape)\n",
        "print(labels.shape)"
      ],
      "metadata": {
        "colab": {
          "base_uri": "https://localhost:8080/"
        },
        "id": "BcTAsmzbf47w",
        "outputId": "9b342300-327c-4abb-c649-6e446ac8cf0d"
      },
      "execution_count": 37,
      "outputs": [
        {
          "output_type": "stream",
          "name": "stdout",
          "text": [
            "torch.Size([506, 1])\n",
            "torch.Size([506])\n"
          ]
        }
      ]
    },
    {
      "cell_type": "code",
      "source": [
        "labels1 = labels.view((-1, 1))\n",
        "\n",
        "# 차원 수 확인\n",
        "print(labels1.shape)"
      ],
      "metadata": {
        "colab": {
          "base_uri": "https://localhost:8080/"
        },
        "id": "b6MkaNQokl3U",
        "outputId": "bfd0df57-a674-45fa-8e13-627ed19bd3d3"
      },
      "execution_count": 38,
      "outputs": [
        {
          "output_type": "stream",
          "name": "stdout",
          "text": [
            "torch.Size([506, 1])\n"
          ]
        }
      ]
    },
    {
      "cell_type": "markdown",
      "source": [
        "1. 예측계산\n",
        "2. 손실계산\n",
        "3. 경사계산\n",
        "4. 파라미터 수정"
      ],
      "metadata": {
        "id": "FHBDnRyBkpJ1"
      }
    },
    {
      "cell_type": "code",
      "source": [
        "# 예측 계산\n",
        "\n",
        "outputs = net(inputs)"
      ],
      "metadata": {
        "id": "Lxw-OIwIkyaq"
      },
      "execution_count": 39,
      "outputs": []
    },
    {
      "cell_type": "code",
      "source": [
        "\n",
        "# 손실 계산\n",
        "loss = criterion(outputs, labels1)\n",
        "\n",
        "# 손실 값 가져오기\n",
        "print(f'{loss.item():.5f}')"
      ],
      "metadata": {
        "colab": {
          "base_uri": "https://localhost:8080/"
        },
        "id": "QxPtP1SQvTGl",
        "outputId": "3e14d983-9858-47d2-9e95-313d39b5582e"
      },
      "execution_count": 40,
      "outputs": [
        {
          "output_type": "stream",
          "name": "stdout",
          "text": [
            "473.96295\n"
          ]
        }
      ]
    },
    {
      "cell_type": "code",
      "source": [
        "# 손실을 그래프로 나타내기\n",
        "\n",
        "g = make_dot(loss, params=dict(net.named_parameters()))\n",
        "display(g)"
      ],
      "metadata": {
        "colab": {
          "base_uri": "https://localhost:8080/",
          "height": 468
        },
        "id": "JZjMJR8qvaAm",
        "outputId": "a44dcd64-0e90-422f-8cf4-af31adc1b638"
      },
      "execution_count": 41,
      "outputs": [
        {
          "output_type": "display_data",
          "data": {
            "image/svg+xml": "<?xml version=\"1.0\" encoding=\"UTF-8\" standalone=\"no\"?>\n<!DOCTYPE svg PUBLIC \"-//W3C//DTD SVG 1.1//EN\"\n \"http://www.w3.org/Graphics/SVG/1.1/DTD/svg11.dtd\">\n<!-- Generated by graphviz version 2.43.0 (0)\n -->\n<!-- Title: %3 Pages: 1 -->\n<svg width=\"216pt\" height=\"336pt\"\n viewBox=\"0.00 0.00 216.00 336.00\" xmlns=\"http://www.w3.org/2000/svg\" xmlns:xlink=\"http://www.w3.org/1999/xlink\">\n<g id=\"graph0\" class=\"graph\" transform=\"scale(1 1) rotate(0) translate(4 332)\">\n<title>%3</title>\n<polygon fill=\"white\" stroke=\"transparent\" points=\"-4,4 -4,-332 212,-332 212,4 -4,4\"/>\n<!-- 135516426464496 -->\n<g id=\"node1\" class=\"node\">\n<title>135516426464496</title>\n<polygon fill=\"#caff70\" stroke=\"black\" points=\"130.5,-31 76.5,-31 76.5,0 130.5,0 130.5,-31\"/>\n<text text-anchor=\"middle\" x=\"103.5\" y=\"-7\" font-family=\"monospace\" font-size=\"10.00\"> ()</text>\n</g>\n<!-- 135516426996848 -->\n<g id=\"node2\" class=\"node\">\n<title>135516426996848</title>\n<polygon fill=\"lightgrey\" stroke=\"black\" points=\"160,-86 47,-86 47,-67 160,-67 160,-86\"/>\n<text text-anchor=\"middle\" x=\"103.5\" y=\"-74\" font-family=\"monospace\" font-size=\"10.00\">MseLossBackward0</text>\n</g>\n<!-- 135516426996848&#45;&gt;135516426464496 -->\n<g id=\"edge7\" class=\"edge\">\n<title>135516426996848&#45;&gt;135516426464496</title>\n<path fill=\"none\" stroke=\"black\" d=\"M103.5,-66.79C103.5,-60.07 103.5,-50.4 103.5,-41.34\"/>\n<polygon fill=\"black\" stroke=\"black\" points=\"107,-41.19 103.5,-31.19 100,-41.19 107,-41.19\"/>\n</g>\n<!-- 135516427006832 -->\n<g id=\"node3\" class=\"node\">\n<title>135516427006832</title>\n<polygon fill=\"lightgrey\" stroke=\"black\" points=\"154,-141 53,-141 53,-122 154,-122 154,-141\"/>\n<text text-anchor=\"middle\" x=\"103.5\" y=\"-129\" font-family=\"monospace\" font-size=\"10.00\">AddmmBackward0</text>\n</g>\n<!-- 135516427006832&#45;&gt;135516426996848 -->\n<g id=\"edge1\" class=\"edge\">\n<title>135516427006832&#45;&gt;135516426996848</title>\n<path fill=\"none\" stroke=\"black\" d=\"M103.5,-121.75C103.5,-114.8 103.5,-104.85 103.5,-96.13\"/>\n<polygon fill=\"black\" stroke=\"black\" points=\"107,-96.09 103.5,-86.09 100,-96.09 107,-96.09\"/>\n</g>\n<!-- 135516427008464 -->\n<g id=\"node4\" class=\"node\">\n<title>135516427008464</title>\n<polygon fill=\"lightgrey\" stroke=\"black\" points=\"101,-196 0,-196 0,-177 101,-177 101,-196\"/>\n<text text-anchor=\"middle\" x=\"50.5\" y=\"-184\" font-family=\"monospace\" font-size=\"10.00\">AccumulateGrad</text>\n</g>\n<!-- 135516427008464&#45;&gt;135516427006832 -->\n<g id=\"edge2\" class=\"edge\">\n<title>135516427008464&#45;&gt;135516427006832</title>\n<path fill=\"none\" stroke=\"black\" d=\"M59.25,-176.75C66.97,-169.03 78.4,-157.6 87.72,-148.28\"/>\n<polygon fill=\"black\" stroke=\"black\" points=\"90.31,-150.64 94.91,-141.09 85.36,-145.69 90.31,-150.64\"/>\n</g>\n<!-- 135516428527440 -->\n<g id=\"node5\" class=\"node\">\n<title>135516428527440</title>\n<polygon fill=\"lightblue\" stroke=\"black\" points=\"80,-262 21,-262 21,-232 80,-232 80,-262\"/>\n<text text-anchor=\"middle\" x=\"50.5\" y=\"-250\" font-family=\"monospace\" font-size=\"10.00\">l1.bias</text>\n<text text-anchor=\"middle\" x=\"50.5\" y=\"-239\" font-family=\"monospace\" font-size=\"10.00\"> (1)</text>\n</g>\n<!-- 135516428527440&#45;&gt;135516427008464 -->\n<g id=\"edge3\" class=\"edge\">\n<title>135516428527440&#45;&gt;135516427008464</title>\n<path fill=\"none\" stroke=\"black\" d=\"M50.5,-231.84C50.5,-224.21 50.5,-214.7 50.5,-206.45\"/>\n<polygon fill=\"black\" stroke=\"black\" points=\"54,-206.27 50.5,-196.27 47,-206.27 54,-206.27\"/>\n</g>\n<!-- 135516426993776 -->\n<g id=\"node6\" class=\"node\">\n<title>135516426993776</title>\n<polygon fill=\"lightgrey\" stroke=\"black\" points=\"196,-196 119,-196 119,-177 196,-177 196,-196\"/>\n<text text-anchor=\"middle\" x=\"157.5\" y=\"-184\" font-family=\"monospace\" font-size=\"10.00\">TBackward0</text>\n</g>\n<!-- 135516426993776&#45;&gt;135516427006832 -->\n<g id=\"edge4\" class=\"edge\">\n<title>135516426993776&#45;&gt;135516427006832</title>\n<path fill=\"none\" stroke=\"black\" d=\"M148.58,-176.75C140.72,-169.03 129.07,-157.6 119.58,-148.28\"/>\n<polygon fill=\"black\" stroke=\"black\" points=\"121.84,-145.6 112.25,-141.09 116.94,-150.59 121.84,-145.6\"/>\n</g>\n<!-- 135516426996656 -->\n<g id=\"node7\" class=\"node\">\n<title>135516426996656</title>\n<polygon fill=\"lightgrey\" stroke=\"black\" points=\"208,-256.5 107,-256.5 107,-237.5 208,-237.5 208,-256.5\"/>\n<text text-anchor=\"middle\" x=\"157.5\" y=\"-244.5\" font-family=\"monospace\" font-size=\"10.00\">AccumulateGrad</text>\n</g>\n<!-- 135516426996656&#45;&gt;135516426993776 -->\n<g id=\"edge5\" class=\"edge\">\n<title>135516426996656&#45;&gt;135516426993776</title>\n<path fill=\"none\" stroke=\"black\" d=\"M157.5,-237.37C157.5,-229.25 157.5,-216.81 157.5,-206.39\"/>\n<polygon fill=\"black\" stroke=\"black\" points=\"161,-206.17 157.5,-196.17 154,-206.17 161,-206.17\"/>\n</g>\n<!-- 135516428528080 -->\n<g id=\"node8\" class=\"node\">\n<title>135516428528080</title>\n<polygon fill=\"lightblue\" stroke=\"black\" points=\"193,-328 122,-328 122,-298 193,-298 193,-328\"/>\n<text text-anchor=\"middle\" x=\"157.5\" y=\"-316\" font-family=\"monospace\" font-size=\"10.00\">l1.weight</text>\n<text text-anchor=\"middle\" x=\"157.5\" y=\"-305\" font-family=\"monospace\" font-size=\"10.00\"> (1, 1)</text>\n</g>\n<!-- 135516428528080&#45;&gt;135516426996656 -->\n<g id=\"edge6\" class=\"edge\">\n<title>135516428528080&#45;&gt;135516426996656</title>\n<path fill=\"none\" stroke=\"black\" d=\"M157.5,-297.8C157.5,-288.7 157.5,-276.79 157.5,-266.9\"/>\n<polygon fill=\"black\" stroke=\"black\" points=\"161,-266.84 157.5,-256.84 154,-266.84 161,-266.84\"/>\n</g>\n</g>\n</svg>\n",
            "text/plain": [
              "<graphviz.graphs.Digraph at 0x7b40607e2b60>"
            ]
          },
          "metadata": {}
        }
      ]
    },
    {
      "cell_type": "code",
      "source": [
        "# 예측 계산\n",
        "outputs = net(inputs)\n",
        "\n",
        "# 손실 계산\n",
        "loss = criterion(outputs, labels1)\n",
        "\n",
        "# 경사 계산\n",
        "loss.backward()\n",
        "\n",
        "# 경사 계산 결과를 취득 가능하도록 함\n",
        "print(net.l1.weight.grad)\n",
        "print(net.l1.bias.grad)"
      ],
      "metadata": {
        "colab": {
          "base_uri": "https://localhost:8080/"
        },
        "id": "mz5QN0Wbvc-z",
        "outputId": "970d1117-30eb-44c8-addd-5655299891e7"
      },
      "execution_count": 42,
      "outputs": [
        {
          "output_type": "stream",
          "name": "stdout",
          "text": [
            "tensor([[-257.6296]])\n",
            "tensor([-39.6167])\n"
          ]
        }
      ]
    },
    {
      "cell_type": "code",
      "source": [
        "# 파라미터 수정\n",
        "optimizer.step()\n",
        "\n",
        "# 파라미터 확인\n",
        "print(net.l1.weight)\n",
        "print(net.l1.bias)"
      ],
      "metadata": {
        "colab": {
          "base_uri": "https://localhost:8080/"
        },
        "id": "qWr1hq5wvfKD",
        "outputId": "4759690c-cb68-4224-d6e5-9761c29ca87a"
      },
      "execution_count": 43,
      "outputs": [
        {
          "output_type": "stream",
          "name": "stdout",
          "text": [
            "Parameter containing:\n",
            "tensor([[2.8973]], requires_grad=True)\n",
            "Parameter containing:\n",
            "tensor([1.1033], requires_grad=True)\n"
          ]
        }
      ]
    },
    {
      "cell_type": "code",
      "source": [
        "# 경삿값 초기화\n",
        "optimizer.zero_grad()\n",
        "\n",
        "# 경삿값을 모두 0으로 함\n",
        "print(net.l1.weight.grad)\n",
        "print(net.l1.bias.grad)"
      ],
      "metadata": {
        "colab": {
          "base_uri": "https://localhost:8080/"
        },
        "id": "itpPbhRTvhAw",
        "outputId": "74fb018b-b487-4acc-ee7e-ca159fdba2a3"
      },
      "execution_count": 44,
      "outputs": [
        {
          "output_type": "stream",
          "name": "stdout",
          "text": [
            "None\n",
            "None\n"
          ]
        }
      ]
    },
    {
      "cell_type": "code",
      "source": [
        "# 학습률\n",
        "lr = 0.01\n",
        "\n",
        "# 인스턴스 생성(파라미터 값 초기화)\n",
        "net = Net(n_input, n_output)\n",
        "\n",
        "# 손실 함수：평균 제곱 오차\n",
        "criterion = nn.MSELoss()\n",
        "\n",
        "# 최적화 함수 : 경사 하강법\n",
        "optimizer = optim.SGD(net.parameters(), lr=lr)\n",
        "\n",
        "# 반복 횟수\n",
        "num_epochs = 50000\n",
        "\n",
        "# 평가 결과 기록(손실 값만 기록)\n",
        "history = np.zeros((0,2))"
      ],
      "metadata": {
        "id": "fmu1iRATvjZ0"
      },
      "execution_count": 45,
      "outputs": []
    },
    {
      "cell_type": "code",
      "source": [
        "# 반복 계산 메인 루프\n",
        "\n",
        "for epoch in range(num_epochs):\n",
        "\n",
        "    # 경삿값 초기화\n",
        "    optimizer.zero_grad()\n",
        "\n",
        "    # 예측 계산\n",
        "    outputs = net(inputs)\n",
        "\n",
        "    # 손실 계산\n",
        "    # \"딥러닝을 위한 수학\"에 나온 결과와 맞추기 위해 2로 나눈 값을 손실로 정의\n",
        "    loss = criterion(outputs, labels1) / 2.0\n",
        "\n",
        "    # 경사 계산\n",
        "    loss.backward()\n",
        "\n",
        "    # 파라미터 수정\n",
        "    optimizer.step()\n",
        "\n",
        "    # 100회 마다 도중 경과를 기록\n",
        "    if ( epoch % 100 == 0):\n",
        "        history = np.vstack((history, np.array([epoch, loss.item()])))\n",
        "        print(f'Epoch {epoch} loss: {loss.item():.5f}')"
      ],
      "metadata": {
        "colab": {
          "base_uri": "https://localhost:8080/"
        },
        "id": "MpBnKt3ZvlwE",
        "outputId": "7b2fe5b1-3ae7-4aec-f7fc-dee710dda2aa"
      },
      "execution_count": 46,
      "outputs": [
        {
          "output_type": "stream",
          "name": "stdout",
          "text": [
            "Epoch 0 loss: 263.74506\n",
            "Epoch 100 loss: 29.36623\n",
            "Epoch 200 loss: 29.18646\n",
            "Epoch 300 loss: 29.01095\n",
            "Epoch 400 loss: 28.83961\n",
            "Epoch 500 loss: 28.67234\n",
            "Epoch 600 loss: 28.50905\n",
            "Epoch 700 loss: 28.34963\n",
            "Epoch 800 loss: 28.19401\n",
            "Epoch 900 loss: 28.04209\n",
            "Epoch 1000 loss: 27.89377\n",
            "Epoch 1100 loss: 27.74898\n",
            "Epoch 1200 loss: 27.60762\n",
            "Epoch 1300 loss: 27.46963\n",
            "Epoch 1400 loss: 27.33492\n",
            "Epoch 1500 loss: 27.20340\n",
            "Epoch 1600 loss: 27.07502\n",
            "Epoch 1700 loss: 26.94968\n",
            "Epoch 1800 loss: 26.82732\n",
            "Epoch 1900 loss: 26.70787\n",
            "Epoch 2000 loss: 26.59126\n",
            "Epoch 2100 loss: 26.47741\n",
            "Epoch 2200 loss: 26.36627\n",
            "Epoch 2300 loss: 26.25778\n",
            "Epoch 2400 loss: 26.15186\n",
            "Epoch 2500 loss: 26.04846\n",
            "Epoch 2600 loss: 25.94752\n",
            "Epoch 2700 loss: 25.84897\n",
            "Epoch 2800 loss: 25.75277\n",
            "Epoch 2900 loss: 25.65885\n",
            "Epoch 3000 loss: 25.56716\n",
            "Epoch 3100 loss: 25.47765\n",
            "Epoch 3200 loss: 25.39027\n",
            "Epoch 3300 loss: 25.30497\n",
            "Epoch 3400 loss: 25.22169\n",
            "Epoch 3500 loss: 25.14039\n",
            "Epoch 3600 loss: 25.06102\n",
            "Epoch 3700 loss: 24.98354\n",
            "Epoch 3800 loss: 24.90791\n",
            "Epoch 3900 loss: 24.83406\n",
            "Epoch 4000 loss: 24.76198\n",
            "Epoch 4100 loss: 24.69160\n",
            "Epoch 4200 loss: 24.62290\n",
            "Epoch 4300 loss: 24.55583\n",
            "Epoch 4400 loss: 24.49035\n",
            "Epoch 4500 loss: 24.42643\n",
            "Epoch 4600 loss: 24.36403\n",
            "Epoch 4700 loss: 24.30311\n",
            "Epoch 4800 loss: 24.24364\n",
            "Epoch 4900 loss: 24.18558\n",
            "Epoch 5000 loss: 24.12890\n",
            "Epoch 5100 loss: 24.07357\n",
            "Epoch 5200 loss: 24.01955\n",
            "Epoch 5300 loss: 23.96682\n",
            "Epoch 5400 loss: 23.91533\n",
            "Epoch 5500 loss: 23.86508\n",
            "Epoch 5600 loss: 23.81601\n",
            "Epoch 5700 loss: 23.76812\n",
            "Epoch 5800 loss: 23.72136\n",
            "Epoch 5900 loss: 23.67571\n",
            "Epoch 6000 loss: 23.63115\n",
            "Epoch 6100 loss: 23.58764\n",
            "Epoch 6200 loss: 23.54517\n",
            "Epoch 6300 loss: 23.50371\n",
            "Epoch 6400 loss: 23.46323\n",
            "Epoch 6500 loss: 23.42372\n",
            "Epoch 6600 loss: 23.38514\n",
            "Epoch 6700 loss: 23.34748\n",
            "Epoch 6800 loss: 23.31072\n",
            "Epoch 6900 loss: 23.27483\n",
            "Epoch 7000 loss: 23.23979\n",
            "Epoch 7100 loss: 23.20558\n",
            "Epoch 7200 loss: 23.17220\n",
            "Epoch 7300 loss: 23.13960\n",
            "Epoch 7400 loss: 23.10777\n",
            "Epoch 7500 loss: 23.07670\n",
            "Epoch 7600 loss: 23.04637\n",
            "Epoch 7700 loss: 23.01676\n",
            "Epoch 7800 loss: 22.98786\n",
            "Epoch 7900 loss: 22.95964\n",
            "Epoch 8000 loss: 22.93209\n",
            "Epoch 8100 loss: 22.90520\n",
            "Epoch 8200 loss: 22.87894\n",
            "Epoch 8300 loss: 22.85331\n",
            "Epoch 8400 loss: 22.82829\n",
            "Epoch 8500 loss: 22.80386\n",
            "Epoch 8600 loss: 22.78002\n",
            "Epoch 8700 loss: 22.75674\n",
            "Epoch 8800 loss: 22.73401\n",
            "Epoch 8900 loss: 22.71182\n",
            "Epoch 9000 loss: 22.69016\n",
            "Epoch 9100 loss: 22.66902\n",
            "Epoch 9200 loss: 22.64838\n",
            "Epoch 9300 loss: 22.62822\n",
            "Epoch 9400 loss: 22.60855\n",
            "Epoch 9500 loss: 22.58934\n",
            "Epoch 9600 loss: 22.57059\n",
            "Epoch 9700 loss: 22.55229\n",
            "Epoch 9800 loss: 22.53442\n",
            "Epoch 9900 loss: 22.51698\n",
            "Epoch 10000 loss: 22.49995\n",
            "Epoch 10100 loss: 22.48333\n",
            "Epoch 10200 loss: 22.46709\n",
            "Epoch 10300 loss: 22.45125\n",
            "Epoch 10400 loss: 22.43578\n",
            "Epoch 10500 loss: 22.42068\n",
            "Epoch 10600 loss: 22.40594\n",
            "Epoch 10700 loss: 22.39155\n",
            "Epoch 10800 loss: 22.37749\n",
            "Epoch 10900 loss: 22.36378\n",
            "Epoch 11000 loss: 22.35040\n",
            "Epoch 11100 loss: 22.33732\n",
            "Epoch 11200 loss: 22.32456\n",
            "Epoch 11300 loss: 22.31210\n",
            "Epoch 11400 loss: 22.29994\n",
            "Epoch 11500 loss: 22.28807\n",
            "Epoch 11600 loss: 22.27648\n",
            "Epoch 11700 loss: 22.26516\n",
            "Epoch 11800 loss: 22.25411\n",
            "Epoch 11900 loss: 22.24333\n",
            "Epoch 12000 loss: 22.23281\n",
            "Epoch 12100 loss: 22.22253\n",
            "Epoch 12200 loss: 22.21249\n",
            "Epoch 12300 loss: 22.20270\n",
            "Epoch 12400 loss: 22.19314\n",
            "Epoch 12500 loss: 22.18380\n",
            "Epoch 12600 loss: 22.17469\n",
            "Epoch 12700 loss: 22.16579\n",
            "Epoch 12800 loss: 22.15711\n",
            "Epoch 12900 loss: 22.14863\n",
            "Epoch 13000 loss: 22.14035\n",
            "Epoch 13100 loss: 22.13227\n",
            "Epoch 13200 loss: 22.12438\n",
            "Epoch 13300 loss: 22.11668\n",
            "Epoch 13400 loss: 22.10916\n",
            "Epoch 13500 loss: 22.10182\n",
            "Epoch 13600 loss: 22.09466\n",
            "Epoch 13700 loss: 22.08766\n",
            "Epoch 13800 loss: 22.08084\n",
            "Epoch 13900 loss: 22.07417\n",
            "Epoch 14000 loss: 22.06766\n",
            "Epoch 14100 loss: 22.06131\n",
            "Epoch 14200 loss: 22.05511\n",
            "Epoch 14300 loss: 22.04905\n",
            "Epoch 14400 loss: 22.04314\n",
            "Epoch 14500 loss: 22.03737\n",
            "Epoch 14600 loss: 22.03173\n",
            "Epoch 14700 loss: 22.02624\n",
            "Epoch 14800 loss: 22.02086\n",
            "Epoch 14900 loss: 22.01563\n",
            "Epoch 15000 loss: 22.01051\n",
            "Epoch 15100 loss: 22.00551\n",
            "Epoch 15200 loss: 22.00063\n",
            "Epoch 15300 loss: 21.99588\n",
            "Epoch 15400 loss: 21.99123\n",
            "Epoch 15500 loss: 21.98669\n",
            "Epoch 15600 loss: 21.98226\n",
            "Epoch 15700 loss: 21.97793\n",
            "Epoch 15800 loss: 21.97372\n",
            "Epoch 15900 loss: 21.96959\n",
            "Epoch 16000 loss: 21.96557\n",
            "Epoch 16100 loss: 21.96164\n",
            "Epoch 16200 loss: 21.95781\n",
            "Epoch 16300 loss: 21.95407\n",
            "Epoch 16400 loss: 21.95041\n",
            "Epoch 16500 loss: 21.94684\n",
            "Epoch 16600 loss: 21.94336\n",
            "Epoch 16700 loss: 21.93996\n",
            "Epoch 16800 loss: 21.93664\n",
            "Epoch 16900 loss: 21.93340\n",
            "Epoch 17000 loss: 21.93024\n",
            "Epoch 17100 loss: 21.92715\n",
            "Epoch 17200 loss: 21.92414\n",
            "Epoch 17300 loss: 21.92119\n",
            "Epoch 17400 loss: 21.91832\n",
            "Epoch 17500 loss: 21.91552\n",
            "Epoch 17600 loss: 21.91278\n",
            "Epoch 17700 loss: 21.91010\n",
            "Epoch 17800 loss: 21.90750\n",
            "Epoch 17900 loss: 21.90495\n",
            "Epoch 18000 loss: 21.90246\n",
            "Epoch 18100 loss: 21.90003\n",
            "Epoch 18200 loss: 21.89766\n",
            "Epoch 18300 loss: 21.89535\n",
            "Epoch 18400 loss: 21.89309\n",
            "Epoch 18500 loss: 21.89088\n",
            "Epoch 18600 loss: 21.88873\n",
            "Epoch 18700 loss: 21.88663\n",
            "Epoch 18800 loss: 21.88458\n",
            "Epoch 18900 loss: 21.88258\n",
            "Epoch 19000 loss: 21.88062\n",
            "Epoch 19100 loss: 21.87871\n",
            "Epoch 19200 loss: 21.87685\n",
            "Epoch 19300 loss: 21.87502\n",
            "Epoch 19400 loss: 21.87325\n",
            "Epoch 19500 loss: 21.87152\n",
            "Epoch 19600 loss: 21.86982\n",
            "Epoch 19700 loss: 21.86817\n",
            "Epoch 19800 loss: 21.86656\n",
            "Epoch 19900 loss: 21.86498\n",
            "Epoch 20000 loss: 21.86345\n",
            "Epoch 20100 loss: 21.86195\n",
            "Epoch 20200 loss: 21.86048\n",
            "Epoch 20300 loss: 21.85905\n",
            "Epoch 20400 loss: 21.85765\n",
            "Epoch 20500 loss: 21.85629\n",
            "Epoch 20600 loss: 21.85496\n",
            "Epoch 20700 loss: 21.85366\n",
            "Epoch 20800 loss: 21.85239\n",
            "Epoch 20900 loss: 21.85115\n",
            "Epoch 21000 loss: 21.84995\n",
            "Epoch 21100 loss: 21.84876\n",
            "Epoch 21200 loss: 21.84761\n",
            "Epoch 21300 loss: 21.84649\n",
            "Epoch 21400 loss: 21.84539\n",
            "Epoch 21500 loss: 21.84432\n",
            "Epoch 21600 loss: 21.84327\n",
            "Epoch 21700 loss: 21.84225\n",
            "Epoch 21800 loss: 21.84125\n",
            "Epoch 21900 loss: 21.84028\n",
            "Epoch 22000 loss: 21.83933\n",
            "Epoch 22100 loss: 21.83840\n",
            "Epoch 22200 loss: 21.83750\n",
            "Epoch 22300 loss: 21.83661\n",
            "Epoch 22400 loss: 21.83574\n",
            "Epoch 22500 loss: 21.83490\n",
            "Epoch 22600 loss: 21.83408\n",
            "Epoch 22700 loss: 21.83328\n",
            "Epoch 22800 loss: 21.83250\n",
            "Epoch 22900 loss: 21.83173\n",
            "Epoch 23000 loss: 21.83098\n",
            "Epoch 23100 loss: 21.83025\n",
            "Epoch 23200 loss: 21.82954\n",
            "Epoch 23300 loss: 21.82884\n",
            "Epoch 23400 loss: 21.82817\n",
            "Epoch 23500 loss: 21.82750\n",
            "Epoch 23600 loss: 21.82685\n",
            "Epoch 23700 loss: 21.82623\n",
            "Epoch 23800 loss: 21.82561\n",
            "Epoch 23900 loss: 21.82501\n",
            "Epoch 24000 loss: 21.82442\n",
            "Epoch 24100 loss: 21.82385\n",
            "Epoch 24200 loss: 21.82328\n",
            "Epoch 24300 loss: 21.82274\n",
            "Epoch 24400 loss: 21.82220\n",
            "Epoch 24500 loss: 21.82168\n",
            "Epoch 24600 loss: 21.82117\n",
            "Epoch 24700 loss: 21.82068\n",
            "Epoch 24800 loss: 21.82019\n",
            "Epoch 24900 loss: 21.81972\n",
            "Epoch 25000 loss: 21.81926\n",
            "Epoch 25100 loss: 21.81881\n",
            "Epoch 25200 loss: 21.81837\n",
            "Epoch 25300 loss: 21.81794\n",
            "Epoch 25400 loss: 21.81752\n",
            "Epoch 25500 loss: 21.81711\n",
            "Epoch 25600 loss: 21.81671\n",
            "Epoch 25700 loss: 21.81632\n",
            "Epoch 25800 loss: 21.81594\n",
            "Epoch 25900 loss: 21.81557\n",
            "Epoch 26000 loss: 21.81520\n",
            "Epoch 26100 loss: 21.81485\n",
            "Epoch 26200 loss: 21.81450\n",
            "Epoch 26300 loss: 21.81416\n",
            "Epoch 26400 loss: 21.81383\n",
            "Epoch 26500 loss: 21.81351\n",
            "Epoch 26600 loss: 21.81320\n",
            "Epoch 26700 loss: 21.81289\n",
            "Epoch 26800 loss: 21.81259\n",
            "Epoch 26900 loss: 21.81230\n",
            "Epoch 27000 loss: 21.81201\n",
            "Epoch 27100 loss: 21.81173\n",
            "Epoch 27200 loss: 21.81146\n",
            "Epoch 27300 loss: 21.81120\n",
            "Epoch 27400 loss: 21.81094\n",
            "Epoch 27500 loss: 21.81068\n",
            "Epoch 27600 loss: 21.81043\n",
            "Epoch 27700 loss: 21.81019\n",
            "Epoch 27800 loss: 21.80996\n",
            "Epoch 27900 loss: 21.80973\n",
            "Epoch 28000 loss: 21.80951\n",
            "Epoch 28100 loss: 21.80928\n",
            "Epoch 28200 loss: 21.80907\n",
            "Epoch 28300 loss: 21.80886\n",
            "Epoch 28400 loss: 21.80866\n",
            "Epoch 28500 loss: 21.80846\n",
            "Epoch 28600 loss: 21.80827\n",
            "Epoch 28700 loss: 21.80807\n",
            "Epoch 28800 loss: 21.80789\n",
            "Epoch 28900 loss: 21.80771\n",
            "Epoch 29000 loss: 21.80753\n",
            "Epoch 29100 loss: 21.80736\n",
            "Epoch 29200 loss: 21.80719\n",
            "Epoch 29300 loss: 21.80703\n",
            "Epoch 29400 loss: 21.80687\n",
            "Epoch 29500 loss: 21.80671\n",
            "Epoch 29600 loss: 21.80656\n",
            "Epoch 29700 loss: 21.80641\n",
            "Epoch 29800 loss: 21.80626\n",
            "Epoch 29900 loss: 21.80612\n",
            "Epoch 30000 loss: 21.80598\n",
            "Epoch 30100 loss: 21.80585\n",
            "Epoch 30200 loss: 21.80571\n",
            "Epoch 30300 loss: 21.80558\n",
            "Epoch 30400 loss: 21.80546\n",
            "Epoch 30500 loss: 21.80533\n",
            "Epoch 30600 loss: 21.80521\n",
            "Epoch 30700 loss: 21.80510\n",
            "Epoch 30800 loss: 21.80498\n",
            "Epoch 30900 loss: 21.80487\n",
            "Epoch 31000 loss: 21.80476\n",
            "Epoch 31100 loss: 21.80466\n",
            "Epoch 31200 loss: 21.80455\n",
            "Epoch 31300 loss: 21.80445\n",
            "Epoch 31400 loss: 21.80435\n",
            "Epoch 31500 loss: 21.80425\n",
            "Epoch 31600 loss: 21.80416\n",
            "Epoch 31700 loss: 21.80407\n",
            "Epoch 31800 loss: 21.80398\n",
            "Epoch 31900 loss: 21.80389\n",
            "Epoch 32000 loss: 21.80381\n",
            "Epoch 32100 loss: 21.80372\n",
            "Epoch 32200 loss: 21.80364\n",
            "Epoch 32300 loss: 21.80356\n",
            "Epoch 32400 loss: 21.80348\n",
            "Epoch 32500 loss: 21.80340\n",
            "Epoch 32600 loss: 21.80333\n",
            "Epoch 32700 loss: 21.80326\n",
            "Epoch 32800 loss: 21.80319\n",
            "Epoch 32900 loss: 21.80312\n",
            "Epoch 33000 loss: 21.80305\n",
            "Epoch 33100 loss: 21.80299\n",
            "Epoch 33200 loss: 21.80292\n",
            "Epoch 33300 loss: 21.80285\n",
            "Epoch 33400 loss: 21.80280\n",
            "Epoch 33500 loss: 21.80274\n",
            "Epoch 33600 loss: 21.80268\n",
            "Epoch 33700 loss: 21.80262\n",
            "Epoch 33800 loss: 21.80256\n",
            "Epoch 33900 loss: 21.80251\n",
            "Epoch 34000 loss: 21.80246\n",
            "Epoch 34100 loss: 21.80240\n",
            "Epoch 34200 loss: 21.80235\n",
            "Epoch 34300 loss: 21.80231\n",
            "Epoch 34400 loss: 21.80226\n",
            "Epoch 34500 loss: 21.80221\n",
            "Epoch 34600 loss: 21.80217\n",
            "Epoch 34700 loss: 21.80212\n",
            "Epoch 34800 loss: 21.80208\n",
            "Epoch 34900 loss: 21.80203\n",
            "Epoch 35000 loss: 21.80199\n",
            "Epoch 35100 loss: 21.80195\n",
            "Epoch 35200 loss: 21.80191\n",
            "Epoch 35300 loss: 21.80187\n",
            "Epoch 35400 loss: 21.80183\n",
            "Epoch 35500 loss: 21.80180\n",
            "Epoch 35600 loss: 21.80176\n",
            "Epoch 35700 loss: 21.80173\n",
            "Epoch 35800 loss: 21.80169\n",
            "Epoch 35900 loss: 21.80166\n",
            "Epoch 36000 loss: 21.80162\n",
            "Epoch 36100 loss: 21.80159\n",
            "Epoch 36200 loss: 21.80156\n",
            "Epoch 36300 loss: 21.80153\n",
            "Epoch 36400 loss: 21.80150\n",
            "Epoch 36500 loss: 21.80148\n",
            "Epoch 36600 loss: 21.80145\n",
            "Epoch 36700 loss: 21.80142\n",
            "Epoch 36800 loss: 21.80139\n",
            "Epoch 36900 loss: 21.80136\n",
            "Epoch 37000 loss: 21.80134\n",
            "Epoch 37100 loss: 21.80131\n",
            "Epoch 37200 loss: 21.80129\n",
            "Epoch 37300 loss: 21.80126\n",
            "Epoch 37400 loss: 21.80124\n",
            "Epoch 37500 loss: 21.80122\n",
            "Epoch 37600 loss: 21.80120\n",
            "Epoch 37700 loss: 21.80117\n",
            "Epoch 37800 loss: 21.80115\n",
            "Epoch 37900 loss: 21.80113\n",
            "Epoch 38000 loss: 21.80111\n",
            "Epoch 38100 loss: 21.80109\n",
            "Epoch 38200 loss: 21.80107\n",
            "Epoch 38300 loss: 21.80105\n",
            "Epoch 38400 loss: 21.80103\n",
            "Epoch 38500 loss: 21.80102\n",
            "Epoch 38600 loss: 21.80100\n",
            "Epoch 38700 loss: 21.80098\n",
            "Epoch 38800 loss: 21.80096\n",
            "Epoch 38900 loss: 21.80095\n",
            "Epoch 39000 loss: 21.80093\n",
            "Epoch 39100 loss: 21.80092\n",
            "Epoch 39200 loss: 21.80090\n",
            "Epoch 39300 loss: 21.80089\n",
            "Epoch 39400 loss: 21.80087\n",
            "Epoch 39500 loss: 21.80086\n",
            "Epoch 39600 loss: 21.80084\n",
            "Epoch 39700 loss: 21.80083\n",
            "Epoch 39800 loss: 21.80082\n",
            "Epoch 39900 loss: 21.80081\n",
            "Epoch 40000 loss: 21.80079\n",
            "Epoch 40100 loss: 21.80078\n",
            "Epoch 40200 loss: 21.80077\n",
            "Epoch 40300 loss: 21.80076\n",
            "Epoch 40400 loss: 21.80075\n",
            "Epoch 40500 loss: 21.80073\n",
            "Epoch 40600 loss: 21.80072\n",
            "Epoch 40700 loss: 21.80071\n",
            "Epoch 40800 loss: 21.80070\n",
            "Epoch 40900 loss: 21.80069\n",
            "Epoch 41000 loss: 21.80068\n",
            "Epoch 41100 loss: 21.80067\n",
            "Epoch 41200 loss: 21.80066\n",
            "Epoch 41300 loss: 21.80066\n",
            "Epoch 41400 loss: 21.80065\n",
            "Epoch 41500 loss: 21.80063\n",
            "Epoch 41600 loss: 21.80063\n",
            "Epoch 41700 loss: 21.80062\n",
            "Epoch 41800 loss: 21.80061\n",
            "Epoch 41900 loss: 21.80060\n",
            "Epoch 42000 loss: 21.80060\n",
            "Epoch 42100 loss: 21.80059\n",
            "Epoch 42200 loss: 21.80058\n",
            "Epoch 42300 loss: 21.80058\n",
            "Epoch 42400 loss: 21.80057\n",
            "Epoch 42500 loss: 21.80056\n",
            "Epoch 42600 loss: 21.80055\n",
            "Epoch 42700 loss: 21.80055\n",
            "Epoch 42800 loss: 21.80054\n",
            "Epoch 42900 loss: 21.80053\n",
            "Epoch 43000 loss: 21.80053\n",
            "Epoch 43100 loss: 21.80052\n",
            "Epoch 43200 loss: 21.80051\n",
            "Epoch 43300 loss: 21.80051\n",
            "Epoch 43400 loss: 21.80050\n",
            "Epoch 43500 loss: 21.80050\n",
            "Epoch 43600 loss: 21.80049\n",
            "Epoch 43700 loss: 21.80049\n",
            "Epoch 43800 loss: 21.80048\n",
            "Epoch 43900 loss: 21.80048\n",
            "Epoch 44000 loss: 21.80047\n",
            "Epoch 44100 loss: 21.80047\n",
            "Epoch 44200 loss: 21.80046\n",
            "Epoch 44300 loss: 21.80046\n",
            "Epoch 44400 loss: 21.80045\n",
            "Epoch 44500 loss: 21.80045\n",
            "Epoch 44600 loss: 21.80045\n",
            "Epoch 44700 loss: 21.80045\n",
            "Epoch 44800 loss: 21.80044\n",
            "Epoch 44900 loss: 21.80043\n",
            "Epoch 45000 loss: 21.80043\n",
            "Epoch 45100 loss: 21.80043\n",
            "Epoch 45200 loss: 21.80042\n",
            "Epoch 45300 loss: 21.80042\n",
            "Epoch 45400 loss: 21.80042\n",
            "Epoch 45500 loss: 21.80041\n",
            "Epoch 45600 loss: 21.80041\n",
            "Epoch 45700 loss: 21.80041\n",
            "Epoch 45800 loss: 21.80040\n",
            "Epoch 45900 loss: 21.80040\n",
            "Epoch 46000 loss: 21.80040\n",
            "Epoch 46100 loss: 21.80040\n",
            "Epoch 46200 loss: 21.80039\n",
            "Epoch 46300 loss: 21.80039\n",
            "Epoch 46400 loss: 21.80039\n",
            "Epoch 46500 loss: 21.80039\n",
            "Epoch 46600 loss: 21.80038\n",
            "Epoch 46700 loss: 21.80038\n",
            "Epoch 46800 loss: 21.80038\n",
            "Epoch 46900 loss: 21.80038\n",
            "Epoch 47000 loss: 21.80037\n",
            "Epoch 47100 loss: 21.80037\n",
            "Epoch 47200 loss: 21.80037\n",
            "Epoch 47300 loss: 21.80037\n",
            "Epoch 47400 loss: 21.80036\n",
            "Epoch 47500 loss: 21.80036\n",
            "Epoch 47600 loss: 21.80036\n",
            "Epoch 47700 loss: 21.80036\n",
            "Epoch 47800 loss: 21.80035\n",
            "Epoch 47900 loss: 21.80035\n",
            "Epoch 48000 loss: 21.80035\n",
            "Epoch 48100 loss: 21.80035\n",
            "Epoch 48200 loss: 21.80035\n",
            "Epoch 48300 loss: 21.80035\n",
            "Epoch 48400 loss: 21.80034\n",
            "Epoch 48500 loss: 21.80034\n",
            "Epoch 48600 loss: 21.80034\n",
            "Epoch 48700 loss: 21.80034\n",
            "Epoch 48800 loss: 21.80034\n",
            "Epoch 48900 loss: 21.80034\n",
            "Epoch 49000 loss: 21.80034\n",
            "Epoch 49100 loss: 21.80033\n",
            "Epoch 49200 loss: 21.80033\n",
            "Epoch 49300 loss: 21.80033\n",
            "Epoch 49400 loss: 21.80033\n",
            "Epoch 49500 loss: 21.80033\n",
            "Epoch 49600 loss: 21.80033\n",
            "Epoch 49700 loss: 21.80033\n",
            "Epoch 49800 loss: 21.80033\n",
            "Epoch 49900 loss: 21.80032\n"
          ]
        }
      ]
    },
    {
      "cell_type": "markdown",
      "source": [
        "결과확인"
      ],
      "metadata": {
        "id": "o8RmfAmBvqOy"
      }
    },
    {
      "cell_type": "code",
      "source": [
        "# 초기 손실값과 최종 손실값\n",
        "\n",
        "print(f'초기 손실값: {history[0,1]:.5f}')\n",
        "print(f'최종 손실값: {history[-1,1]:.5f}')"
      ],
      "metadata": {
        "colab": {
          "base_uri": "https://localhost:8080/"
        },
        "id": "MPjHlbJ0vryR",
        "outputId": "b9af2f6b-650f-4a8e-9fd6-6e90ddbbe2c2"
      },
      "execution_count": 47,
      "outputs": [
        {
          "output_type": "stream",
          "name": "stdout",
          "text": [
            "초기 손실값: 263.74506\n",
            "최종 손실값: 21.80032\n"
          ]
        }
      ]
    },
    {
      "cell_type": "code",
      "source": [
        "# 학습 곡선 출력(손실)\n",
        "# 가장 처음 요소는 제외\n",
        "\n",
        "plt.plot(history[1:,0], history[1:,1], 'b')\n",
        "plt.xlabel('반복 횟수')\n",
        "plt.ylabel('손실')\n",
        "plt.title('학습 곡선(손실)')\n",
        "plt.show()"
      ],
      "metadata": {
        "colab": {
          "base_uri": "https://localhost:8080/",
          "height": 578
        },
        "id": "Q5FcFHY1vvLZ",
        "outputId": "23af3953-1f0f-4945-fb0c-efafe861c898"
      },
      "execution_count": 48,
      "outputs": [
        {
          "output_type": "display_data",
          "data": {
            "text/plain": [
              "<Figure size 600x600 with 1 Axes>"
            ],
            "image/png": "[encoded data removed]"
          },
          "metadata": {}
        }
      ]
    },
    {
      "cell_type": "code",
      "source": [
        "# 회귀 직선 산출\n",
        "\n",
        "# x의 최솟값, 최댓값\n",
        "xse = np.array((x.min(), x.max())).reshape(-1,1)\n",
        "Xse = torch.tensor(xse).float()\n",
        "\n",
        "with torch.no_grad():\n",
        "  Yse = net(Xse)\n",
        "\n",
        "print(Yse.numpy())"
      ],
      "metadata": {
        "colab": {
          "base_uri": "https://localhost:8080/"
        },
        "id": "Uy09NCJ3vx4-",
        "outputId": "5555e808-8c9f-44d5-ad31-b9f4ead8521d"
      },
      "execution_count": 49,
      "outputs": [
        {
          "output_type": "stream",
          "name": "stdout",
          "text": [
            "[[-2.2195]\n",
            " [45.2127]]\n"
          ]
        }
      ]
    },
    {
      "cell_type": "code",
      "source": [
        "# 산포도와 회귀 직선 출력\n",
        "\n",
        "plt.scatter(x, yt, s=10, c='b')\n",
        "plt.xlabel('방 개수')\n",
        "plt.ylabel('가격')\n",
        "plt.plot(Xse.data, Yse.data, c='k')\n",
        "plt.title('산포도와 회귀 직선')\n",
        "plt.show()"
      ],
      "metadata": {
        "colab": {
          "base_uri": "https://localhost:8080/",
          "height": 578
        },
        "id": "Hc8MYl8evz7A",
        "outputId": "82bb6dbd-1fe1-4f9b-b632-c55e10b6f6e3"
      },
      "execution_count": 50,
      "outputs": [
        {
          "output_type": "display_data",
          "data": {
            "text/plain": [
              "<Figure size 600x600 with 1 Axes>"
            ],
            "image/png": "[encoded data removed]"
          },
          "metadata": {}
        }
      ]
    }
  ]
}