{
  "nbformat": 4,
  "nbformat_minor": 0,
  "metadata": {
    "colab": {
      "provenance": [],
      "include_colab_link": true
    },
    "kernelspec": {
      "display_name": "Python 3",
      "language": "python",
      "name": "python3"
    },
    "language_info": {
      "codemirror_mode": {
        "name": "ipython",
        "version": 3
      },
      "file_extension": ".py",
      "mimetype": "text/x-python",
      "name": "python",
      "nbconvert_exporter": "python",
      "pygments_lexer": "ipython3",
      "version": "3.8.5"
    }
  },
  "cells": [
    {
      "cell_type": "markdown",
      "metadata": {
        "id": "view-in-github",
        "colab_type": "text"
      },
      "source": [
        "<a href=\"https://colab.research.google.com/github/imZiho/Deep-Learning_Seminar/blob/main/ch05.ipynb\" target=\"_parent\"><img src=\"https://colab.research.google.com/assets/colab-badge.svg\" alt=\"Open In Colab\"/></a>"
      ]
    },
    {
      "cell_type": "code",
      "source": [],
      "metadata": {
        "id": "Bg4Ww2fmW38u"
      },
      "execution_count": null,
      "outputs": []
    },
    {
      "cell_type": "markdown",
      "metadata": {
        "id": "FXGXzQQSZhqU"
      },
      "source": [
        "# 5장 선형 회귀"
      ]
    },
    {
      "cell_type": "markdown",
      "source": [
        "* \"부록3 매트플롯립 입문\"에서 한글 폰트를 올바르게 출력하기 위한 설치 방법을 설명했다. 설치 방법은 다음과 같다."
      ],
      "metadata": {
        "id": "JzD-licZijc7"
      }
    },
    {
      "cell_type": "code",
      "source": [
        "!sudo apt-get install -y fonts-nanum* | tail -n 1\n",
        "!sudo fc-cache -fv\n",
        "!rm -rf ~/.cache/matplotlib"
      ],
      "metadata": {
        "colab": {
          "base_uri": "https://localhost:8080/"
        },
        "id": "8WKBQdcZUzBT",
        "outputId": "bdbf239c-ef9f-48f0-f390-eba81cfc4715"
      },
      "execution_count": 1,
      "outputs": [
        {
          "output_type": "stream",
          "name": "stdout",
          "text": [
            "0 upgraded, 0 newly installed, 0 to remove and 8 not upgraded.\n",
            "/usr/share/fonts: caching, new cache contents: 0 fonts, 2 dirs\n",
            "/usr/share/fonts/opentype: caching, new cache contents: 0 fonts, 2 dirs\n",
            "/usr/share/fonts/opentype/font-awesome: caching, new cache contents: 1 fonts, 0 dirs\n",
            "/usr/share/fonts/opentype/mathjax: caching, new cache contents: 24 fonts, 0 dirs\n",
            "/usr/share/fonts/truetype: caching, new cache contents: 0 fonts, 5 dirs\n",
            "/usr/share/fonts/truetype/font-awesome: caching, new cache contents: 1 fonts, 0 dirs\n",
            "/usr/share/fonts/truetype/glyphicons: caching, new cache contents: 1 fonts, 0 dirs\n",
            "/usr/share/fonts/truetype/humor-sans: caching, new cache contents: 1 fonts, 0 dirs\n",
            "/usr/share/fonts/truetype/liberation: caching, new cache contents: 16 fonts, 0 dirs\n",
            "/usr/share/fonts/truetype/nanum: caching, new cache contents: 39 fonts, 0 dirs\n",
            "/usr/local/share/fonts: caching, new cache contents: 0 fonts, 0 dirs\n",
            "/root/.local/share/fonts: skipping, no such directory\n",
            "/root/.fonts: skipping, no such directory\n",
            "/usr/share/fonts/opentype: skipping, looped directory detected\n",
            "/usr/share/fonts/truetype: skipping, looped directory detected\n",
            "/usr/share/fonts/opentype/font-awesome: skipping, looped directory detected\n",
            "/usr/share/fonts/opentype/mathjax: skipping, looped directory detected\n",
            "/usr/share/fonts/truetype/font-awesome: skipping, looped directory detected\n",
            "/usr/share/fonts/truetype/glyphicons: skipping, looped directory detected\n",
            "/usr/share/fonts/truetype/humor-sans: skipping, looped directory detected\n",
            "/usr/share/fonts/truetype/liberation: skipping, looped directory detected\n",
            "/usr/share/fonts/truetype/nanum: skipping, looped directory detected\n",
            "/var/cache/fontconfig: cleaning cache directory\n",
            "/root/.cache/fontconfig: not cleaning non-existent cache directory\n",
            "/root/.fontconfig: not cleaning non-existent cache directory\n",
            "fc-cache: succeeded\n"
          ]
        }
      ]
    },
    {
      "cell_type": "code",
      "metadata": {
        "id": "ID01O-IvXpCi",
        "colab": {
          "base_uri": "https://localhost:8080/"
        },
        "outputId": "99c528cd-a5de-4a75-b93a-9b656d16259d"
      },
      "source": [
        "# 필요 라이브러리 설치\n",
        "\n",
        "!pip install torchviz | tail -n 1\n",
        "!pip install torchinfo | tail -n 1"
      ],
      "execution_count": 2,
      "outputs": [
        {
          "output_type": "stream",
          "name": "stdout",
          "text": [
            "Requirement already satisfied: mpmath>=0.19 in /usr/local/lib/python3.10/dist-packages (from sympy->torch->torchviz) (1.3.0)\n",
            "Requirement already satisfied: torchinfo in /usr/local/lib/python3.10/dist-packages (1.8.0)\n"
          ]
        }
      ]
    },
    {
      "cell_type": "markdown",
      "source": [
        "* 모든 설치가 끝나면 한글 폰트를 바르게 출력하기 위해 **[런타임]** -> **[런타임 다시시작]**을 클릭한 다음, 아래 셀부터 코드를 실행해 주십시오."
      ],
      "metadata": {
        "id": "FIZukjY3XLzh"
      }
    },
    {
      "cell_type": "code",
      "metadata": {
        "id": "9BuGuNS4XpCk"
      },
      "source": [
        "# 라이브러리 임포트\n",
        "\n",
        "%matplotlib inline\n",
        "import pandas as pd\n",
        "import numpy as np\n",
        "import matplotlib.pyplot as plt\n",
        "from IPython.display import display\n",
        "\n",
        "# 폰트 관련 용도\n",
        "import matplotlib.font_manager as fm\n",
        "\n",
        "# 나눔 고딕 폰트의 경로 명시\n",
        "path = '/usr/share/fonts/truetype/nanum/NanumGothic.ttf'\n",
        "font_name = fm.FontProperties(fname=path, size=10).get_name()"
      ],
      "execution_count": 3,
      "outputs": []
    },
    {
      "cell_type": "code",
      "metadata": {
        "id": "nFqLX4N-XpCk"
      },
      "source": [
        "import torch\n",
        "import torch.nn as nn\n",
        "import torch.optim as optim\n",
        "from torchviz import make_dot"
      ],
      "execution_count": 4,
      "outputs": []
    },
    {
      "cell_type": "code",
      "metadata": {
        "id": "EWZHxbB1XpCl"
      },
      "source": [
        "# 기본 폰트 설정\n",
        "plt.rcParams['font.family'] = font_name\n",
        "\n",
        "# 기본 폰트 사이즈 변경\n",
        "plt.rcParams['font.size'] = 14\n",
        "\n",
        "# 기본 그래프 사이즈 변경\n",
        "plt.rcParams['figure.figsize'] = (6,6)\n",
        "\n",
        "# 기본 그리드 표시\n",
        "# 필요에 따라 설정할 때는, plt.grid()\n",
        "plt.rcParams['axes.grid'] = True\n",
        "\n",
        "# 마이너스 기호 정상 출력\n",
        "plt.rcParams['axes.unicode_minus'] = False\n",
        "\n",
        "# 넘파이 부동소수점 자릿수 표시\n",
        "np.set_printoptions(suppress=True, precision=4)"
      ],
      "execution_count": 5,
      "outputs": []
    },
    {
      "cell_type": "markdown",
      "metadata": {
        "id": "aL-55tM8XpCl"
      },
      "source": [
        "## 5.3 선형 함수(nn.Linear)"
      ]
    },
    {
      "cell_type": "markdown",
      "metadata": {
        "id": "RyH3OPekXpCl"
      },
      "source": [
        "###  입력 :1 출력 :1인 선형 함수"
      ]
    },
    {
      "cell_type": "code",
      "metadata": {
        "id": "lzycf0HxXpCm",
        "colab": {
          "base_uri": "https://localhost:8080/"
        },
        "outputId": "5b5eaa78-4b5c-473e-a847-7ba85e2cbf98"
      },
      "source": [
        "# 난수 시드값 고정\n",
        "torch.manual_seed(123)\n",
        "\n",
        "# 입력 :1 출력 :1 선형 함수의 정의\n",
        "l1 = nn.Linear(1, 1)\n",
        "\n",
        "# 선형 함수 확인\n",
        "print(l1)"
      ],
      "execution_count": 6,
      "outputs": [
        {
          "output_type": "stream",
          "name": "stdout",
          "text": [
            "Linear(in_features=1, out_features=1, bias=True)\n"
          ]
        }
      ]
    },
    {
      "cell_type": "code",
      "metadata": {
        "id": "pSvee2CeXpCm",
        "colab": {
          "base_uri": "https://localhost:8080/"
        },
        "outputId": "696061cf-10f8-4441-8111-f29b0164819a"
      },
      "source": [
        "# 파라미터명, 파라미터 값, shape 표시\n",
        "\n",
        "for param in l1.named_parameters():\n",
        "    print('name: ', param[0])\n",
        "    print('tensor: ', param[1])\n",
        "    print('shape: ', param[1].shape)"
      ],
      "execution_count": 7,
      "outputs": [
        {
          "output_type": "stream",
          "name": "stdout",
          "text": [
            "name:  weight\n",
            "tensor:  Parameter containing:\n",
            "tensor([[-0.4078]], requires_grad=True)\n",
            "shape:  torch.Size([1, 1])\n",
            "name:  bias\n",
            "tensor:  Parameter containing:\n",
            "tensor([0.0331], requires_grad=True)\n",
            "shape:  torch.Size([1])\n"
          ]
        }
      ]
    },
    {
      "cell_type": "code",
      "metadata": {
        "id": "LKYmasnBXpCn",
        "colab": {
          "base_uri": "https://localhost:8080/"
        },
        "outputId": "879a440e-c59a-4998-d83d-0c9373b19eb5"
      },
      "source": [
        "# 초깃값 설정\n",
        "nn.init.constant_(l1.weight, 2.0)\n",
        "nn.init.constant_(l1.bias, 1.0)\n",
        "\n",
        "# 결과 확인\n",
        "print(l1.weight)\n",
        "print(l1.bias)"
      ],
      "execution_count": 8,
      "outputs": [
        {
          "output_type": "stream",
          "name": "stdout",
          "text": [
            "Parameter containing:\n",
            "tensor([[2.]], requires_grad=True)\n",
            "Parameter containing:\n",
            "tensor([1.], requires_grad=True)\n"
          ]
        }
      ]
    },
    {
      "cell_type": "code",
      "metadata": {
        "id": "UZNxp3fYXpCn",
        "colab": {
          "base_uri": "https://localhost:8080/"
        },
        "outputId": "73a86df0-39b0-4804-c9d4-0ef213374b49"
      },
      "source": [
        "# 테스트용 데이터 생성\n",
        "\n",
        "# x_np를 넘파이 배열로 정의\n",
        "x_np = np.arange(-2, 2.1, 1)\n",
        "\n",
        "# 텐서 변수화\n",
        "x = torch.tensor(x_np).float()\n",
        "\n",
        "# (N,1) 사이즈로 변경\n",
        "x = x.view(-1,1)\n",
        "\n",
        "# 결과 확인\n",
        "print(x.shape)\n",
        "print(x)"
      ],
      "execution_count": 9,
      "outputs": [
        {
          "output_type": "stream",
          "name": "stdout",
          "text": [
            "torch.Size([5, 1])\n",
            "tensor([[-2.],\n",
            "        [-1.],\n",
            "        [ 0.],\n",
            "        [ 1.],\n",
            "        [ 2.]])\n"
          ]
        }
      ]
    },
    {
      "cell_type": "code",
      "metadata": {
        "id": "2De8gINFXpCo",
        "colab": {
          "base_uri": "https://localhost:8080/"
        },
        "outputId": "7bf48a72-96ea-434a-91ff-e4671c91316a"
      },
      "source": [
        "# 1차 함수 테스트\n",
        "\n",
        "y = l1(x)\n",
        "\n",
        "print(y.shape)\n",
        "print(y.data)"
      ],
      "execution_count": 10,
      "outputs": [
        {
          "output_type": "stream",
          "name": "stdout",
          "text": [
            "torch.Size([5, 1])\n",
            "tensor([[-3.],\n",
            "        [-1.],\n",
            "        [ 1.],\n",
            "        [ 3.],\n",
            "        [ 5.]])\n"
          ]
        }
      ]
    },
    {
      "cell_type": "markdown",
      "metadata": {
        "id": "d0csbLg9XpCo"
      },
      "source": [
        "### 입력 :2 출력 :1인 선형 함수"
      ]
    },
    {
      "cell_type": "code",
      "metadata": {
        "id": "VyebhECaXpCp",
        "colab": {
          "base_uri": "https://localhost:8080/"
        },
        "outputId": "4810d24d-0ccb-4321-be2f-8f98d409960b"
      },
      "source": [
        "# 입력 :2, 출력:1 선형 함수 정의\n",
        "l2 = nn.Linear(2, 1)\n",
        "\n",
        "# 초깃값 설정\n",
        "nn.init.constant_(l2.weight, 1.0)\n",
        "nn.init.constant_(l2.bias, 2.0)\n",
        "\n",
        "# 결과 확인\n",
        "print(l2.weight)\n",
        "print(l2.bias)"
      ],
      "execution_count": 11,
      "outputs": [
        {
          "output_type": "stream",
          "name": "stdout",
          "text": [
            "Parameter containing:\n",
            "tensor([[1., 1.]], requires_grad=True)\n",
            "Parameter containing:\n",
            "tensor([2.], requires_grad=True)\n"
          ]
        }
      ]
    },
    {
      "cell_type": "code",
      "metadata": {
        "id": "S1yCAOCcXpCp",
        "colab": {
          "base_uri": "https://localhost:8080/"
        },
        "outputId": "0d5551ff-6a41-4f69-8b1b-0e662fc35345"
      },
      "source": [
        "# 2차원 넘파이 배열\n",
        "x2_np = np.array([[0, 0], [0, 1], [1, 0], [1,1]])\n",
        "\n",
        "# 텐서 변수화\n",
        "x2 =  torch.tensor(x2_np).float()\n",
        "\n",
        "# 결과 확인\n",
        "print(x2.shape)\n",
        "print(x2)"
      ],
      "execution_count": 12,
      "outputs": [
        {
          "output_type": "stream",
          "name": "stdout",
          "text": [
            "torch.Size([4, 2])\n",
            "tensor([[0., 0.],\n",
            "        [0., 1.],\n",
            "        [1., 0.],\n",
            "        [1., 1.]])\n"
          ]
        }
      ]
    },
    {
      "cell_type": "code",
      "metadata": {
        "id": "bZ3OsIWJXpCp",
        "colab": {
          "base_uri": "https://localhost:8080/"
        },
        "outputId": "48a85a8e-b5d6-449b-baa5-6e603fbdb7d7"
      },
      "source": [
        "# 함수 값 계산\n",
        "y2 = l2(x2)\n",
        "\n",
        "# shape 확인\n",
        "print(y2.shape)\n",
        "\n",
        "# 값 확인\n",
        "print(y2.data)"
      ],
      "execution_count": 13,
      "outputs": [
        {
          "output_type": "stream",
          "name": "stdout",
          "text": [
            "torch.Size([4, 1])\n",
            "tensor([[2.],\n",
            "        [3.],\n",
            "        [3.],\n",
            "        [4.]])\n"
          ]
        }
      ]
    },
    {
      "cell_type": "markdown",
      "metadata": {
        "id": "53Ae8ANsXpCq"
      },
      "source": [
        "### 입력 :2 출력:3인 선형 함수"
      ]
    },
    {
      "cell_type": "code",
      "metadata": {
        "id": "o5xGgx2kXpCq",
        "colab": {
          "base_uri": "https://localhost:8080/"
        },
        "outputId": "1980cd1f-dd4d-4ec8-c00d-7d58a7d3ed7c"
      },
      "source": [
        "# 입력 :2, 출력 :3 선형 함수 정의\n",
        "\n",
        "l3 = nn.Linear(2, 3)\n",
        "\n",
        "# 초깃값 설정\n",
        "nn.init.constant_(l3.weight[0,:], 1.0)\n",
        "nn.init.constant_(l3.weight[1,:], 2.0)\n",
        "nn.init.constant_(l3.weight[2,:], 3.0)\n",
        "nn.init.constant_(l3.bias, 2.0)\n",
        "\n",
        "# 결과 확인\n",
        "print(l3.weight)\n",
        "print(l3.bias)"
      ],
      "execution_count": 14,
      "outputs": [
        {
          "output_type": "stream",
          "name": "stdout",
          "text": [
            "Parameter containing:\n",
            "tensor([[1., 1.],\n",
            "        [2., 2.],\n",
            "        [3., 3.]], requires_grad=True)\n",
            "Parameter containing:\n",
            "tensor([2., 2., 2.], requires_grad=True)\n"
          ]
        }
      ]
    },
    {
      "cell_type": "code",
      "metadata": {
        "id": "rL6qApqTXpCq",
        "colab": {
          "base_uri": "https://localhost:8080/"
        },
        "outputId": "5eabd6f2-e500-4f88-f78f-ce126523c758"
      },
      "source": [
        "# 함수 값 계산\n",
        "y3 = l3(x2)\n",
        "\n",
        "# shape 확인\n",
        "print(y3.shape)\n",
        "\n",
        "# 값 확인\n",
        "print(y3.data)"
      ],
      "execution_count": 15,
      "outputs": [
        {
          "output_type": "stream",
          "name": "stdout",
          "text": [
            "torch.Size([4, 3])\n",
            "tensor([[2., 2., 2.],\n",
            "        [3., 4., 5.],\n",
            "        [3., 4., 5.],\n",
            "        [4., 6., 8.]])\n"
          ]
        }
      ]
    },
    {
      "cell_type": "markdown",
      "metadata": {
        "id": "6Qy6LqOfRT0E"
      },
      "source": [
        "## 5.4 커스텀 클래스를 이용한 모델 정의"
      ]
    },
    {
      "cell_type": "code",
      "metadata": {
        "id": "3bcQHUdyXpCt"
      },
      "source": [
        "# 모델 정의\n",
        "\n",
        "class Net(nn.Module):\n",
        "    def __init__(self, n_input, n_output):\n",
        "        #  부모 클래스 nn.Module 초기화\n",
        "        super().__init__()\n",
        "\n",
        "        # 출력층 정의\n",
        "        self.l1 = nn.Linear(n_input, n_output)\n",
        "\n",
        "    # 예측 함수 정의\n",
        "    def forward(self, x):\n",
        "        x1 = self.l1(x) # 선형 회귀\n",
        "        return x1"
      ],
      "execution_count": 16,
      "outputs": []
    },
    {
      "cell_type": "code",
      "metadata": {
        "id": "5FLHS8bvXpCt"
      },
      "source": [
        "# 더미 입력\n",
        "inputs = torch.ones(100,1)\n",
        "\n",
        "# 인스턴스 생성(１ 입력, 1 출력 선형 모델)\n",
        "n_input = 1\n",
        "n_output = 1\n",
        "net = Net(n_input, n_output)\n",
        "\n",
        "# 예측\n",
        "outputs = net(inputs)"
      ],
      "execution_count": 17,
      "outputs": []
    },
    {
      "cell_type": "markdown",
      "metadata": {
        "id": "KFmZjNAlXpCr"
      },
      "source": [
        "\n",
        "## 5.6 데이터 준비\n",
        "UCI 공개 데이터셋 중에서 회귀 문제에 자주 사용되는 '보스턴 데이터셋'을 사용한다.\n",
        "\n",
        "https://www.cs.toronto.edu/~delve/data/boston/bostonDetail.html\n",
        "\n",
        "원본 데이터셋은, 17개 항목의 입력값으로부터 부동산 가격을 예측하기 위함이지만, 가장 단순한 '단일 회귀 모델'(1입력)을 만든다면 이 항목중에서 ``RM``이라는 항목만을 추출한다.\n"
      ]
    },
    {
      "cell_type": "code",
      "metadata": {
        "id": "nArbZhfCaWLF",
        "colab": {
          "base_uri": "https://localhost:8080/"
        },
        "outputId": "4ee15d10-cd22-4bf9-d4de-f4f5418be1b3"
      },
      "source": [
        "# 학습용 데이터셋 준비\n",
        "\n",
        "# '보스턴 데이터셋'은 현재 사이킷런 라이브러리에서 가져올 수 있지만,\n",
        "# 사이킷런에서 앞으로 이 데이터를 사용할 수 없기 때문에 웹 url에서 직접 수집\n",
        "\n",
        "data_url = \"http://lib.stat.cmu.edu/datasets/boston\"\n",
        "raw_df = pd.read_csv(data_url, sep=\"\\s+\",\n",
        "                     skiprows=22, header=None)\n",
        "x_org = np.hstack([raw_df.values[::2, :],\n",
        "                   raw_df.values[1::2, :2]])\n",
        "yt = raw_df.values[1::2, 2]\n",
        "feature_names = np.array(['CRIM', 'ZN', 'INDUS', 'CHAS', 'NOX',\n",
        "                          'RM', 'AGE', 'DIS', 'RAD', 'TAX', 'PTRATIO','B', 'LSTAT'])\n",
        "\n",
        "# 결과 확인\n",
        "print('원본 데이터', x_org.shape, yt.shape)\n",
        "print('항목명: ', feature_names)"
      ],
      "execution_count": 18,
      "outputs": [
        {
          "output_type": "stream",
          "name": "stdout",
          "text": [
            "원본 데이터 (506, 13) (506,)\n",
            "항목명:  ['CRIM' 'ZN' 'INDUS' 'CHAS' 'NOX' 'RM' 'AGE' 'DIS' 'RAD' 'TAX' 'PTRATIO'\n",
            " 'B' 'LSTAT']\n"
          ]
        }
      ]
    },
    {
      "cell_type": "code",
      "metadata": {
        "id": "ro0A3LlSXpCs",
        "colab": {
          "base_uri": "https://localhost:8080/"
        },
        "outputId": "47695861-12a7-44fa-dd4f-147a891b47ea"
      },
      "source": [
        "# 데이터 추출(RM 항목)\n",
        "x = x_org[:,feature_names == 'RM']\n",
        "print('추출 후', x.shape)\n",
        "print(x[:5,:])\n",
        "\n",
        "# 정답 데이터 y 표시\n",
        "print('정답 데이터')\n",
        "print(yt[:5])"
      ],
      "execution_count": 19,
      "outputs": [
        {
          "output_type": "stream",
          "name": "stdout",
          "text": [
            "추출 후 (506, 1)\n",
            "[[6.575]\n",
            " [6.421]\n",
            " [7.185]\n",
            " [6.998]\n",
            " [7.147]]\n",
            "정답 데이터\n",
            "[24.  21.6 34.7 33.4 36.2]\n"
          ]
        }
      ]
    },
    {
      "cell_type": "code",
      "metadata": {
        "id": "DvwFf3Taa-1O",
        "colab": {
          "base_uri": "https://localhost:8080/",
          "height": 578
        },
        "outputId": "76a6f35a-9d37-45b6-b9c0-c28431ce5d86"
      },
      "source": [
        "# 산포도 출력\n",
        "\n",
        "plt.scatter(x, yt, s=10, c='b')\n",
        "plt.xlabel('방 개수')\n",
        "plt.ylabel('가격')\n",
        "plt.title('방 개수와 가격의 산포도')\n",
        "plt.show()"
      ],
      "execution_count": 20,
      "outputs": [
        {
          "output_type": "display_data",
          "data": {
            "text/plain": [
              "<Figure size 600x600 with 1 Axes>"
            ],
            "image/png": "[encoded data removed]"
          },
          "metadata": {}
        }
      ]
    },
    {
      "cell_type": "markdown",
      "metadata": {
        "id": "Pv-YMbfwXpCs"
      },
      "source": [
        "## 5.7 모델 정의"
      ]
    },
    {
      "cell_type": "code",
      "metadata": {
        "id": "UG4aJY0YbHO7",
        "colab": {
          "base_uri": "https://localhost:8080/"
        },
        "outputId": "0d516d4d-82ef-4787-f0c2-3c3259de9528"
      },
      "source": [
        "# 변수 정의\n",
        "\n",
        "# 입력 차원수\n",
        "n_input= x.shape[1]\n",
        "\n",
        "# 출력 차원수\n",
        "n_output = 1\n",
        "\n",
        "print(f'입력 차원수: {n_input}  출력 차원수: {n_output}')"
      ],
      "execution_count": 21,
      "outputs": [
        {
          "output_type": "stream",
          "name": "stdout",
          "text": [
            "입력 차원수: 1  출력 차원수: 1\n"
          ]
        }
      ]
    },
    {
      "cell_type": "code",
      "metadata": {
        "id": "Qa_cV8urbs9s"
      },
      "source": [
        "# 머신러닝 모델(예측 모델)의 클래스 정의\n",
        "\n",
        "class Net(nn.Module):\n",
        "    def __init__(self, n_input, n_output):\n",
        "        #  부모 클래스 nn.Module 초기화\n",
        "        super().__init__()\n",
        "\n",
        "        # 출력층 정의\n",
        "        self.l1 = nn.Linear(n_input, n_output)\n",
        "\n",
        "        # 초깃값을 모두 1로 설정\n",
        "        # \"딥러닝을 위한 수학\"과 조건을 맞추기 위함\n",
        "        nn.init.constant_(self.l1.weight, 1.0)\n",
        "        nn.init.constant_(self.l1.bias, 1.0)\n",
        "\n",
        "    # 예측 함수 정의\n",
        "    def forward(self, x):\n",
        "        x1 = self.l1(x) # 선형 회귀\n",
        "        return x1"
      ],
      "execution_count": 22,
      "outputs": []
    },
    {
      "cell_type": "code",
      "metadata": {
        "id": "wQ4TtPGQkWql"
      },
      "source": [
        "# 인스턴스 생성\n",
        "# １입력 1출력 선형 모델\n",
        "\n",
        "net = Net(n_input, n_output)"
      ],
      "execution_count": 23,
      "outputs": []
    },
    {
      "cell_type": "code",
      "metadata": {
        "id": "bFf1N0HsXpCu",
        "colab": {
          "base_uri": "https://localhost:8080/"
        },
        "outputId": "fa37c8e7-f383-4469-c16c-fa9afaf71b8c"
      },
      "source": [
        "# 모델 안의 파라미터를 확인\n",
        "# 모델 안의 변수를 가져오기 위해 named_parameters 함수를 사용함\n",
        "# 첫번째 요소는 변수명, 두번째 요소가 변숫값\n",
        "#\n",
        "# predict.weight와 predict.bias 파라미터가 존재함\n",
        "# 초깃값은 두 파라미터 모두 1.0\n",
        "\n",
        "for parameter in net.named_parameters():\n",
        "    print(f'변수명: {parameter[0]}')\n",
        "    print(f'변숫값: {parameter[1].data}')"
      ],
      "execution_count": 24,
      "outputs": [
        {
          "output_type": "stream",
          "name": "stdout",
          "text": [
            "변수명: l1.weight\n",
            "변숫값: tensor([[1.]])\n",
            "변수명: l1.bias\n",
            "변숫값: tensor([1.])\n"
          ]
        }
      ]
    },
    {
      "cell_type": "code",
      "metadata": {
        "id": "RjHjfAf7XpCu",
        "colab": {
          "base_uri": "https://localhost:8080/"
        },
        "outputId": "a48aacf1-157d-43a5-e1a5-56861cc9c544"
      },
      "source": [
        "# 파라미터 리스트를 가져오기 위해 parameters 함수를 사용\n",
        "\n",
        "for parameter in net.parameters():\n",
        "    print(parameter)"
      ],
      "execution_count": 25,
      "outputs": [
        {
          "output_type": "stream",
          "name": "stdout",
          "text": [
            "Parameter containing:\n",
            "tensor([[1.]], requires_grad=True)\n",
            "Parameter containing:\n",
            "tensor([1.], requires_grad=True)\n"
          ]
        }
      ]
    },
    {
      "cell_type": "markdown",
      "metadata": {
        "id": "LTqxnIJaXpCv"
      },
      "source": [
        "### 모델 확인"
      ]
    },
    {
      "cell_type": "code",
      "metadata": {
        "id": "_zaPgb2td6vV",
        "colab": {
          "base_uri": "https://localhost:8080/"
        },
        "outputId": "5b3ae980-a6e1-4399-9a19-27e212d02f6e"
      },
      "source": [
        "# 모델의 개요 표시 1\n",
        "\n",
        "print(net)"
      ],
      "execution_count": 26,
      "outputs": [
        {
          "output_type": "stream",
          "name": "stdout",
          "text": [
            "Net(\n",
            "  (l1): Linear(in_features=1, out_features=1, bias=True)\n",
            ")\n"
          ]
        }
      ]
    },
    {
      "cell_type": "code",
      "metadata": {
        "id": "uWXVbu0leJgB",
        "colab": {
          "base_uri": "https://localhost:8080/"
        },
        "outputId": "a9cd652e-62ec-44e2-96d9-de056e213b23"
      },
      "source": [
        "# 모델의 개요 표시 1\n",
        "\n",
        "from torchinfo import summary\n",
        "summary(net, (1,))"
      ],
      "execution_count": 27,
      "outputs": [
        {
          "output_type": "execute_result",
          "data": {
            "text/plain": [
              "==========================================================================================\n",
              "Layer (type:depth-idx)                   Output Shape              Param #\n",
              "==========================================================================================\n",
              "Net                                      [1]                       --\n",
              "├─Linear: 1-1                            [1]                       2\n",
              "==========================================================================================\n",
              "Total params: 2\n",
              "Trainable params: 2\n",
              "Non-trainable params: 0\n",
              "Total mult-adds (M): 0.00\n",
              "==========================================================================================\n",
              "Input size (MB): 0.00\n",
              "Forward/backward pass size (MB): 0.00\n",
              "Params size (MB): 0.00\n",
              "Estimated Total Size (MB): 0.00\n",
              "=========================================================================================="
            ]
          },
          "metadata": {},
          "execution_count": 27
        }
      ]
    },
    {
      "cell_type": "markdown",
      "metadata": {
        "id": "aSx3Ha0cXpCv"
      },
      "source": [
        "### 손실 함수와 최적화 함수"
      ]
    },
    {
      "cell_type": "code",
      "metadata": {
        "id": "_-8Dq5hWfeoB"
      },
      "source": [
        "# 손실 함수： 평균 제곱 오차\n",
        "criterion = nn.MSELoss()\n",
        "\n",
        "# 학습률\n",
        "lr = 0.01\n",
        "\n",
        "# 최적화 함수: 경사 하강법\n",
        "optimizer = optim.SGD(net.parameters(), lr=lr)"
      ],
      "execution_count": 28,
      "outputs": []
    },
    {
      "cell_type": "markdown",
      "metadata": {
        "id": "7FXFabMEXpCw"
      },
      "source": [
        "## 5.8 경사 하강법"
      ]
    },
    {
      "cell_type": "code",
      "metadata": {
        "id": "-hiUPe-uXpCw",
        "colab": {
          "base_uri": "https://localhost:8080/"
        },
        "outputId": "306ee415-63ae-4da9-88b5-188a25c36d01"
      },
      "source": [
        "# 입력값 x와 정답 yt의 텐서 변수화\n",
        "\n",
        "inputs = torch.tensor(x).float()\n",
        "labels = torch.tensor(yt).float()\n",
        "\n",
        "# 차원 수 확인\n",
        "\n",
        "print(inputs.shape)\n",
        "print(labels.shape)"
      ],
      "execution_count": 29,
      "outputs": [
        {
          "output_type": "stream",
          "name": "stdout",
          "text": [
            "torch.Size([506, 1])\n",
            "torch.Size([506])\n"
          ]
        }
      ]
    },
    {
      "cell_type": "code",
      "metadata": {
        "id": "0iRTGvM4XpCw",
        "colab": {
          "base_uri": "https://localhost:8080/"
        },
        "outputId": "85b041b1-31d2-4123-cb38-0ac44a888468"
      },
      "source": [
        "# 손실 계산을 위해 labels를 (N,1) 차원의 행렬로 변환\n",
        "\n",
        "labels1 = labels.view((-1, 1))\n",
        "\n",
        "# 차원 수 확인\n",
        "print(labels1.shape)"
      ],
      "execution_count": 30,
      "outputs": [
        {
          "output_type": "stream",
          "name": "stdout",
          "text": [
            "torch.Size([506, 1])\n"
          ]
        }
      ]
    },
    {
      "cell_type": "code",
      "metadata": {
        "id": "foVlKfQ5XpCw"
      },
      "source": [
        "# 예측 계산\n",
        "\n",
        "outputs = net(inputs)"
      ],
      "execution_count": 31,
      "outputs": []
    },
    {
      "cell_type": "code",
      "metadata": {
        "id": "frF6g1MhXpCx",
        "colab": {
          "base_uri": "https://localhost:8080/"
        },
        "outputId": "00309a76-9212-4684-9ad6-d2549f5c395e"
      },
      "source": [
        "\n",
        "# 손실 계산\n",
        "loss = criterion(outputs, labels1)\n",
        "\n",
        "# 손실 값 가져오기\n",
        "print(f'{loss.item():.5f}')"
      ],
      "execution_count": 32,
      "outputs": [
        {
          "output_type": "stream",
          "name": "stdout",
          "text": [
            "308.44986\n"
          ]
        }
      ]
    },
    {
      "cell_type": "code",
      "metadata": {
        "id": "bHjWn0NfXpCx",
        "colab": {
          "base_uri": "https://localhost:8080/",
          "height": 468
        },
        "outputId": "dd791a9a-fbeb-4450-d54d-9b55f86162dc"
      },
      "source": [
        "# 손실을 그래프로 나타내기\n",
        "\n",
        "g = make_dot(loss, params=dict(net.named_parameters()))\n",
        "display(g)"
      ],
      "execution_count": 33,
      "outputs": [
        {
          "output_type": "display_data",
          "data": {
            "image/svg+xml": "<?xml version=\"1.0\" encoding=\"UTF-8\" standalone=\"no\"?>\n<!DOCTYPE svg PUBLIC \"-//W3C//DTD SVG 1.1//EN\"\n \"http://www.w3.org/Graphics/SVG/1.1/DTD/svg11.dtd\">\n<!-- Generated by graphviz version 2.43.0 (0)\n -->\n<!-- Title: %3 Pages: 1 -->\n<svg width=\"216pt\" height=\"336pt\"\n viewBox=\"0.00 0.00 216.00 336.00\" xmlns=\"http://www.w3.org/2000/svg\" xmlns:xlink=\"http://www.w3.org/1999/xlink\">\n<g id=\"graph0\" class=\"graph\" transform=\"scale(1 1) rotate(0) translate(4 332)\">\n<title>%3</title>\n<polygon fill=\"white\" stroke=\"transparent\" points=\"-4,4 -4,-332 212,-332 212,4 -4,4\"/>\n<!-- 133837116086112 -->\n<g id=\"node1\" class=\"node\">\n<title>133837116086112</title>\n<polygon fill=\"#caff70\" stroke=\"black\" points=\"130.5,-31 76.5,-31 76.5,0 130.5,0 130.5,-31\"/>\n<text text-anchor=\"middle\" x=\"103.5\" y=\"-7\" font-family=\"monospace\" font-size=\"10.00\"> ()</text>\n</g>\n<!-- 133837152076512 -->\n<g id=\"node2\" class=\"node\">\n<title>133837152076512</title>\n<polygon fill=\"lightgrey\" stroke=\"black\" points=\"160,-86 47,-86 47,-67 160,-67 160,-86\"/>\n<text text-anchor=\"middle\" x=\"103.5\" y=\"-74\" font-family=\"monospace\" font-size=\"10.00\">MseLossBackward0</text>\n</g>\n<!-- 133837152076512&#45;&gt;133837116086112 -->\n<g id=\"edge7\" class=\"edge\">\n<title>133837152076512&#45;&gt;133837116086112</title>\n<path fill=\"none\" stroke=\"black\" d=\"M103.5,-66.79C103.5,-60.07 103.5,-50.4 103.5,-41.34\"/>\n<polygon fill=\"black\" stroke=\"black\" points=\"107,-41.19 103.5,-31.19 100,-41.19 107,-41.19\"/>\n</g>\n<!-- 133837152076176 -->\n<g id=\"node3\" class=\"node\">\n<title>133837152076176</title>\n<polygon fill=\"lightgrey\" stroke=\"black\" points=\"154,-141 53,-141 53,-122 154,-122 154,-141\"/>\n<text text-anchor=\"middle\" x=\"103.5\" y=\"-129\" font-family=\"monospace\" font-size=\"10.00\">AddmmBackward0</text>\n</g>\n<!-- 133837152076176&#45;&gt;133837152076512 -->\n<g id=\"edge1\" class=\"edge\">\n<title>133837152076176&#45;&gt;133837152076512</title>\n<path fill=\"none\" stroke=\"black\" d=\"M103.5,-121.75C103.5,-114.8 103.5,-104.85 103.5,-96.13\"/>\n<polygon fill=\"black\" stroke=\"black\" points=\"107,-96.09 103.5,-86.09 100,-96.09 107,-96.09\"/>\n</g>\n<!-- 133837152083712 -->\n<g id=\"node4\" class=\"node\">\n<title>133837152083712</title>\n<polygon fill=\"lightgrey\" stroke=\"black\" points=\"101,-196 0,-196 0,-177 101,-177 101,-196\"/>\n<text text-anchor=\"middle\" x=\"50.5\" y=\"-184\" font-family=\"monospace\" font-size=\"10.00\">AccumulateGrad</text>\n</g>\n<!-- 133837152083712&#45;&gt;133837152076176 -->\n<g id=\"edge2\" class=\"edge\">\n<title>133837152083712&#45;&gt;133837152076176</title>\n<path fill=\"none\" stroke=\"black\" d=\"M59.25,-176.75C66.97,-169.03 78.4,-157.6 87.72,-148.28\"/>\n<polygon fill=\"black\" stroke=\"black\" points=\"90.31,-150.64 94.91,-141.09 85.36,-145.69 90.31,-150.64\"/>\n</g>\n<!-- 133837150702944 -->\n<g id=\"node5\" class=\"node\">\n<title>133837150702944</title>\n<polygon fill=\"lightblue\" stroke=\"black\" points=\"80,-262 21,-262 21,-232 80,-232 80,-262\"/>\n<text text-anchor=\"middle\" x=\"50.5\" y=\"-250\" font-family=\"monospace\" font-size=\"10.00\">l1.bias</text>\n<text text-anchor=\"middle\" x=\"50.5\" y=\"-239\" font-family=\"monospace\" font-size=\"10.00\"> (1)</text>\n</g>\n<!-- 133837150702944&#45;&gt;133837152083712 -->\n<g id=\"edge3\" class=\"edge\">\n<title>133837150702944&#45;&gt;133837152083712</title>\n<path fill=\"none\" stroke=\"black\" d=\"M50.5,-231.84C50.5,-224.21 50.5,-214.7 50.5,-206.45\"/>\n<polygon fill=\"black\" stroke=\"black\" points=\"54,-206.27 50.5,-196.27 47,-206.27 54,-206.27\"/>\n</g>\n<!-- 133837152078864 -->\n<g id=\"node6\" class=\"node\">\n<title>133837152078864</title>\n<polygon fill=\"lightgrey\" stroke=\"black\" points=\"196,-196 119,-196 119,-177 196,-177 196,-196\"/>\n<text text-anchor=\"middle\" x=\"157.5\" y=\"-184\" font-family=\"monospace\" font-size=\"10.00\">TBackward0</text>\n</g>\n<!-- 133837152078864&#45;&gt;133837152076176 -->\n<g id=\"edge4\" class=\"edge\">\n<title>133837152078864&#45;&gt;133837152076176</title>\n<path fill=\"none\" stroke=\"black\" d=\"M148.58,-176.75C140.72,-169.03 129.07,-157.6 119.58,-148.28\"/>\n<polygon fill=\"black\" stroke=\"black\" points=\"121.84,-145.6 112.25,-141.09 116.94,-150.59 121.84,-145.6\"/>\n</g>\n<!-- 133837152081840 -->\n<g id=\"node7\" class=\"node\">\n<title>133837152081840</title>\n<polygon fill=\"lightgrey\" stroke=\"black\" points=\"208,-256.5 107,-256.5 107,-237.5 208,-237.5 208,-256.5\"/>\n<text text-anchor=\"middle\" x=\"157.5\" y=\"-244.5\" font-family=\"monospace\" font-size=\"10.00\">AccumulateGrad</text>\n</g>\n<!-- 133837152081840&#45;&gt;133837152078864 -->\n<g id=\"edge5\" class=\"edge\">\n<title>133837152081840&#45;&gt;133837152078864</title>\n<path fill=\"none\" stroke=\"black\" d=\"M157.5,-237.37C157.5,-229.25 157.5,-216.81 157.5,-206.39\"/>\n<polygon fill=\"black\" stroke=\"black\" points=\"161,-206.17 157.5,-196.17 154,-206.17 161,-206.17\"/>\n</g>\n<!-- 133837152106144 -->\n<g id=\"node8\" class=\"node\">\n<title>133837152106144</title>\n<polygon fill=\"lightblue\" stroke=\"black\" points=\"193,-328 122,-328 122,-298 193,-298 193,-328\"/>\n<text text-anchor=\"middle\" x=\"157.5\" y=\"-316\" font-family=\"monospace\" font-size=\"10.00\">l1.weight</text>\n<text text-anchor=\"middle\" x=\"157.5\" y=\"-305\" font-family=\"monospace\" font-size=\"10.00\"> (1, 1)</text>\n</g>\n<!-- 133837152106144&#45;&gt;133837152081840 -->\n<g id=\"edge6\" class=\"edge\">\n<title>133837152106144&#45;&gt;133837152081840</title>\n<path fill=\"none\" stroke=\"black\" d=\"M157.5,-297.8C157.5,-288.7 157.5,-276.79 157.5,-266.9\"/>\n<polygon fill=\"black\" stroke=\"black\" points=\"161,-266.84 157.5,-256.84 154,-266.84 161,-266.84\"/>\n</g>\n</g>\n</svg>\n",
            "text/plain": [
              "<graphviz.graphs.Digraph at 0x79b963e84280>"
            ]
          },
          "metadata": {}
        }
      ]
    },
    {
      "cell_type": "code",
      "metadata": {
        "id": "j6IUY2obXpCx",
        "colab": {
          "base_uri": "https://localhost:8080/"
        },
        "outputId": "2400069b-0287-476e-c8e4-353f1110d53e"
      },
      "source": [
        "# 예측 계산\n",
        "outputs = net(inputs)\n",
        "\n",
        "# 손실 계산\n",
        "loss = criterion(outputs, labels1)\n",
        "\n",
        "# 경사 계산\n",
        "loss.backward()\n",
        "\n",
        "# 경사 계산 결과를 취득 가능하도록 함\n",
        "print(net.l1.weight.grad)\n",
        "print(net.l1.bias.grad)"
      ],
      "execution_count": 34,
      "outputs": [
        {
          "output_type": "stream",
          "name": "stdout",
          "text": [
            "tensor([[-199.6421]])\n",
            "tensor([-30.4963])\n"
          ]
        }
      ]
    },
    {
      "cell_type": "code",
      "metadata": {
        "id": "SMwYMMXAXpCy",
        "colab": {
          "base_uri": "https://localhost:8080/"
        },
        "outputId": "d216128c-95b7-4856-d8e8-26ecebe33add"
      },
      "source": [
        "# 파라미터 수정\n",
        "optimizer.step()\n",
        "\n",
        "# 파라미터 확인\n",
        "print(net.l1.weight)\n",
        "print(net.l1.bias)"
      ],
      "execution_count": 35,
      "outputs": [
        {
          "output_type": "stream",
          "name": "stdout",
          "text": [
            "Parameter containing:\n",
            "tensor([[2.9964]], requires_grad=True)\n",
            "Parameter containing:\n",
            "tensor([1.3050], requires_grad=True)\n"
          ]
        }
      ]
    },
    {
      "cell_type": "code",
      "metadata": {
        "id": "4SMBbG19XpCy",
        "colab": {
          "base_uri": "https://localhost:8080/"
        },
        "outputId": "d7aed41a-f867-4e39-dcb9-c0c40d87257d"
      },
      "source": [
        "# 경삿값 초기화\n",
        "optimizer.zero_grad()\n",
        "\n",
        "# 경삿값을 모두 0으로 함\n",
        "print(net.l1.weight.grad)\n",
        "print(net.l1.bias.grad)"
      ],
      "execution_count": 36,
      "outputs": [
        {
          "output_type": "stream",
          "name": "stdout",
          "text": [
            "None\n",
            "None\n"
          ]
        }
      ]
    },
    {
      "cell_type": "markdown",
      "metadata": {
        "id": "qGe0W7syXpCy"
      },
      "source": [
        "### 반복 계산"
      ]
    },
    {
      "cell_type": "code",
      "metadata": {
        "id": "s6sIrMqiXpCy"
      },
      "source": [
        "# 학습률\n",
        "lr = 0.01\n",
        "\n",
        "# 인스턴스 생성(파라미터 값 초기화)\n",
        "net = Net(n_input, n_output)\n",
        "\n",
        "# 손실 함수：평균 제곱 오차\n",
        "criterion = nn.MSELoss()\n",
        "\n",
        "# 최적화 함수 : 경사 하강법\n",
        "optimizer = optim.SGD(net.parameters(), lr=lr)\n",
        "\n",
        "# 반복 횟수\n",
        "num_epochs = 50000\n",
        "\n",
        "# 평가 결과 기록(손실 값만 기록)\n",
        "history = np.zeros((0,2))"
      ],
      "execution_count": 37,
      "outputs": []
    },
    {
      "cell_type": "code",
      "metadata": {
        "id": "7Db7l67DeT9-",
        "scrolled": false,
        "colab": {
          "base_uri": "https://localhost:8080/"
        },
        "outputId": "a7329242-3e5e-4126-e4d9-f346b4a985c4"
      },
      "source": [
        "# 반복 계산 메인 루프\n",
        "\n",
        "for epoch in range(num_epochs):\n",
        "\n",
        "    # 경삿값 초기화\n",
        "    optimizer.zero_grad()\n",
        "\n",
        "    # 예측 계산\n",
        "    outputs = net(inputs)\n",
        "\n",
        "    # 손실 계산\n",
        "    # \"딥러닝을 위한 수학\"에 나온 결과와 맞추기 위해 2로 나눈 값을 손실로 정의\n",
        "    loss = criterion(outputs, labels1) / 2.0\n",
        "\n",
        "    # 경사 계산\n",
        "    loss.backward()\n",
        "\n",
        "    # 파라미터 수정\n",
        "    optimizer.step()\n",
        "\n",
        "    # 100회 마다 도중 경과를 기록\n",
        "    if ( epoch % 100 == 0):\n",
        "        history = np.vstack((history, np.array([epoch, loss.item()])))\n",
        "        print(f'Epoch {epoch} loss: {loss.item():.5f}')"
      ],
      "execution_count": null,
      "outputs": [
        {
          "output_type": "stream",
          "name": "stdout",
          "text": [
            "Epoch 0 loss: 154.22493\n",
            "Epoch 100 loss: 29.61752\n",
            "Epoch 200 loss: 29.43177\n",
            "Epoch 300 loss: 29.25043\n",
            "Epoch 400 loss: 29.07340\n",
            "Epoch 500 loss: 28.90057\n",
            "Epoch 600 loss: 28.73186\n",
            "Epoch 700 loss: 28.56715\n",
            "Epoch 800 loss: 28.40636\n",
            "Epoch 900 loss: 28.24939\n",
            "Epoch 1000 loss: 28.09615\n",
            "Epoch 1100 loss: 27.94655\n",
            "Epoch 1200 loss: 27.80050\n",
            "Epoch 1300 loss: 27.65792\n",
            "Epoch 1400 loss: 27.51873\n",
            "Epoch 1500 loss: 27.38285\n",
            "Epoch 1600 loss: 27.25020\n",
            "Epoch 1700 loss: 27.12070\n",
            "Epoch 1800 loss: 26.99428\n",
            "Epoch 1900 loss: 26.87086\n",
            "Epoch 2000 loss: 26.75037\n",
            "Epoch 2100 loss: 26.63275\n",
            "Epoch 2200 loss: 26.51792\n",
            "Epoch 2300 loss: 26.40582\n",
            "Epoch 2400 loss: 26.29639\n",
            "Epoch 2500 loss: 26.18955\n",
            "Epoch 2600 loss: 26.08525\n",
            "Epoch 2700 loss: 25.98343\n",
            "Epoch 2800 loss: 25.88404\n",
            "Epoch 2900 loss: 25.78700\n",
            "Epoch 3000 loss: 25.69226\n",
            "Epoch 3100 loss: 25.59978\n",
            "Epoch 3200 loss: 25.50950\n",
            "Epoch 3300 loss: 25.42136\n",
            "Epoch 3400 loss: 25.33532\n",
            "Epoch 3500 loss: 25.25132\n",
            "Epoch 3600 loss: 25.16932\n",
            "Epoch 3700 loss: 25.08927\n",
            "Epoch 3800 loss: 25.01111\n",
            "Epoch 3900 loss: 24.93482\n",
            "Epoch 4000 loss: 24.86034\n",
            "Epoch 4100 loss: 24.78762\n",
            "Epoch 4200 loss: 24.71664\n",
            "Epoch 4300 loss: 24.64734\n",
            "Epoch 4400 loss: 24.57969\n",
            "Epoch 4500 loss: 24.51365\n",
            "Epoch 4600 loss: 24.44917\n",
            "Epoch 4700 loss: 24.38623\n",
            "Epoch 4800 loss: 24.32478\n",
            "Epoch 4900 loss: 24.26480\n",
            "Epoch 5000 loss: 24.20624\n",
            "Epoch 5100 loss: 24.14907\n",
            "Epoch 5200 loss: 24.09326\n",
            "Epoch 5300 loss: 24.03877\n",
            "Epoch 5400 loss: 23.98558\n",
            "Epoch 5500 loss: 23.93365\n",
            "Epoch 5600 loss: 23.88296\n",
            "Epoch 5700 loss: 23.83347\n",
            "Epoch 5800 loss: 23.78516\n",
            "Epoch 5900 loss: 23.73800\n",
            "Epoch 6000 loss: 23.69196\n",
            "Epoch 6100 loss: 23.64701\n",
            "Epoch 6200 loss: 23.60312\n",
            "Epoch 6300 loss: 23.56029\n",
            "Epoch 6400 loss: 23.51847\n",
            "Epoch 6500 loss: 23.47764\n",
            "Epoch 6600 loss: 23.43778\n",
            "Epoch 6700 loss: 23.39887\n",
            "Epoch 6800 loss: 23.36088\n",
            "Epoch 6900 loss: 23.32380\n",
            "Epoch 7000 loss: 23.28760\n",
            "Epoch 7100 loss: 23.25226\n",
            "Epoch 7200 loss: 23.21776\n",
            "Epoch 7300 loss: 23.18408\n",
            "Epoch 7400 loss: 23.15120\n",
            "Epoch 7500 loss: 23.11910\n",
            "Epoch 7600 loss: 23.08776\n",
            "Epoch 7700 loss: 23.05717\n",
            "Epoch 7800 loss: 23.02730\n",
            "Epoch 7900 loss: 22.99814\n",
            "Epoch 8000 loss: 22.96968\n",
            "Epoch 8100 loss: 22.94190\n",
            "Epoch 8200 loss: 22.91477\n",
            "Epoch 8300 loss: 22.88828\n",
            "Epoch 8400 loss: 22.86243\n",
            "Epoch 8500 loss: 22.83719\n",
            "Epoch 8600 loss: 22.81255\n",
            "Epoch 8700 loss: 22.78850\n",
            "Epoch 8800 loss: 22.76502\n",
            "Epoch 8900 loss: 22.74209\n",
            "Epoch 9000 loss: 22.71972\n",
            "Epoch 9100 loss: 22.69787\n",
            "Epoch 9200 loss: 22.67654\n",
            "Epoch 9300 loss: 22.65572\n",
            "Epoch 9400 loss: 22.63539\n",
            "Epoch 9500 loss: 22.61555\n",
            "Epoch 9600 loss: 22.59618\n",
            "Epoch 9700 loss: 22.57727\n",
            "Epoch 9800 loss: 22.55880\n",
            "Epoch 9900 loss: 22.54078\n",
            "Epoch 10000 loss: 22.52318\n",
            "Epoch 10100 loss: 22.50601\n",
            "Epoch 10200 loss: 22.48924\n",
            "Epoch 10300 loss: 22.47287\n",
            "Epoch 10400 loss: 22.45688\n",
            "Epoch 10500 loss: 22.44128\n",
            "Epoch 10600 loss: 22.42605\n",
            "Epoch 10700 loss: 22.41118\n",
            "Epoch 10800 loss: 22.39667\n",
            "Epoch 10900 loss: 22.38249\n",
            "Epoch 11000 loss: 22.36866\n",
            "Epoch 11100 loss: 22.35515\n",
            "Epoch 11200 loss: 22.34197\n",
            "Epoch 11300 loss: 22.32910\n",
            "Epoch 11400 loss: 22.31653\n",
            "Epoch 11500 loss: 22.30426\n",
            "Epoch 11600 loss: 22.29229\n",
            "Epoch 11700 loss: 22.28060\n",
            "Epoch 11800 loss: 22.26919\n",
            "Epoch 11900 loss: 22.25804\n",
            "Epoch 12000 loss: 22.24717\n",
            "Epoch 12100 loss: 22.23655\n",
            "Epoch 12200 loss: 22.22618\n",
            "Epoch 12300 loss: 22.21606\n",
            "Epoch 12400 loss: 22.20618\n",
            "Epoch 12500 loss: 22.19654\n",
            "Epoch 12600 loss: 22.18712\n",
            "Epoch 12700 loss: 22.17793\n",
            "Epoch 12800 loss: 22.16896\n",
            "Epoch 12900 loss: 22.16020\n",
            "Epoch 13000 loss: 22.15165\n",
            "Epoch 13100 loss: 22.14330\n",
            "Epoch 13200 loss: 22.13514\n",
            "Epoch 13300 loss: 22.12719\n",
            "Epoch 13400 loss: 22.11942\n",
            "Epoch 13500 loss: 22.11184\n",
            "Epoch 13600 loss: 22.10443\n",
            "Epoch 13700 loss: 22.09720\n",
            "Epoch 13800 loss: 22.09015\n",
            "Epoch 13900 loss: 22.08326\n",
            "Epoch 14000 loss: 22.07654\n",
            "Epoch 14100 loss: 22.06997\n",
            "Epoch 14200 loss: 22.06357\n",
            "Epoch 14300 loss: 22.05731\n",
            "Epoch 14400 loss: 22.05120\n",
            "Epoch 14500 loss: 22.04524\n",
            "Epoch 14600 loss: 22.03942\n",
            "Epoch 14700 loss: 22.03374\n",
            "Epoch 14800 loss: 22.02819\n",
            "Epoch 14900 loss: 22.02277\n",
            "Epoch 15000 loss: 22.01749\n",
            "Epoch 15100 loss: 22.01233\n",
            "Epoch 15200 loss: 22.00729\n",
            "Epoch 15300 loss: 22.00237\n",
            "Epoch 15400 loss: 21.99757\n",
            "Epoch 15500 loss: 21.99288\n",
            "Epoch 15600 loss: 21.98830\n",
            "Epoch 15700 loss: 21.98384\n",
            "Epoch 15800 loss: 21.97948\n",
            "Epoch 15900 loss: 21.97521\n",
            "Epoch 16000 loss: 21.97106\n",
            "Epoch 16100 loss: 21.96700\n",
            "Epoch 16200 loss: 21.96304\n",
            "Epoch 16300 loss: 21.95917\n",
            "Epoch 16400 loss: 21.95539\n",
            "Epoch 16500 loss: 21.95171\n",
            "Epoch 16600 loss: 21.94811\n",
            "Epoch 16700 loss: 21.94460\n",
            "Epoch 16800 loss: 21.94117\n",
            "Epoch 16900 loss: 21.93782\n",
            "Epoch 17000 loss: 21.93456\n",
            "Epoch 17100 loss: 21.93136\n",
            "Epoch 17200 loss: 21.92825\n",
            "Epoch 17300 loss: 21.92521\n",
            "Epoch 17400 loss: 21.92224\n",
            "Epoch 17500 loss: 21.91934\n",
            "Epoch 17600 loss: 21.91651\n",
            "Epoch 17700 loss: 21.91375\n",
            "Epoch 17800 loss: 21.91106\n",
            "Epoch 17900 loss: 21.90842\n",
            "Epoch 18000 loss: 21.90585\n",
            "Epoch 18100 loss: 21.90334\n",
            "Epoch 18200 loss: 21.90090\n",
            "Epoch 18300 loss: 21.89850\n",
            "Epoch 18400 loss: 21.89617\n",
            "Epoch 18500 loss: 21.89389\n",
            "Epoch 18600 loss: 21.89167\n",
            "Epoch 18700 loss: 21.88950\n",
            "Epoch 18800 loss: 21.88738\n",
            "Epoch 18900 loss: 21.88531\n",
            "Epoch 19000 loss: 21.88329\n",
            "Epoch 19100 loss: 21.88132\n",
            "Epoch 19200 loss: 21.87939\n",
            "Epoch 19300 loss: 21.87751\n",
            "Epoch 19400 loss: 21.87567\n",
            "Epoch 19500 loss: 21.87388\n",
            "Epoch 19600 loss: 21.87213\n",
            "Epoch 19700 loss: 21.87043\n",
            "Epoch 19800 loss: 21.86876\n",
            "Epoch 19900 loss: 21.86713\n",
            "Epoch 20000 loss: 21.86554\n",
            "Epoch 20100 loss: 21.86399\n",
            "Epoch 20200 loss: 21.86248\n",
            "Epoch 20300 loss: 21.86100\n",
            "Epoch 20400 loss: 21.85956\n",
            "Epoch 20500 loss: 21.85815\n",
            "Epoch 20600 loss: 21.85677\n",
            "Epoch 20700 loss: 21.85543\n",
            "Epoch 20800 loss: 21.85412\n",
            "Epoch 20900 loss: 21.85284\n",
            "Epoch 21000 loss: 21.85159\n",
            "Epoch 21100 loss: 21.85038\n",
            "Epoch 21200 loss: 21.84918\n",
            "Epoch 21300 loss: 21.84802\n",
            "Epoch 21400 loss: 21.84689\n",
            "Epoch 21500 loss: 21.84578\n",
            "Epoch 21600 loss: 21.84470\n",
            "Epoch 21700 loss: 21.84364\n",
            "Epoch 21800 loss: 21.84261\n",
            "Epoch 21900 loss: 21.84160\n",
            "Epoch 22000 loss: 21.84063\n",
            "Epoch 22100 loss: 21.83967\n",
            "Epoch 22200 loss: 21.83873\n",
            "Epoch 22300 loss: 21.83782\n",
            "Epoch 22400 loss: 21.83693\n",
            "Epoch 22500 loss: 21.83605\n",
            "Epoch 22600 loss: 21.83520\n",
            "Epoch 22700 loss: 21.83437\n",
            "Epoch 22800 loss: 21.83356\n",
            "Epoch 22900 loss: 21.83278\n",
            "Epoch 23000 loss: 21.83200\n",
            "Epoch 23100 loss: 21.83125\n",
            "Epoch 23200 loss: 21.83051\n",
            "Epoch 23300 loss: 21.82980\n",
            "Epoch 23400 loss: 21.82909\n",
            "Epoch 23500 loss: 21.82841\n",
            "Epoch 23600 loss: 21.82774\n",
            "Epoch 23700 loss: 21.82709\n",
            "Epoch 23800 loss: 21.82645\n",
            "Epoch 23900 loss: 21.82583\n",
            "Epoch 24000 loss: 21.82522\n",
            "Epoch 24100 loss: 21.82463\n",
            "Epoch 24200 loss: 21.82405\n",
            "Epoch 24300 loss: 21.82348\n",
            "Epoch 24400 loss: 21.82293\n",
            "Epoch 24500 loss: 21.82239\n",
            "Epoch 24600 loss: 21.82187\n",
            "Epoch 24700 loss: 21.82136\n",
            "Epoch 24800 loss: 21.82085\n",
            "Epoch 24900 loss: 21.82037\n",
            "Epoch 25000 loss: 21.81989\n",
            "Epoch 25100 loss: 21.81942\n",
            "Epoch 25200 loss: 21.81897\n",
            "Epoch 25300 loss: 21.81853\n",
            "Epoch 25400 loss: 21.81809\n",
            "Epoch 25500 loss: 21.81767\n",
            "Epoch 25600 loss: 21.81726\n",
            "Epoch 25700 loss: 21.81685\n",
            "Epoch 25800 loss: 21.81646\n",
            "Epoch 25900 loss: 21.81607\n",
            "Epoch 26000 loss: 21.81570\n",
            "Epoch 26100 loss: 21.81533\n",
            "Epoch 26200 loss: 21.81497\n",
            "Epoch 26300 loss: 21.81462\n",
            "Epoch 26400 loss: 21.81428\n",
            "Epoch 26500 loss: 21.81395\n",
            "Epoch 26600 loss: 21.81363\n",
            "Epoch 26700 loss: 21.81331\n",
            "Epoch 26800 loss: 21.81300\n",
            "Epoch 26900 loss: 21.81269\n",
            "Epoch 27000 loss: 21.81240\n",
            "Epoch 27100 loss: 21.81211\n",
            "Epoch 27200 loss: 21.81183\n",
            "Epoch 27300 loss: 21.81156\n",
            "Epoch 27400 loss: 21.81129\n",
            "Epoch 27500 loss: 21.81103\n",
            "Epoch 27600 loss: 21.81077\n",
            "Epoch 27700 loss: 21.81052\n",
            "Epoch 27800 loss: 21.81028\n",
            "Epoch 27900 loss: 21.81004\n",
            "Epoch 28000 loss: 21.80981\n",
            "Epoch 28100 loss: 21.80959\n",
            "Epoch 28200 loss: 21.80936\n",
            "Epoch 28300 loss: 21.80915\n",
            "Epoch 28400 loss: 21.80894\n",
            "Epoch 28500 loss: 21.80873\n",
            "Epoch 28600 loss: 21.80853\n",
            "Epoch 28700 loss: 21.80833\n",
            "Epoch 28800 loss: 21.80814\n",
            "Epoch 28900 loss: 21.80795\n",
            "Epoch 29000 loss: 21.80777\n",
            "Epoch 29100 loss: 21.80759\n",
            "Epoch 29200 loss: 21.80742\n",
            "Epoch 29300 loss: 21.80725\n",
            "Epoch 29400 loss: 21.80709\n",
            "Epoch 29500 loss: 21.80693\n",
            "Epoch 29600 loss: 21.80676\n",
            "Epoch 29700 loss: 21.80661\n",
            "Epoch 29800 loss: 21.80646\n",
            "Epoch 29900 loss: 21.80631\n",
            "Epoch 30000 loss: 21.80617\n",
            "Epoch 30100 loss: 21.80603\n",
            "Epoch 30200 loss: 21.80589\n",
            "Epoch 30300 loss: 21.80576\n",
            "Epoch 30400 loss: 21.80563\n",
            "Epoch 30500 loss: 21.80551\n",
            "Epoch 30600 loss: 21.80538\n",
            "Epoch 30700 loss: 21.80526\n",
            "Epoch 30800 loss: 21.80514\n",
            "Epoch 30900 loss: 21.80503\n",
            "Epoch 31000 loss: 21.80491\n",
            "Epoch 31100 loss: 21.80480\n",
            "Epoch 31200 loss: 21.80469\n",
            "Epoch 31300 loss: 21.80459\n",
            "Epoch 31400 loss: 21.80449\n",
            "Epoch 31500 loss: 21.80439\n",
            "Epoch 31600 loss: 21.80429\n",
            "Epoch 31700 loss: 21.80419\n",
            "Epoch 31800 loss: 21.80410\n",
            "Epoch 31900 loss: 21.80401\n",
            "Epoch 32000 loss: 21.80392\n",
            "Epoch 32100 loss: 21.80384\n",
            "Epoch 32200 loss: 21.80375\n",
            "Epoch 32300 loss: 21.80367\n",
            "Epoch 32400 loss: 21.80359\n",
            "Epoch 32500 loss: 21.80351\n",
            "Epoch 32600 loss: 21.80343\n",
            "Epoch 32700 loss: 21.80336\n",
            "Epoch 32800 loss: 21.80328\n",
            "Epoch 32900 loss: 21.80321\n",
            "Epoch 33000 loss: 21.80314\n"
          ]
        }
      ]
    },
    {
      "cell_type": "markdown",
      "metadata": {
        "id": "UNDxax-lXpC2"
      },
      "source": [
        "## 5.9 결과 확인"
      ]
    },
    {
      "cell_type": "code",
      "metadata": {
        "id": "kWRH7ExmjB8B"
      },
      "source": [
        "# 초기 손실값과 최종 손실값\n",
        "\n",
        "print(f'초기 손실값: {history[0,1]:.5f}')\n",
        "print(f'최종 손실값: {history[-1,1]:.5f}')"
      ],
      "execution_count": null,
      "outputs": []
    },
    {
      "cell_type": "code",
      "metadata": {
        "id": "LUh7GLCSfQNJ"
      },
      "source": [
        "# 학습 곡선 출력(손실)\n",
        "# 가장 처음 요소는 제외\n",
        "\n",
        "plt.plot(history[1:,0], history[1:,1], 'b')\n",
        "plt.xlabel('반복 횟수')\n",
        "plt.ylabel('손실')\n",
        "plt.title('학습 곡선(손실)')\n",
        "plt.show()"
      ],
      "execution_count": null,
      "outputs": []
    },
    {
      "cell_type": "code",
      "metadata": {
        "id": "SboqNthnmTKf"
      },
      "source": [
        "# 회귀 직선 산출\n",
        "\n",
        "# x의 최솟값, 최댓값\n",
        "xse = np.array((x.min(), x.max())).reshape(-1,1)\n",
        "Xse = torch.tensor(xse).float()\n",
        "\n",
        "with torch.no_grad():\n",
        "  Yse = net(Xse)\n",
        "\n",
        "print(Yse.numpy())"
      ],
      "execution_count": null,
      "outputs": []
    },
    {
      "cell_type": "code",
      "metadata": {
        "id": "JNynfK4pngwe"
      },
      "source": [
        "# 산포도와 회귀 직선 출력\n",
        "\n",
        "plt.scatter(x, yt, s=10, c='b')\n",
        "plt.xlabel('방 개수')\n",
        "plt.ylabel('가격')\n",
        "plt.plot(Xse.data, Yse.data, c='k')\n",
        "plt.title('산포도와 회귀 직선')\n",
        "plt.show()"
      ],
      "execution_count": null,
      "outputs": []
    },
    {
      "cell_type": "markdown",
      "metadata": {
        "id": "qwGTzOJbr8Hs"
      },
      "source": [
        "## 5.10 중회귀 모델로 확장"
      ]
    },
    {
      "cell_type": "code",
      "metadata": {
        "id": "8gAZgC1GpjEV"
      },
      "source": [
        "x_add = x_org[:,feature_names == 'LSTAT']     #독립변수가 2개 이상이라는 점을 제외하면 다중회귀의 기본적인 개념과\n",
        "x2 = np.hstack((x, x_add))                    #분석방법은 앞의 단순회귀모델과 동일하다\n",
        "\n",
        "# shape 표시                                  #입력변수가 'RM'한가지 항목에서 새로운 열을 추가하여 2입력을 정의함\n",
        "print(x2.shape)\n",
        "\n",
        "# 입력 데이터 x 표시                          #입력데이터가의 차원수가 2가 되는 것을 확인할 수 있다\n",
        "print(x2[:5,:])"
      ],
      "execution_count": null,
      "outputs": []
    },
    {
      "cell_type": "code",
      "metadata": {
        "id": "z99b-YPvsM5_"
      },
      "source": [
        "                                             # 앞과 동일한 방식으로 입력차원수를 2로하는 인스천스를 생성해줌\n",
        "n_input = x2.shape[1]\n",
        "print(n_input)\n",
        "\n",
        "# 모델 인스턴스 생성\n",
        "net = Net(n_input, n_output)"
      ],
      "execution_count": null,
      "outputs": []
    },
    {
      "cell_type": "code",
      "metadata": {
        "id": "tvTwYb-gXpC5"
      },
      "source": [
        "                                            # named_parameters함수를 호출하여 net안의 파라미터가 어떻게 바뀌었는지 확인\n",
        "                                            # 가중치 요소 수가 2개로 바뀜\n",
        "\n",
        "for parameter in net.named_parameters():\n",
        "    print(f'변수명: {parameter[0]}')\n",
        "    print(f'변숫값: {parameter[1].data}')"
      ],
      "execution_count": null,
      "outputs": []
    },
    {
      "cell_type": "code",
      "metadata": {
        "id": "5iBFb2A9s2K1"
      },
      "source": [
        "print(net)                                    #개요를 표시하는 방법 중 하나\n",
        "                                              #결과 확인 시 입력이 2로 늘어난것을 확인할 수 있음"
      ],
      "execution_count": null,
      "outputs": []
    },
    {
      "cell_type": "code",
      "metadata": {
        "id": "jwdT12mss60n"
      },
      "source": [
        "                                             #개요를 표시하는 방법 중 하나\n",
        "from torchinfo import summary\n",
        "summary(net, (2,))"
      ],
      "execution_count": null,
      "outputs": []
    },
    {
      "cell_type": "code",
      "metadata": {
        "id": "U3xw_jxTXpC5"
      },
      "source": [
        "inputs = torch.tensor(x2).float()            # 입력변수인 x2를 텐서로 변환해서 새로운 input으로 다시 정의"
      ],
      "execution_count": null,
      "outputs": []
    },
    {
      "cell_type": "code",
      "source": [
        "if (epoch % 100==0):                        #100회마다 기록함(HISTORY) f'스트링으로 결과확인해보면 (print안됨)\n",
        "  history = np.vstack((history,np.array([epoch,loss.item()])))\n",
        "  print(f'Epoch{epoch}loss:{loss.item():.5f}')   #책에서 결과를 확인해보면 손실값이 발산하고 있어 반복계산이 제대로 이뤄지지 않음"
      ],
      "metadata": {
        "id": "8_nQMWq1c-8l"
      },
      "execution_count": null,
      "outputs": []
    },
    {
      "cell_type": "markdown",
      "metadata": {
        "id": "_SvyW5S2XpC6"
      },
      "source": [
        "## 5.11 학습률의 변경"
      ]
    },
    {
      "cell_type": "code",
      "metadata": {
        "id": "wt92VISFtaLj"
      },
      "source": [
        "# 반복 횟수\n",
        "num_epochs = 2000\n",
        "\n",
        "# 학습률                          # 초기설정값만 바꿔서 앞과 동일한 프로그램 실행\n",
        "lr = 0.001                        # 바로 위 오류에서 학습률이 0.0로 학습률이 너무커서 오류\n",
        "                                  # 학습률을 0.01 -->0.001\n",
        "\n",
        "# 모델 인스턴스 생성\n",
        "net = Net(n_input, n_output)\n",
        "\n",
        "# 손실 함수：평균 제곱 오차\n",
        "criterion = nn.MSELoss()\n",
        "\n",
        "# 최적화 함수 : 경사 하강법\n",
        "optimizer = optim.SGD(net.parameters(), lr=lr)\n",
        "\n",
        "#솔실함수\n",
        "criterion = nn.MSELoss()"
      ],
      "execution_count": null,
      "outputs": []
    },
    {
      "cell_type": "code",
      "metadata": {
        "id": "Y4UHX9Ast8Je"
      },
      "source": [
        "# 초기 손실값, 최종 손실값\n",
        "\n",
        "print(f'초기 손실값: {history[0,1]:.5f}')\n",
        "print(f'최종 손실값: {history[-1,1]:.5f}')"
      ],
      "execution_count": null,
      "outputs": []
    },
    {
      "cell_type": "code",
      "metadata": {
        "id": "hYPtlO6wuCoy",
        "scrolled": false
      },
      "source": [
        "plt.plot(history[:,0], history[:,1], 'b')\n",
        "plt.xlabel('반복 횟수')\n",
        "plt.ylabel('손실')\n",
        "plt.title('학습 곡선(손실)')\n",
        "plt.show()"
      ],
      "execution_count": null,
      "outputs": []
    }
  ]
}